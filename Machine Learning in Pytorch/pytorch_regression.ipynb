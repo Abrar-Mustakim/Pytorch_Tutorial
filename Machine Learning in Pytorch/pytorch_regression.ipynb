{
 "cells": [
  {
   "cell_type": "code",
   "execution_count": 1,
   "metadata": {},
   "outputs": [],
   "source": [
    "import torch"
   ]
  },
  {
   "cell_type": "code",
   "execution_count": 2,
   "metadata": {},
   "outputs": [
    {
     "name": "stdout",
     "output_type": "stream",
     "text": [
      "True\n"
     ]
    }
   ],
   "source": [
    "import numpy as np\n",
    "import torch\n",
    "print(torch.cuda.is_available())\n"
   ]
  },
  {
   "cell_type": "code",
   "execution_count": 3,
   "metadata": {},
   "outputs": [
    {
     "data": {
      "text/plain": [
       "'d:\\\\PYTORCH for AI & ML\\\\Machine Learning in Pytorch'"
      ]
     },
     "execution_count": 3,
     "metadata": {},
     "output_type": "execute_result"
    }
   ],
   "source": [
    "pwd"
   ]
  },
  {
   "cell_type": "code",
   "execution_count": 4,
   "metadata": {},
   "outputs": [],
   "source": [
    "import torch \n",
    "from torch import nn\n",
    "import numpy as np \n",
    "import matplotlib.pyplot as plt "
   ]
  },
  {
   "cell_type": "code",
   "execution_count": 5,
   "metadata": {},
   "outputs": [],
   "source": [
    "#Prepare data randomly\n",
    "N=20\n",
    "X = np.random.random(N) * 10 -5\n",
    "\n",
    "Y = 0.5 * X - 1 + np.random.random(N)"
   ]
  },
  {
   "cell_type": "code",
   "execution_count": 6,
   "metadata": {},
   "outputs": [
    {
     "name": "stdout",
     "output_type": "stream",
     "text": [
      "[ 1.45203182  4.07343267  2.57238152  2.77184652  1.9873441  -3.7457715\n",
      "  1.87332547 -1.68238026  0.38855902 -4.30508658 -4.00731418  4.98200736\n",
      " -3.70079278 -1.80433885 -0.61811317 -0.50333842  1.90114696 -0.09574708\n",
      "  0.48410153  4.46864811]\n",
      "[-0.04619568  1.9458034   1.07766148  1.30010361  0.75399517 -2.05699152\n",
      "  0.38354763 -1.27884963 -0.2085403  -2.90331334 -2.39306515  2.04704875\n",
      " -2.47043107 -1.14087701 -0.81734705 -0.76602905  0.35005175 -0.12031155\n",
      " -0.2895892   1.98298344]\n"
     ]
    }
   ],
   "source": [
    "print(X)\n",
    "print(Y)"
   ]
  },
  {
   "cell_type": "code",
   "execution_count": 7,
   "metadata": {},
   "outputs": [
    {
     "data": {
      "text/plain": [
       "<matplotlib.collections.PathCollection at 0x14506cd4af0>"
      ]
     },
     "execution_count": 7,
     "metadata": {},
     "output_type": "execute_result"
    },
    {
     "data": {
      "image/png": "[encoded data removed]",
      "text/plain": [
       "<Figure size 640x480 with 1 Axes>"
      ]
     },
     "metadata": {},
     "output_type": "display_data"
    }
   ],
   "source": [
    "plt.scatter(X, Y)"
   ]
  },
  {
   "cell_type": "code",
   "execution_count": 8,
   "metadata": {},
   "outputs": [],
   "source": [
    "#reshape the array according to our training model which will be 1 input and 1 output\n",
    "X = X.reshape(N, 1)\n",
    "Y = Y.reshape(N, 1)"
   ]
  },
  {
   "cell_type": "code",
   "execution_count": 9,
   "metadata": {},
   "outputs": [
    {
     "name": "stdout",
     "output_type": "stream",
     "text": [
      "[[ 1.45203182]\n",
      " [ 4.07343267]\n",
      " [ 2.57238152]\n",
      " [ 2.77184652]\n",
      " [ 1.9873441 ]\n",
      " [-3.7457715 ]\n",
      " [ 1.87332547]\n",
      " [-1.68238026]\n",
      " [ 0.38855902]\n",
      " [-4.30508658]\n",
      " [-4.00731418]\n",
      " [ 4.98200736]\n",
      " [-3.70079278]\n",
      " [-1.80433885]\n",
      " [-0.61811317]\n",
      " [-0.50333842]\n",
      " [ 1.90114696]\n",
      " [-0.09574708]\n",
      " [ 0.48410153]\n",
      " [ 4.46864811]]\n",
      "[[-0.04619568]\n",
      " [ 1.9458034 ]\n",
      " [ 1.07766148]\n",
      " [ 1.30010361]\n",
      " [ 0.75399517]\n",
      " [-2.05699152]\n",
      " [ 0.38354763]\n",
      " [-1.27884963]\n",
      " [-0.2085403 ]\n",
      " [-2.90331334]\n",
      " [-2.39306515]\n",
      " [ 2.04704875]\n",
      " [-2.47043107]\n",
      " [-1.14087701]\n",
      " [-0.81734705]\n",
      " [-0.76602905]\n",
      " [ 0.35005175]\n",
      " [-0.12031155]\n",
      " [-0.2895892 ]\n",
      " [ 1.98298344]]\n"
     ]
    }
   ],
   "source": [
    "print(X)\n",
    "print(Y)"
   ]
  },
  {
   "cell_type": "code",
   "execution_count": 10,
   "metadata": {},
   "outputs": [],
   "source": [
    "#Convert the input and label data for Pytorch(From Numpy to Tensor) as Pytorch only train tensor array\n",
    "#First we have to make the array in float 32 as numpy sets the data type default 64 bit\n",
    "inputs = torch.from_numpy(X.astype(np.float32))\n",
    "targets = torch.from_numpy(Y.astype(np.float32))"
   ]
  },
  {
   "cell_type": "code",
   "execution_count": 12,
   "metadata": {},
   "outputs": [
    {
     "name": "stdout",
     "output_type": "stream",
     "text": [
      "tensor([[ 1.4520],\n",
      "        [ 4.0734],\n",
      "        [ 2.5724],\n",
      "        [ 2.7718],\n",
      "        [ 1.9873],\n",
      "        [-3.7458],\n",
      "        [ 1.8733],\n",
      "        [-1.6824],\n",
      "        [ 0.3886],\n",
      "        [-4.3051],\n",
      "        [-4.0073],\n",
      "        [ 4.9820],\n",
      "        [-3.7008],\n",
      "        [-1.8043],\n",
      "        [-0.6181],\n",
      "        [-0.5033],\n",
      "        [ 1.9011],\n",
      "        [-0.0957],\n",
      "        [ 0.4841],\n",
      "        [ 4.4686]])\n",
      "tensor([[-0.0462],\n",
      "        [ 1.9458],\n",
      "        [ 1.0777],\n",
      "        [ 1.3001],\n",
      "        [ 0.7540],\n",
      "        [-2.0570],\n",
      "        [ 0.3835],\n",
      "        [-1.2788],\n",
      "        [-0.2085],\n",
      "        [-2.9033],\n",
      "        [-2.3931],\n",
      "        [ 2.0470],\n",
      "        [-2.4704],\n",
      "        [-1.1409],\n",
      "        [-0.8173],\n",
      "        [-0.7660],\n",
      "        [ 0.3501],\n",
      "        [-0.1203],\n",
      "        [-0.2896],\n",
      "        [ 1.9830]])\n"
     ]
    }
   ],
   "source": [
    "print(inputs)\n",
    "print(targets)"
   ]
  },
  {
   "cell_type": "code",
   "execution_count": 13,
   "metadata": {},
   "outputs": [],
   "source": [
    "#create the model\n",
    "#Linear regression model \n",
    "model = nn.Linear(1, 1)"
   ]
  },
  {
   "cell_type": "code",
   "execution_count": 15,
   "metadata": {},
   "outputs": [],
   "source": [
    "#Call the optimizers\n",
    "\n",
    "criterion = nn.MSELoss()\n",
    "optimizer = torch.optim.SGD(model.parameters(), lr=0.01)"
   ]
  },
  {
   "cell_type": "code",
   "execution_count": 16,
   "metadata": {},
   "outputs": [
    {
     "name": "stdout",
     "output_type": "stream",
     "text": [
      "Epochs: 0 / 100, Loss: 0.3592\n",
      "Epochs: 1 / 100, Loss: 0.3040\n",
      "Epochs: 2 / 100, Loss: 0.2635\n",
      "Epochs: 3 / 100, Loss: 0.2334\n",
      "Epochs: 4 / 100, Loss: 0.2107\n",
      "Epochs: 5 / 100, Loss: 0.1933\n",
      "Epochs: 6 / 100, Loss: 0.1797\n",
      "Epochs: 7 / 100, Loss: 0.1689\n",
      "Epochs: 8 / 100, Loss: 0.1601\n",
      "Epochs: 9 / 100, Loss: 0.1527\n",
      "Epochs: 10 / 100, Loss: 0.1464\n",
      "Epochs: 11 / 100, Loss: 0.1409\n",
      "Epochs: 12 / 100, Loss: 0.1360\n",
      "Epochs: 13 / 100, Loss: 0.1316\n",
      "Epochs: 14 / 100, Loss: 0.1276\n",
      "Epochs: 15 / 100, Loss: 0.1238\n",
      "Epochs: 16 / 100, Loss: 0.1203\n",
      "Epochs: 17 / 100, Loss: 0.1170\n",
      "Epochs: 18 / 100, Loss: 0.1139\n",
      "Epochs: 19 / 100, Loss: 0.1109\n",
      "Epochs: 20 / 100, Loss: 0.1081\n",
      "Epochs: 21 / 100, Loss: 0.1054\n",
      "Epochs: 22 / 100, Loss: 0.1028\n",
      "Epochs: 23 / 100, Loss: 0.1004\n",
      "Epochs: 24 / 100, Loss: 0.0980\n",
      "Epochs: 25 / 100, Loss: 0.0957\n",
      "Epochs: 26 / 100, Loss: 0.0936\n",
      "Epochs: 27 / 100, Loss: 0.0915\n",
      "Epochs: 28 / 100, Loss: 0.0895\n",
      "Epochs: 29 / 100, Loss: 0.0875\n",
      "Epochs: 30 / 100, Loss: 0.0857\n",
      "Epochs: 31 / 100, Loss: 0.0839\n",
      "Epochs: 32 / 100, Loss: 0.0822\n",
      "Epochs: 33 / 100, Loss: 0.0806\n",
      "Epochs: 34 / 100, Loss: 0.0790\n",
      "Epochs: 35 / 100, Loss: 0.0775\n",
      "Epochs: 36 / 100, Loss: 0.0760\n",
      "Epochs: 37 / 100, Loss: 0.0746\n",
      "Epochs: 38 / 100, Loss: 0.0733\n",
      "Epochs: 39 / 100, Loss: 0.0720\n",
      "Epochs: 40 / 100, Loss: 0.0707\n",
      "Epochs: 41 / 100, Loss: 0.0695\n",
      "Epochs: 42 / 100, Loss: 0.0684\n",
      "Epochs: 43 / 100, Loss: 0.0673\n",
      "Epochs: 44 / 100, Loss: 0.0662\n",
      "Epochs: 45 / 100, Loss: 0.0652\n",
      "Epochs: 46 / 100, Loss: 0.0642\n",
      "Epochs: 47 / 100, Loss: 0.0633\n",
      "Epochs: 48 / 100, Loss: 0.0624\n",
      "Epochs: 49 / 100, Loss: 0.0615\n",
      "Epochs: 50 / 100, Loss: 0.0607\n",
      "Epochs: 51 / 100, Loss: 0.0599\n",
      "Epochs: 52 / 100, Loss: 0.0591\n",
      "Epochs: 53 / 100, Loss: 0.0584\n",
      "Epochs: 54 / 100, Loss: 0.0577\n",
      "Epochs: 55 / 100, Loss: 0.0570\n",
      "Epochs: 56 / 100, Loss: 0.0563\n",
      "Epochs: 57 / 100, Loss: 0.0557\n",
      "Epochs: 58 / 100, Loss: 0.0551\n",
      "Epochs: 59 / 100, Loss: 0.0545\n",
      "Epochs: 60 / 100, Loss: 0.0539\n",
      "Epochs: 61 / 100, Loss: 0.0534\n",
      "Epochs: 62 / 100, Loss: 0.0529\n",
      "Epochs: 63 / 100, Loss: 0.0524\n",
      "Epochs: 64 / 100, Loss: 0.0519\n",
      "Epochs: 65 / 100, Loss: 0.0514\n",
      "Epochs: 66 / 100, Loss: 0.0510\n",
      "Epochs: 67 / 100, Loss: 0.0506\n",
      "Epochs: 68 / 100, Loss: 0.0502\n",
      "Epochs: 69 / 100, Loss: 0.0498\n",
      "Epochs: 70 / 100, Loss: 0.0494\n",
      "Epochs: 71 / 100, Loss: 0.0490\n",
      "Epochs: 72 / 100, Loss: 0.0487\n",
      "Epochs: 73 / 100, Loss: 0.0484\n",
      "Epochs: 74 / 100, Loss: 0.0480\n",
      "Epochs: 75 / 100, Loss: 0.0477\n",
      "Epochs: 76 / 100, Loss: 0.0474\n",
      "Epochs: 77 / 100, Loss: 0.0471\n",
      "Epochs: 78 / 100, Loss: 0.0469\n",
      "Epochs: 79 / 100, Loss: 0.0466\n",
      "Epochs: 80 / 100, Loss: 0.0464\n",
      "Epochs: 81 / 100, Loss: 0.0461\n",
      "Epochs: 82 / 100, Loss: 0.0459\n",
      "Epochs: 83 / 100, Loss: 0.0457\n",
      "Epochs: 84 / 100, Loss: 0.0454\n",
      "Epochs: 85 / 100, Loss: 0.0452\n",
      "Epochs: 86 / 100, Loss: 0.0450\n",
      "Epochs: 87 / 100, Loss: 0.0448\n",
      "Epochs: 88 / 100, Loss: 0.0447\n",
      "Epochs: 89 / 100, Loss: 0.0445\n",
      "Epochs: 90 / 100, Loss: 0.0443\n",
      "Epochs: 91 / 100, Loss: 0.0442\n",
      "Epochs: 92 / 100, Loss: 0.0440\n",
      "Epochs: 93 / 100, Loss: 0.0438\n",
      "Epochs: 94 / 100, Loss: 0.0437\n",
      "Epochs: 95 / 100, Loss: 0.0436\n",
      "Epochs: 96 / 100, Loss: 0.0434\n",
      "Epochs: 97 / 100, Loss: 0.0433\n",
      "Epochs: 98 / 100, Loss: 0.0432\n",
      "Epochs: 99 / 100, Loss: 0.0431\n"
     ]
    }
   ],
   "source": [
    "#Custom Loop Training\n",
    "n_epochs = 100\n",
    "losses=[]\n",
    "for i in range(n_epochs):\n",
    "    #to make the parameters zero to avoid errors\n",
    "    optimizer.zero_grad()\n",
    "\n",
    "    #training\n",
    "    outputs = model(inputs)\n",
    "    loss = criterion(outputs, targets)\n",
    "    losses.append(loss.item())\n",
    "\n",
    "    #backprop\n",
    "    loss.backward()\n",
    "    optimizer.step()\n",
    "\n",
    "    print(f\"Epochs: {i} / {n_epochs}, Loss: {loss.item():.4f}\")"
   ]
  },
  {
   "cell_type": "code",
   "execution_count": 19,
   "metadata": {},
   "outputs": [
    {
     "data": {
      "text/plain": [
       "Text(0, 0.5, 'Mean Squared Error')"
      ]
     },
     "execution_count": 19,
     "metadata": {},
     "output_type": "execute_result"
    },
    {
     "data": {
      "image/png": "[encoded data removed]",
      "text/plain": [
       "<Figure size 640x480 with 1 Axes>"
      ]
     },
     "metadata": {},
     "output_type": "display_data"
    }
   ],
   "source": [
    "plt.plot(losses)\n",
    "plt.xlabel(\"Epochs\")\n",
    "plt.ylabel(\"Mean Squared Error\")"
   ]
  },
  {
   "cell_type": "code",
   "execution_count": 20,
   "metadata": {},
   "outputs": [
    {
     "data": {
      "image/png": "[encoded data removed]",
      "text/plain": [
       "<Figure size 640x480 with 1 Axes>"
      ]
     },
     "metadata": {},
     "output_type": "display_data"
    }
   ],
   "source": [
    "#convert the output tensor array to numpy for plotting\n",
    "predictions = model(inputs).detach().numpy()\n",
    "plt.scatter(X, Y, label=\"Original Data\")\n",
    "plt.plot(X, predictions, label=\"Predicted Data\")\n",
    "plt.legend()\n",
    "plt.show()"
   ]
  },
  {
   "cell_type": "code",
   "execution_count": 21,
   "metadata": {},
   "outputs": [
    {
     "data": {
      "text/plain": [
       "array([[ 0.3061241 ],\n",
       "       [ 1.6807451 ],\n",
       "       [ 0.8936177 ],\n",
       "       [ 0.99821407],\n",
       "       [ 0.5868334 ],\n",
       "       [-2.4195218 ],\n",
       "       [ 0.5270438 ],\n",
       "       [-1.3375121 ],\n",
       "       [-0.2515443 ],\n",
       "       [-2.712818  ],\n",
       "       [-2.5566707 ],\n",
       "       [ 2.1571877 ],\n",
       "       [-2.3959358 ],\n",
       "       [-1.4014652 ],\n",
       "       [-0.7794273 ],\n",
       "       [-0.71924114],\n",
       "       [ 0.54163295],\n",
       "       [-0.50550675],\n",
       "       [-0.20144328],\n",
       "       [ 1.88799   ]], dtype=float32)"
      ]
     },
     "execution_count": 21,
     "metadata": {},
     "output_type": "execute_result"
    }
   ],
   "source": [
    "#Another way to convert tensor to numpy \n",
    "\n",
    "with torch.no_grad():\n",
    "    out = model(inputs).numpy()\n",
    "out   "
   ]
  },
  {
   "cell_type": "code",
   "execution_count": 23,
   "metadata": {},
   "outputs": [
    {
     "name": "stdout",
     "output_type": "stream",
     "text": [
      "Weights: [[0.5243842]]\n",
      "Bias: [-0.45529848]\n"
     ]
    }
   ],
   "source": [
    "w = model.weight.data.numpy()\n",
    "print(f\"Weights: {w}\")\n",
    "b = model.bias.data.numpy()\n",
    "print(f\"Bias: {b}\")"
   ]
  },
  {
   "cell_type": "code",
   "execution_count": 24,
   "metadata": {},
   "outputs": [
    {
     "name": "stdout",
     "output_type": "stream",
     "text": [
      "Tue Nov  1 22:04:41 2022       \n",
      "+-----------------------------------------------------------------------------+\n",
      "| NVIDIA-SMI 522.25       Driver Version: 522.25       CUDA Version: 11.8     |\n",
      "|-------------------------------+----------------------+----------------------+\n",
      "| GPU  Name            TCC/WDDM | Bus-Id        Disp.A | Volatile Uncorr. ECC |\n",
      "| Fan  Temp  Perf  Pwr:Usage/Cap|         Memory-Usage | GPU-Util  Compute M. |\n",
      "|                               |                      |               MIG M. |\n",
      "|===============================+======================+======================|\n",
      "|   0  NVIDIA GeForce ... WDDM  | 00000000:0A:00.0 Off |                  N/A |\n",
      "| N/A    0C    P0    N/A /  N/A |      0MiB /  2048MiB |      0%      Default |\n",
      "|                               |                      |                  N/A |\n",
      "+-------------------------------+----------------------+----------------------+\n",
      "                                                                               \n",
      "+-----------------------------------------------------------------------------+\n",
      "| Processes:                                                                  |\n",
      "|  GPU   GI   CI        PID   Type   Process name                  GPU Memory |\n",
      "|        ID   ID                                                   Usage      |\n",
      "|=============================================================================|\n",
      "|  No running processes found                                                 |\n",
      "+-----------------------------------------------------------------------------+\n"
     ]
    }
   ],
   "source": [
    "!nvidia-smi "
   ]
  }
 ],
 "metadata": {
  "kernelspec": {
   "display_name": "PYTORCH GPU",
   "language": "python",
   "name": "pytorch"
  },
  "language_info": {
   "codemirror_mode": {
    "name": "ipython",
    "version": 3
   },
   "file_extension": ".py",
   "mimetype": "text/x-python",
   "name": "python",
   "nbconvert_exporter": "python",
   "pygments_lexer": "ipython3",
   "version": "3.9.13"
  },
  "orig_nbformat": 4
 },
 "nbformat": 4,
 "nbformat_minor": 2
}
