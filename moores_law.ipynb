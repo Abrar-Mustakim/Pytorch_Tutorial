{
  "nbformat": 4,
  "nbformat_minor": 0,
  "metadata": {
    "colab": {
      "provenance": [],
      "collapsed_sections": []
    },
    "kernelspec": {
      "name": "python3",
      "display_name": "Python 3"
    },
    "language_info": {
      "name": "python"
    }
  },
  "cells": [
    {
      "cell_type": "code",
      "execution_count": 1,
      "metadata": {
        "id": "5xnR6bSiAA2-"
      },
      "outputs": [],
      "source": [
        "import torch\n",
        "from torch import nn\n",
        "import numpy as np\n",
        "import matplotlib.pyplot as plt\n",
        "import pandas as pd"
      ]
    },
    {
      "cell_type": "code",
      "source": [
        "!git clone https://github.com/lazyprogrammer/machine_learning_examples.git"
      ],
      "metadata": {
        "colab": {
          "base_uri": "https://localhost:8080/"
        },
        "id": "tfT7G4XvPP0I",
        "outputId": "38a6111c-833c-447e-8047-4dc5f33431a8"
      },
      "execution_count": 2,
      "outputs": [
        {
          "output_type": "stream",
          "name": "stdout",
          "text": [
            "fatal: destination path 'machine_learning_examples' already exists and is not an empty directory.\n"
          ]
        }
      ]
    },
    {
      "cell_type": "code",
      "source": [
        "df = pd.read_csv(\"/content/machine_learning_examples/tf2.0/moore.csv\", header=None).values"
      ],
      "metadata": {
        "id": "MxPlQiz-PZ7k"
      },
      "execution_count": 3,
      "outputs": []
    },
    {
      "cell_type": "code",
      "source": [
        "df"
      ],
      "metadata": {
        "colab": {
          "base_uri": "https://localhost:8080/"
        },
        "id": "GMup8cyjP9-8",
        "outputId": "539d0a3d-92c5-4ee0-ca77-19551b5bbce0"
      },
      "execution_count": 4,
      "outputs": [
        {
          "output_type": "execute_result",
          "data": {
            "text/plain": [
              "array([[       1971,        2300],\n",
              "       [       1972,        3500],\n",
              "       [       1973,        2500],\n",
              "       [       1973,        2500],\n",
              "       [       1974,        4100],\n",
              "       [       1974,        4500],\n",
              "       [       1974,        8000],\n",
              "       [       1975,        3510],\n",
              "       [       1976,        5000],\n",
              "       [       1976,        8500],\n",
              "       [       1976,        6500],\n",
              "       [       1978,        9000],\n",
              "       [       1978,       29000],\n",
              "       [       1979,       17500],\n",
              "       [       1979,       29000],\n",
              "       [       1979,       68000],\n",
              "       [       1981,       11500],\n",
              "       [       1982,       55000],\n",
              "       [       1982,      134000],\n",
              "       [       1983,       22000],\n",
              "       [       1984,       63000],\n",
              "       [       1984,      190000],\n",
              "       [       1985,      275000],\n",
              "       [       1985,       25000],\n",
              "       [       1985,       16000],\n",
              "       [       1986,      110000],\n",
              "       [       1986,      375000],\n",
              "       [       1986,       30000],\n",
              "       [       1987,      385000],\n",
              "       [       1987,      730000],\n",
              "       [       1987,      273000],\n",
              "       [       1987,      553000],\n",
              "       [       1988,      180000],\n",
              "       [       1988,      250000],\n",
              "       [       1989,      600000],\n",
              "       [       1989,     1000000],\n",
              "       [       1989,     1180235],\n",
              "       [       1989,      310000],\n",
              "       [       1990,     1200000],\n",
              "       [       1991,     1350000],\n",
              "       [       1991,       35000],\n",
              "       [       1992,      600000],\n",
              "       [       1992,      900000],\n",
              "       [       1993,     2800000],\n",
              "       [       1993,     3100000],\n",
              "       [       1994,      578977],\n",
              "       [       1994,     2500000],\n",
              "       [       1995,     2500000],\n",
              "       [       1999,      111000],\n",
              "       [       1995,     5500000],\n",
              "       [       1996,     4300000],\n",
              "       [       1997,    10000000],\n",
              "       [       1997,     7500000],\n",
              "       [       1997,     8800000],\n",
              "       [       1998,     7500000],\n",
              "       [       1999,     9500000],\n",
              "       [       1999,    13500000],\n",
              "       [       2000,    21000000],\n",
              "       [       2000,    21000000],\n",
              "       [       1999,    27400000],\n",
              "       [       1999,    21300000],\n",
              "       [       1999,    22000000],\n",
              "       [       2000,    42000000],\n",
              "       [       2001,   191000000],\n",
              "       [       2001,    45000000],\n",
              "       [       2002,    55000000],\n",
              "       [       2004,   112000000],\n",
              "       [       2004,   400000000],\n",
              "       [       2005,   169000000],\n",
              "       [       2006,   184000000],\n",
              "       [       2005,   228000000],\n",
              "       [       2006,   362000000],\n",
              "       [       2007,   540000000],\n",
              "       [       2008,    47000000],\n",
              "       [       2003,    54300000],\n",
              "       [       2003,   105900000],\n",
              "       [       2002,   220000000],\n",
              "       [       2005,   165000000],\n",
              "       [       2005,   250000000],\n",
              "       [       2006,   291000000],\n",
              "       [       2007,   169000000],\n",
              "       [       2003,   410000000],\n",
              "       [       2008,   600000000],\n",
              "       [       2009,   760000000],\n",
              "       [       2011,  1870000000],\n",
              "       [       2012,   432000000],\n",
              "       [       2007,   463000000],\n",
              "       [       2007,    26000000],\n",
              "       [       2008,   230000000],\n",
              "       [       2004,   592000000],\n",
              "       [       2007,   411000000],\n",
              "       [       2008,   731000000],\n",
              "       [       2008,   758000000],\n",
              "       [       2007,   789000000],\n",
              "       [       2009,   904000000],\n",
              "       [       2010,  1000000000],\n",
              "       [       2012,  2990000000],\n",
              "       [       2013,  1000000000],\n",
              "       [       2011,  1160000000],\n",
              "       [       2010,  1170000000],\n",
              "       [       2010,  1200000000],\n",
              "       [       2012,  1200000000],\n",
              "       [       2012,  1303000000],\n",
              "       [       2010,  1400000000],\n",
              "       [       2012,  1400000000],\n",
              "       [       2014,  1400000000],\n",
              "       [       2006,  1700000000],\n",
              "       [       2015,  1750000000],\n",
              "       [       2013,  1860000000],\n",
              "       [       2015,  1900000000],\n",
              "       [       2008,  1900000000],\n",
              "       [       2010,  2000000000],\n",
              "       [       2014,  2000000000],\n",
              "       [       2015,  2000000000],\n",
              "       [       2015,  3000000000],\n",
              "       [       2012,  2100000000],\n",
              "       [       2011,  2270000000],\n",
              "       [       2010,  2300000000],\n",
              "       [       2014,  2600000000],\n",
              "       [       2011,  2600000000],\n",
              "       [       2012,  2750000000],\n",
              "       [       2014,  3000000000],\n",
              "       [       2016,  3000000000],\n",
              "       [       2017,  5300000000],\n",
              "       [       2017,  5300000000],\n",
              "       [       2018,  8500000000],\n",
              "       [       2012,  3100000000],\n",
              "       [       2016,  3200000000],\n",
              "       [       2016,  3300000000],\n",
              "       [       2015,  3990000000],\n",
              "       [       2013,  4200000000],\n",
              "       [       2017,  4300000000],\n",
              "       [       2014,  4310000000],\n",
              "       [       2017,  4800000000],\n",
              "       [       2017,  4800000000],\n",
              "       [       2017,  4800000000],\n",
              "       [       2012,  5000000000],\n",
              "       [       2013,  5000000000],\n",
              "       [       2014,  5560000000],\n",
              "       [       2017,  6100000000],\n",
              "       [       2018,  6900000000],\n",
              "       [       2016,  4000000000],\n",
              "       [       2018,  6900000000],\n",
              "       [       2017,  5500000000],\n",
              "       [       2018,  5500000000],\n",
              "       [       2017,  7000000000],\n",
              "       [       2015,  7100000000],\n",
              "       [       2017,  8000000000],\n",
              "       [       2016,  7200000000],\n",
              "       [       2017,  8000000000],\n",
              "       [       2016,  8000000000],\n",
              "       [       2017,  9700000000],\n",
              "       [       2017,   250000000],\n",
              "       [       2015, 10000000000],\n",
              "       [       2017,  5450000000],\n",
              "       [       2018, 10000000000],\n",
              "       [       2017,  4300000000],\n",
              "       [       2017, 18000000000],\n",
              "       [       2017, 19200000000],\n",
              "       [       2018,  8876000000],\n",
              "       [       2018, 23600000000],\n",
              "       [       2018,  9000000000]])"
            ]
          },
          "metadata": {},
          "execution_count": 4
        }
      ]
    },
    {
      "cell_type": "code",
      "source": [
        "X = df[:, 0].reshape(-1, 1)\n",
        "Y = df[:, 1].reshape(-1, 1)"
      ],
      "metadata": {
        "id": "JptqEzSMP-03"
      },
      "execution_count": 5,
      "outputs": []
    },
    {
      "cell_type": "code",
      "source": [
        "plt.scatter(X, Y)"
      ],
      "metadata": {
        "colab": {
          "base_uri": "https://localhost:8080/",
          "height": 293
        },
        "id": "IYWhC8IuQ4_m",
        "outputId": "66468c25-a9d9-40fc-a404-a5cee440c8ee"
      },
      "execution_count": 6,
      "outputs": [
        {
          "output_type": "execute_result",
          "data": {
            "text/plain": [
              "<matplotlib.collections.PathCollection at 0x7f4b80f6b350>"
            ]
          },
          "metadata": {},
          "execution_count": 6
        },
        {
          "output_type": "display_data",
          "data": {
            "text/plain": [
              "<Figure size 432x288 with 1 Axes>"
            ],
            "image/png": "[encoded data removed]"
          },
          "metadata": {
            "needs_background": "light"
          }
        }
      ]
    },
    {
      "cell_type": "code",
      "source": [
        "mx = X.mean()\n",
        "sx = X.std()\n",
        "my = Y.mean()\n",
        "sy = Y.std()\n",
        "\n",
        "X = (X-mx)/sx\n",
        "\n",
        "Y = (Y-my)/sy"
      ],
      "metadata": {
        "id": "qMPbHB2oQ6j9"
      },
      "execution_count": 7,
      "outputs": []
    },
    {
      "cell_type": "code",
      "source": [
        "plt.scatter(X, Y)"
      ],
      "metadata": {
        "colab": {
          "base_uri": "https://localhost:8080/",
          "height": 282
        },
        "id": "O6n40JYkRGzE",
        "outputId": "3edf0c91-0ef9-4c94-a6e0-668a5a078797"
      },
      "execution_count": 8,
      "outputs": [
        {
          "output_type": "execute_result",
          "data": {
            "text/plain": [
              "<matplotlib.collections.PathCollection at 0x7f4b80f43ad0>"
            ]
          },
          "metadata": {},
          "execution_count": 8
        },
        {
          "output_type": "display_data",
          "data": {
            "text/plain": [
              "<Figure size 432x288 with 1 Axes>"
            ],
            "image/png": "[encoded data removed]"
          },
          "metadata": {
            "needs_background": "light"
          }
        }
      ]
    },
    {
      "cell_type": "code",
      "source": [
        "X = X.astype(np.float32)\n",
        "Y = Y.astype(np.float32)"
      ],
      "metadata": {
        "id": "D-9RZt3tRKe3"
      },
      "execution_count": 9,
      "outputs": []
    },
    {
      "cell_type": "code",
      "source": [
        "model = nn.Linear(1, 1)"
      ],
      "metadata": {
        "id": "ls5lD6HrRVCE"
      },
      "execution_count": 10,
      "outputs": []
    },
    {
      "cell_type": "code",
      "source": [
        "criterion = nn.MSELoss()\n",
        "optimizer = torch.optim.SGD(model.parameters(), lr=0.01, momentum=0.7)"
      ],
      "metadata": {
        "id": "oWB1gkrxRhk_"
      },
      "execution_count": 11,
      "outputs": []
    },
    {
      "cell_type": "code",
      "source": [
        "inputs = torch.from_numpy(X)\n",
        "targets = torch.from_numpy(Y)"
      ],
      "metadata": {
        "id": "HgpQ8jOlSjZk"
      },
      "execution_count": 12,
      "outputs": []
    },
    {
      "cell_type": "code",
      "source": [
        "type(inputs)"
      ],
      "metadata": {
        "colab": {
          "base_uri": "https://localhost:8080/"
        },
        "id": "v4hbdKBKSsjA",
        "outputId": "d0db554a-8f9f-4d53-eaa7-4316fbcb0a76"
      },
      "execution_count": 13,
      "outputs": [
        {
          "output_type": "execute_result",
          "data": {
            "text/plain": [
              "torch.Tensor"
            ]
          },
          "metadata": {},
          "execution_count": 13
        }
      ]
    },
    {
      "cell_type": "code",
      "source": [
        "n_epochs=100\n",
        "Losses = []\n",
        "for i in range(n_epochs):\n",
        "  optimizer.zero_grad()\n",
        "  #Froward propagation\n",
        "  outputs = model(inputs)\n",
        "\n",
        "  loss=criterion(outputs, targets)\n",
        "  Losses.append(loss.item())\n",
        "  #Back Propagation\n",
        "  loss.backward()\n",
        "  optimizer.step()\n",
        "\n",
        "  print(f\"Epochs {i+1}/{n_epochs}, Loss: {loss.item():.4f}\")\n"
      ],
      "metadata": {
        "colab": {
          "base_uri": "https://localhost:8080/"
        },
        "id": "6-hBIxknStzt",
        "outputId": "36404ff1-d3ad-4522-cb49-2951bc1b4bfd"
      },
      "execution_count": 14,
      "outputs": [
        {
          "output_type": "stream",
          "name": "stdout",
          "text": [
            "Epochs 1/100, Loss: 1.1948\n",
            "Epochs 2/100, Loss: 1.1740\n",
            "Epochs 3/100, Loss: 1.1400\n",
            "Epochs 4/100, Loss: 1.0987\n",
            "Epochs 5/100, Loss: 1.0544\n",
            "Epochs 6/100, Loss: 1.0102\n",
            "Epochs 7/100, Loss: 0.9680\n",
            "Epochs 8/100, Loss: 0.9288\n",
            "Epochs 9/100, Loss: 0.8933\n",
            "Epochs 10/100, Loss: 0.8615\n",
            "Epochs 11/100, Loss: 0.8336\n",
            "Epochs 12/100, Loss: 0.8092\n",
            "Epochs 13/100, Loss: 0.7880\n",
            "Epochs 14/100, Loss: 0.7698\n",
            "Epochs 15/100, Loss: 0.7542\n",
            "Epochs 16/100, Loss: 0.7409\n",
            "Epochs 17/100, Loss: 0.7296\n",
            "Epochs 18/100, Loss: 0.7200\n",
            "Epochs 19/100, Loss: 0.7119\n",
            "Epochs 20/100, Loss: 0.7051\n",
            "Epochs 21/100, Loss: 0.6993\n",
            "Epochs 22/100, Loss: 0.6944\n",
            "Epochs 23/100, Loss: 0.6903\n",
            "Epochs 24/100, Loss: 0.6869\n",
            "Epochs 25/100, Loss: 0.6840\n",
            "Epochs 26/100, Loss: 0.6816\n",
            "Epochs 27/100, Loss: 0.6795\n",
            "Epochs 28/100, Loss: 0.6778\n",
            "Epochs 29/100, Loss: 0.6764\n",
            "Epochs 30/100, Loss: 0.6752\n",
            "Epochs 31/100, Loss: 0.6742\n",
            "Epochs 32/100, Loss: 0.6734\n",
            "Epochs 33/100, Loss: 0.6726\n",
            "Epochs 34/100, Loss: 0.6721\n",
            "Epochs 35/100, Loss: 0.6716\n",
            "Epochs 36/100, Loss: 0.6711\n",
            "Epochs 37/100, Loss: 0.6708\n",
            "Epochs 38/100, Loss: 0.6705\n",
            "Epochs 39/100, Loss: 0.6703\n",
            "Epochs 40/100, Loss: 0.6701\n",
            "Epochs 41/100, Loss: 0.6699\n",
            "Epochs 42/100, Loss: 0.6697\n",
            "Epochs 43/100, Loss: 0.6696\n",
            "Epochs 44/100, Loss: 0.6695\n",
            "Epochs 45/100, Loss: 0.6694\n",
            "Epochs 46/100, Loss: 0.6694\n",
            "Epochs 47/100, Loss: 0.6693\n",
            "Epochs 48/100, Loss: 0.6693\n",
            "Epochs 49/100, Loss: 0.6692\n",
            "Epochs 50/100, Loss: 0.6692\n",
            "Epochs 51/100, Loss: 0.6692\n",
            "Epochs 52/100, Loss: 0.6691\n",
            "Epochs 53/100, Loss: 0.6691\n",
            "Epochs 54/100, Loss: 0.6691\n",
            "Epochs 55/100, Loss: 0.6691\n",
            "Epochs 56/100, Loss: 0.6691\n",
            "Epochs 57/100, Loss: 0.6691\n",
            "Epochs 58/100, Loss: 0.6691\n",
            "Epochs 59/100, Loss: 0.6691\n",
            "Epochs 60/100, Loss: 0.6690\n",
            "Epochs 61/100, Loss: 0.6690\n",
            "Epochs 62/100, Loss: 0.6690\n",
            "Epochs 63/100, Loss: 0.6690\n",
            "Epochs 64/100, Loss: 0.6690\n",
            "Epochs 65/100, Loss: 0.6690\n",
            "Epochs 66/100, Loss: 0.6690\n",
            "Epochs 67/100, Loss: 0.6690\n",
            "Epochs 68/100, Loss: 0.6690\n",
            "Epochs 69/100, Loss: 0.6690\n",
            "Epochs 70/100, Loss: 0.6690\n",
            "Epochs 71/100, Loss: 0.6690\n",
            "Epochs 72/100, Loss: 0.6690\n",
            "Epochs 73/100, Loss: 0.6690\n",
            "Epochs 74/100, Loss: 0.6690\n",
            "Epochs 75/100, Loss: 0.6690\n",
            "Epochs 76/100, Loss: 0.6690\n",
            "Epochs 77/100, Loss: 0.6690\n",
            "Epochs 78/100, Loss: 0.6690\n",
            "Epochs 79/100, Loss: 0.6690\n",
            "Epochs 80/100, Loss: 0.6690\n",
            "Epochs 81/100, Loss: 0.6690\n",
            "Epochs 82/100, Loss: 0.6690\n",
            "Epochs 83/100, Loss: 0.6690\n",
            "Epochs 84/100, Loss: 0.6690\n",
            "Epochs 85/100, Loss: 0.6690\n",
            "Epochs 86/100, Loss: 0.6690\n",
            "Epochs 87/100, Loss: 0.6690\n",
            "Epochs 88/100, Loss: 0.6690\n",
            "Epochs 89/100, Loss: 0.6690\n",
            "Epochs 90/100, Loss: 0.6690\n",
            "Epochs 91/100, Loss: 0.6690\n",
            "Epochs 92/100, Loss: 0.6690\n",
            "Epochs 93/100, Loss: 0.6690\n",
            "Epochs 94/100, Loss: 0.6690\n",
            "Epochs 95/100, Loss: 0.6690\n",
            "Epochs 96/100, Loss: 0.6690\n",
            "Epochs 97/100, Loss: 0.6690\n",
            "Epochs 98/100, Loss: 0.6690\n",
            "Epochs 99/100, Loss: 0.6690\n",
            "Epochs 100/100, Loss: 0.6690\n"
          ]
        }
      ]
    },
    {
      "cell_type": "code",
      "source": [
        "plt.plot(Losses)"
      ],
      "metadata": {
        "colab": {
          "base_uri": "https://localhost:8080/",
          "height": 282
        },
        "id": "EaM3FjlbTiqC",
        "outputId": "4f9813c6-e69e-4d9b-9e51-b8b4381ee04a"
      },
      "execution_count": 15,
      "outputs": [
        {
          "output_type": "execute_result",
          "data": {
            "text/plain": [
              "[<matplotlib.lines.Line2D at 0x7f4b809e1350>]"
            ]
          },
          "metadata": {},
          "execution_count": 15
        },
        {
          "output_type": "display_data",
          "data": {
            "text/plain": [
              "<Figure size 432x288 with 1 Axes>"
            ],
            "image/png": "[encoded data removed]"
          },
          "metadata": {
            "needs_background": "light"
          }
        }
      ]
    },
    {
      "cell_type": "code",
      "source": [],
      "metadata": {
        "id": "MPZG1lrtU1qL"
      },
      "execution_count": null,
      "outputs": []
    },
    {
      "cell_type": "code",
      "source": [
        "predicted = model(inputs).detach().numpy()\n",
        "\n",
        "plt.plot(X, Y, \"ro\", label=\"Target Label\")\n",
        "plt.plot(X, predicted, label = \"Predicted Output\")\n",
        "plt.legend()\n",
        "plt.show()"
      ],
      "metadata": {
        "colab": {
          "base_uri": "https://localhost:8080/",
          "height": 265
        },
        "id": "nED6bI7HTcSi",
        "outputId": "c8e8de5d-7fc0-4c26-d76c-943a098c8961"
      },
      "execution_count": 20,
      "outputs": [
        {
          "output_type": "display_data",
          "data": {
            "text/plain": [
              "<Figure size 432x288 with 1 Axes>"
            ],
            "image/png": "[encoded data removed]"
          },
          "metadata": {
            "needs_background": "light"
          }
        }
      ]
    },
    {
      "cell_type": "code",
      "source": [
        "weights = model.weight.data.numpy()"
      ],
      "metadata": {
        "id": "pbHYHR8zVP3M"
      },
      "execution_count": 22,
      "outputs": []
    },
    {
      "cell_type": "code",
      "source": [
        "weights"
      ],
      "metadata": {
        "colab": {
          "base_uri": "https://localhost:8080/"
        },
        "id": "xCS2pEGsXI-x",
        "outputId": "d9ffd848-0c7c-474d-e745-cc7b8275678c"
      },
      "execution_count": 23,
      "outputs": [
        {
          "output_type": "execute_result",
          "data": {
            "text/plain": [
              "array([[0.57525444]], dtype=float32)"
            ]
          },
          "metadata": {},
          "execution_count": 23
        }
      ]
    },
    {
      "cell_type": "code",
      "source": [
        "print(weights[0])\n"
      ],
      "metadata": {
        "colab": {
          "base_uri": "https://localhost:8080/"
        },
        "id": "ffXNo8c9XLX-",
        "outputId": "1070bd45-b858-4265-a525-f43a227fcdd7"
      },
      "execution_count": 24,
      "outputs": [
        {
          "output_type": "stream",
          "name": "stdout",
          "text": [
            "[0.57525444]\n"
          ]
        }
      ]
    },
    {
      "cell_type": "code",
      "source": [
        "a = weights[0] * (sy/sx)"
      ],
      "metadata": {
        "id": "jlq78m7uXPyr"
      },
      "execution_count": 25,
      "outputs": []
    },
    {
      "cell_type": "code",
      "source": [
        "print(a)"
      ],
      "metadata": {
        "colab": {
          "base_uri": "https://localhost:8080/"
        },
        "id": "bjpKt1quXTP0",
        "outputId": "7c45e50c-9e54-405a-8745-b4cbf2620e5d"
      },
      "execution_count": 26,
      "outputs": [
        {
          "output_type": "stream",
          "name": "stdout",
          "text": [
            "[1.5145688e+08]\n"
          ]
        }
      ]
    },
    {
      "cell_type": "code",
      "source": [],
      "metadata": {
        "id": "hGfJG9rMXUDt"
      },
      "execution_count": null,
      "outputs": []
    }
  ]
}