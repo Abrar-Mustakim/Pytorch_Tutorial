{
 "cells": [
  {
   "cell_type": "code",
   "execution_count": 1,
   "metadata": {},
   "outputs": [],
   "source": [
    "import torch \n",
    "import numpy as np \n",
    "import matplotlib.pyplot as plt "
   ]
  },
  {
   "cell_type": "code",
   "execution_count": 2,
   "metadata": {},
   "outputs": [
    {
     "name": "stdout",
     "output_type": "stream",
     "text": [
      "Array Type: <class 'numpy.ndarray'>\n",
      "Array Shape: (2, 3)\n",
      "[[1 2 3]\n",
      " [4 5 6]]\n"
     ]
    }
   ],
   "source": [
    "array = [[1, 2, 3], [4, 5, 6]]\n",
    "first_array = np.array(array) \n",
    "\n",
    "print(f\"Array Type: {type(first_array)}\") \n",
    "print(f\"Array Shape: {np.shape(first_array)}\") \n",
    "print(first_array)"
   ]
  },
  {
   "cell_type": "code",
   "execution_count": 3,
   "metadata": {},
   "outputs": [
    {
     "data": {
      "text/plain": [
       "2"
      ]
     },
     "execution_count": 3,
     "metadata": {},
     "output_type": "execute_result"
    }
   ],
   "source": [
    "first_array.ndim"
   ]
  },
  {
   "cell_type": "code",
   "execution_count": 4,
   "metadata": {},
   "outputs": [
    {
     "name": "stdout",
     "output_type": "stream",
     "text": [
      "[[1 2 3]\n",
      " [4 5 6]]\n",
      "Convert the 2D array to 1D array--------------\n",
      "[1 2 3 4 5 6]\n"
     ]
    }
   ],
   "source": [
    "shapes = np.shape(first_array) \n",
    "print(first_array)\n",
    "print(\"Convert the 2D array to 1D array--------------\")\n",
    "first_array = first_array.reshape(shapes[0] * shapes[1])\n",
    "print(first_array)"
   ]
  },
  {
   "cell_type": "code",
   "execution_count": 5,
   "metadata": {},
   "outputs": [
    {
     "name": "stdout",
     "output_type": "stream",
     "text": [
      "[[[14  4]\n",
      "  [14  5]\n",
      "  [18  7]\n",
      "  [14 10]]\n",
      "\n",
      " [[12 11]\n",
      "  [ 7 18]\n",
      "  [16  7]\n",
      "  [15  6]]\n",
      "\n",
      " [[11 18]\n",
      "  [12  7]\n",
      "  [15  7]\n",
      "  [ 3 18]]]\n",
      "3\n",
      "Convert the array shape to (3,2,4)\n",
      "[[[14  4 14  5]\n",
      "  [18  7 14 10]]\n",
      "\n",
      " [[12 11  7 18]\n",
      "  [16  7 15  6]]\n",
      "\n",
      " [[11 18 12  7]\n",
      "  [15  7  3 18]]]\n"
     ]
    }
   ],
   "source": [
    "second_array = np.random.randint(20, size=(3, 4, 2)) \n",
    "print(second_array) \n",
    "\n",
    "print(second_array.ndim)\n",
    "\n",
    "print(\"Convert the array shape to (3,2,4)\")\n",
    "second_array = second_array.reshape(3, 2, 4)\n",
    "print(second_array) "
   ]
  },
  {
   "cell_type": "code",
   "execution_count": 6,
   "metadata": {},
   "outputs": [
    {
     "name": "stdout",
     "output_type": "stream",
     "text": [
      "int32\n"
     ]
    }
   ],
   "source": [
    "print(second_array.dtype)"
   ]
  },
  {
   "cell_type": "code",
   "execution_count": 7,
   "metadata": {},
   "outputs": [
    {
     "data": {
      "text/plain": [
       "array([[[14,  4, 14,  5],\n",
       "        [18,  7, 14, 10]],\n",
       "\n",
       "       [[12, 11,  7, 18],\n",
       "        [16,  7, 15,  6]],\n",
       "\n",
       "       [[11, 18, 12,  7],\n",
       "        [15,  7,  3, 18]]])"
      ]
     },
     "execution_count": 7,
     "metadata": {},
     "output_type": "execute_result"
    }
   ],
   "source": [
    "second_array.astype('int32') "
   ]
  },
  {
   "cell_type": "code",
   "execution_count": 8,
   "metadata": {},
   "outputs": [
    {
     "name": "stdout",
     "output_type": "stream",
     "text": [
      "[[[14  4 14  5]\n",
      "  [18  7 14 10]]\n",
      "\n",
      " [[12 11  7 18]\n",
      "  [16  7 15  6]]\n",
      "\n",
      " [[11 18 12  7]\n",
      "  [15  7  3 18]]]\n"
     ]
    }
   ],
   "source": [
    "print(second_array)"
   ]
  },
  {
   "cell_type": "code",
   "execution_count": 9,
   "metadata": {},
   "outputs": [
    {
     "name": "stdout",
     "output_type": "stream",
     "text": [
      "tensor([[1., 1., 1.],\n",
      "        [1., 1., 1.]])\n"
     ]
    }
   ],
   "source": [
    "print(torch.ones((2, 3))) "
   ]
  },
  {
   "cell_type": "code",
   "execution_count": 10,
   "metadata": {},
   "outputs": [
    {
     "name": "stdout",
     "output_type": "stream",
     "text": [
      "[[0.48895421 0.55352196 0.20235229]\n",
      " [0.26774093 0.90038286 0.4613704 ]]\n",
      "tensor([[0.7883, 0.2324, 0.5405],\n",
      "        [0.2546, 0.5045, 0.0934]])\n"
     ]
    }
   ],
   "source": [
    "print(np.random.rand(2, 3)) \n",
    "\n",
    "print(torch.rand(2, 3))"
   ]
  },
  {
   "cell_type": "code",
   "execution_count": 11,
   "metadata": {},
   "outputs": [
    {
     "name": "stdout",
     "output_type": "stream",
     "text": [
      "<class 'numpy.ndarray'>[[0.55061479 0.85614763]\n",
      " [0.61437014 0.71524247]]\n",
      "\n",
      "<class 'torch.Tensor'> tensor([[0.5506, 0.8561],\n",
      "        [0.6144, 0.7152]], dtype=torch.float64)\n",
      "\n",
      "<class 'numpy.ndarray'> [[0.55061479 0.85614763]\n",
      " [0.61437014 0.71524247]]\n",
      "\n"
     ]
    }
   ],
   "source": [
    "array = np.random.rand(2, 2) \n",
    "\n",
    "print(\"{}{}\\n\".format(type(array), array)) \n",
    "\n",
    "\n",
    "from_numpy_to_tensor = torch.from_numpy(array) \n",
    "print(\"{} {}\\n\".format(type(from_numpy_to_tensor), from_numpy_to_tensor))\n",
    "\n",
    "\n",
    "tensor = from_numpy_to_tensor \n",
    "from_tensor_to_numpy = tensor.numpy() \n",
    "print(\"{} {}\\n\".format(type(from_tensor_to_numpy), from_tensor_to_numpy)) \n"
   ]
  },
  {
   "attachments": {},
   "cell_type": "markdown",
   "metadata": {},
   "source": [
    "<h4> Basic Math with PYTORCH </h4>"
   ]
  },
  {
   "cell_type": "code",
   "execution_count": 12,
   "metadata": {},
   "outputs": [
    {
     "name": "stdout",
     "output_type": "stream",
     "text": [
      "\n",
      " tensor([[1., 1., 1.],\n",
      "        [1., 1., 1.],\n",
      "        [1., 1., 1.]])\n"
     ]
    }
   ],
   "source": [
    "#create tensor \n",
    "\n",
    "tensor = torch.ones(3, 3)\n",
    "print(\"\\n\", tensor)"
   ]
  },
  {
   "cell_type": "code",
   "execution_count": 13,
   "metadata": {},
   "outputs": [
    {
     "name": "stdout",
     "output_type": "stream",
     "text": [
      "torch.Size([9])\n",
      "tensor([1., 1., 1., 1., 1., 1., 1., 1., 1.])\n",
      "tensor([[[0.6076, 0.8498],\n",
      "         [0.3217, 0.5274],\n",
      "         [0.8239, 0.3621],\n",
      "         [0.9005, 0.4627]],\n",
      "\n",
      "        [[0.7060, 0.3789],\n",
      "         [0.4891, 0.6525],\n",
      "         [0.6268, 0.0539],\n",
      "         [0.9238, 0.8164]],\n",
      "\n",
      "        [[0.0905, 0.7485],\n",
      "         [0.7798, 0.7023],\n",
      "         [0.0721, 0.4429],\n",
      "         [0.9486, 0.2914]]])\n",
      "tensor([[[0.6076, 0.8498, 0.3217, 0.5274],\n",
      "         [0.8239, 0.3621, 0.9005, 0.4627]],\n",
      "\n",
      "        [[0.7060, 0.3789, 0.4891, 0.6525],\n",
      "         [0.6268, 0.0539, 0.9238, 0.8164]],\n",
      "\n",
      "        [[0.0905, 0.7485, 0.7798, 0.7023],\n",
      "         [0.0721, 0.4429, 0.9486, 0.2914]]])\n"
     ]
    }
   ],
   "source": [
    "#Reshape \n",
    "\n",
    "print(tensor.view(9).shape) \n",
    "print(tensor.view(9))\n",
    "\n",
    "a = torch.rand(3,4,2)\n",
    "print(a) \n",
    "a = a.view(3, 2, 4) \n",
    "print(a)"
   ]
  },
  {
   "cell_type": "code",
   "execution_count": 14,
   "metadata": {},
   "outputs": [
    {
     "data": {
      "text/plain": [
       "tensor([[2., 2., 2.],\n",
       "        [2., 2., 2.],\n",
       "        [2., 2., 2.]])"
      ]
     },
     "execution_count": 14,
     "metadata": {},
     "output_type": "execute_result"
    }
   ],
   "source": [
    "#Addition \n",
    "torch.add(tensor, tensor)"
   ]
  },
  {
   "cell_type": "code",
   "execution_count": 15,
   "metadata": {},
   "outputs": [
    {
     "data": {
      "text/plain": [
       "tensor([[0., 0., 0.],\n",
       "        [0., 0., 0.],\n",
       "        [0., 0., 0.]])"
      ]
     },
     "execution_count": 15,
     "metadata": {},
     "output_type": "execute_result"
    }
   ],
   "source": [
    "#Subtraction \n",
    "torch.sub(tensor, tensor)"
   ]
  },
  {
   "cell_type": "code",
   "execution_count": 16,
   "metadata": {},
   "outputs": [
    {
     "data": {
      "text/plain": [
       "tensor([[1., 1., 1.],\n",
       "        [1., 1., 1.],\n",
       "        [1., 1., 1.]])"
      ]
     },
     "execution_count": 16,
     "metadata": {},
     "output_type": "execute_result"
    }
   ],
   "source": [
    "#Element wise multiplication\n",
    "torch.mul(tensor, tensor) \n"
   ]
  },
  {
   "cell_type": "code",
   "execution_count": 17,
   "metadata": {},
   "outputs": [
    {
     "name": "stdout",
     "output_type": "stream",
     "text": [
      "tensor(1.)\n",
      "tensor(1.)\n",
      "tensor(1.)\n",
      "tensor(3.)\n"
     ]
    }
   ],
   "source": [
    "#MEAN\n",
    "for i in tensor:\n",
    "    print(torch.mean(i))\n",
    "\n",
    "a = torch.Tensor([1, 2, 3, 4, 5])\n",
    "print(torch.mean(a))"
   ]
  },
  {
   "cell_type": "code",
   "execution_count": 18,
   "metadata": {},
   "outputs": [
    {
     "data": {
      "text/plain": [
       "tensor([[1., 1., 1.],\n",
       "        [1., 1., 1.],\n",
       "        [1., 1., 1.]])"
      ]
     },
     "execution_count": 18,
     "metadata": {},
     "output_type": "execute_result"
    }
   ],
   "source": [
    "#Element Wise Division\n",
    "torch.div(tensor, tensor)"
   ]
  },
  {
   "cell_type": "code",
   "execution_count": 19,
   "metadata": {},
   "outputs": [
    {
     "name": "stdout",
     "output_type": "stream",
     "text": [
      "tensor(0.)\n",
      "tensor(0.)\n",
      "tensor(0.)\n",
      "tensor(1.5811)\n",
      "tensor([0.])\n"
     ]
    }
   ],
   "source": [
    "#MEAN\n",
    "b = torch.Tensor([0])\n",
    "for i in tensor:\n",
    "    print(torch.std(i))\n",
    "    torch.add(torch.std(i), b)\n",
    "\n",
    "a = torch.Tensor([1, 2, 3, 4, 5])\n",
    "print(torch.std(a))\n",
    "print(b)"
   ]
  },
  {
   "attachments": {},
   "cell_type": "markdown",
   "metadata": {},
   "source": [
    "<h4> Variables </h4>"
   ]
  },
  {
   "cell_type": "code",
   "execution_count": 20,
   "metadata": {},
   "outputs": [
    {
     "data": {
      "text/plain": [
       "\"\\nIn PyTorch, torch.autograd.Variable is a class that\\n represents a node in a computational graph.\\n   It is used to keep track of the history of operations \\n   applied to tensors and computes gradients automatically \\n   for backward propagation during training.\\n\\nWhen you create a torch.Tensor object in PyTorch, it doesn't have \\nany history of operations applied to it by default. \\nHowever, if you wrap that tensor inside a torch.autograd.Variable, \\nthe variable will keep track of all the operations performed on the \\ntensor, allowing you to compute gradients with respect to it.\\n\\nFor example, suppose you have a tensor x in PyTorch, \\nand you want to compute the gradient of some function \\nf(x) with respect to x. You can do this by first creating a \\ntorch.autograd.Variable from x, then computing f(x) using \\nstandard PyTorch operations. Finally, you can call the backward() \\nmethod on the output variable to compute the gradients of f(x) with\\n respect to x.\\n\""
      ]
     },
     "execution_count": 20,
     "metadata": {},
     "output_type": "execute_result"
    }
   ],
   "source": [
    "'''\n",
    "In PyTorch, torch.autograd.Variable is a class that\n",
    " represents a node in a computational graph.\n",
    "   It is used to keep track of the history of operations \n",
    "   applied to tensors and computes gradients automatically \n",
    "   for backward propagation during training.\n",
    "\n",
    "When you create a torch.Tensor object in PyTorch, it doesn't have \n",
    "any history of operations applied to it by default. \n",
    "However, if you wrap that tensor inside a torch.autograd.Variable, \n",
    "the variable will keep track of all the operations performed on the \n",
    "tensor, allowing you to compute gradients with respect to it.\n",
    "\n",
    "For example, suppose you have a tensor x in PyTorch, \n",
    "and you want to compute the gradient of some function \n",
    "f(x) with respect to x. You can do this by first creating a \n",
    "torch.autograd.Variable from x, then computing f(x) using \n",
    "standard PyTorch operations. Finally, you can call the backward() \n",
    "method on the output variable to compute the gradients of f(x) with\n",
    " respect to x.\n",
    "'''"
   ]
  },
  {
   "cell_type": "code",
   "execution_count": 21,
   "metadata": {},
   "outputs": [
    {
     "data": {
      "text/plain": [
       "tensor([1., 1., 1.], requires_grad=True)"
      ]
     },
     "execution_count": 21,
     "metadata": {},
     "output_type": "execute_result"
    }
   ],
   "source": [
    "#Variable Accumulates Gradients\n",
    "\n",
    "from torch.autograd import Variable \n",
    "\n",
    "var = Variable(torch.ones(3), requires_grad=True) \n",
    "var "
   ]
  },
  {
   "cell_type": "code",
   "execution_count": 22,
   "metadata": {},
   "outputs": [
    {
     "name": "stdout",
     "output_type": "stream",
     "text": [
      "y = tensor([ 4., 16.], grad_fn=<PowBackward0>)\n",
      "o=10.0\n"
     ]
    }
   ],
   "source": [
    "#y=x^2 \n",
    "#x = [2, 4]\n",
    "\n",
    "array = torch.Tensor([2, 4]) \n",
    "x = Variable(array, requires_grad = True)\n",
    "\n",
    "y_var = x ** 2\n",
    "print(f\"y = {y_var}\")\n",
    "\n",
    "#o = (1/2)sum(y_var) = (1/2)sum(x^2)\n",
    "#deriavative of o = x\n",
    "\n",
    "o = (1/2) * sum(y_var) \n",
    "print(f\"o={o}\")\n",
    "\n",
    "\n",
    "\n"
   ]
  },
  {
   "cell_type": "code",
   "execution_count": 23,
   "metadata": {},
   "outputs": [],
   "source": [
    "o.backward()"
   ]
  },
  {
   "cell_type": "code",
   "execution_count": 24,
   "metadata": {},
   "outputs": [
    {
     "name": "stdout",
     "output_type": "stream",
     "text": [
      "Gradients: tensor([2., 4.])\n"
     ]
    }
   ],
   "source": [
    "print(\"Gradients:\", x.grad)"
   ]
  },
  {
   "attachments": {},
   "cell_type": "markdown",
   "metadata": {},
   "source": [
    "<h4> Linear Regression on Car Sellings </h4>"
   ]
  },
  {
   "cell_type": "code",
   "execution_count": 25,
   "metadata": {},
   "outputs": [
    {
     "name": "stdout",
     "output_type": "stream",
     "text": [
      "[[3.]\n",
      " [4.]\n",
      " [5.]\n",
      " [6.]\n",
      " [7.]\n",
      " [8.]\n",
      " [9.]]\n",
      "tensor([[3.],\n",
      "        [4.],\n",
      "        [5.],\n",
      "        [6.],\n",
      "        [7.],\n",
      "        [8.],\n",
      "        [9.]])\n"
     ]
    }
   ],
   "source": [
    "car_price_array = [3, 4, 5, 6, 7, 8, 9]                      \n",
    "car_price_np = np.array(car_price_array, dtype=np.float32) \n",
    "car_price_np = car_price_np.reshape(-1, 1)\n",
    "car_price_tensor = Variable(torch.from_numpy(car_price_np))\n",
    "print(car_price_np)\n",
    "print(car_price_tensor)"
   ]
  },
  {
   "cell_type": "code",
   "execution_count": 26,
   "metadata": {},
   "outputs": [],
   "source": [
    "number_of_car_sell_array = [7.5, 7, 6.5, 6, 5.5, 5, 4.5] \n",
    "number_of_car_sell_array = np.array(number_of_car_sell_array, dtype=np.float32)\n",
    "number_of_car_sell_array = number_of_car_sell_array.reshape(-1, 1) \n",
    "number_of_car_sell_tensor = Variable(torch.from_numpy(number_of_car_sell_array))\n",
    " \n",
    "\n"
   ]
  },
  {
   "cell_type": "code",
   "execution_count": 27,
   "metadata": {},
   "outputs": [
    {
     "data": {
      "image/png": "[encoded data removed]",
      "text/plain": [
       "<Figure size 640x480 with 1 Axes>"
      ]
     },
     "metadata": {},
     "output_type": "display_data"
    }
   ],
   "source": [
    "import matplotlib.pyplot as plt \n",
    "\n",
    "plt.scatter(car_price_tensor, number_of_car_sell_tensor)\n",
    "plt.xlabel(\"Car Price $\") \n",
    "plt.ylabel(\"Number of Car Sell\") \n",
    "plt.title(\"Car Price$ VS Number of Car Self\")\n",
    "plt.show()"
   ]
  },
  {
   "cell_type": "code",
   "execution_count": 28,
   "metadata": {},
   "outputs": [
    {
     "name": "stdout",
     "output_type": "stream",
     "text": [
      "LinearRegression(\n",
      "  (linear): Linear(in_features=1, out_features=1, bias=True)\n",
      ")\n"
     ]
    }
   ],
   "source": [
    "import torch.nn as nn \n",
    "import warnings\n",
    "warnings.filterwarnings(\"ignore\")\n",
    "\n",
    "class LinearRegression(nn.Module):\n",
    "    def __init__(self, input_size, output_size):\n",
    "        super(LinearRegression, self).__init__()\n",
    "        self.linear = nn.Linear(input_size, output_size)\n",
    "    def forward(self, x):\n",
    "        return self.linear(x)\n",
    "    \n",
    "\n",
    "\n",
    "input_dim = 1 \n",
    "output_dim = 1 \n",
    "\n",
    "model = LinearRegression(input_dim, output_dim) \n",
    "print(model)\n",
    "        "
   ]
  },
  {
   "cell_type": "code",
   "execution_count": 29,
   "metadata": {},
   "outputs": [],
   "source": [
    "\n",
    "loss = nn.MSELoss() \n",
    "optimizer = torch.optim.SGD(model.parameters(), lr=0.02) "
   ]
  },
  {
   "cell_type": "code",
   "execution_count": 30,
   "metadata": {},
   "outputs": [
    {
     "data": {
      "text/plain": [
       "torch.float32"
      ]
     },
     "execution_count": 30,
     "metadata": {},
     "output_type": "execute_result"
    }
   ],
   "source": [
    "car_price_tensor.dtype"
   ]
  },
  {
   "cell_type": "code",
   "execution_count": 31,
   "metadata": {},
   "outputs": [
    {
     "name": "stdout",
     "output_type": "stream",
     "text": [
      "Epochs 0/1000: Losses 7.7469\n",
      "Epochs 1/1000: Losses 7.0499\n",
      "Epochs 2/1000: Losses 6.7374\n",
      "Epochs 3/1000: Losses 6.5806\n",
      "Epochs 4/1000: Losses 6.4870\n",
      "Epochs 5/1000: Losses 6.4193\n",
      "Epochs 6/1000: Losses 6.3623\n",
      "Epochs 7/1000: Losses 6.3098\n",
      "Epochs 8/1000: Losses 6.2594\n",
      "Epochs 9/1000: Losses 6.2101\n",
      "Epochs 10/1000: Losses 6.1614\n",
      "Epochs 11/1000: Losses 6.1132\n",
      "Epochs 12/1000: Losses 6.0655\n",
      "Epochs 13/1000: Losses 6.0181\n",
      "Epochs 14/1000: Losses 5.9711\n",
      "Epochs 15/1000: Losses 5.9245\n",
      "Epochs 16/1000: Losses 5.8782\n",
      "Epochs 17/1000: Losses 5.8323\n",
      "Epochs 18/1000: Losses 5.7868\n",
      "Epochs 19/1000: Losses 5.7416\n",
      "Epochs 20/1000: Losses 5.6968\n",
      "Epochs 21/1000: Losses 5.6523\n",
      "Epochs 22/1000: Losses 5.6082\n",
      "Epochs 23/1000: Losses 5.5644\n",
      "Epochs 24/1000: Losses 5.5209\n",
      "Epochs 25/1000: Losses 5.4778\n",
      "Epochs 26/1000: Losses 5.4350\n",
      "Epochs 27/1000: Losses 5.3926\n",
      "Epochs 28/1000: Losses 5.3505\n",
      "Epochs 29/1000: Losses 5.3087\n",
      "Epochs 30/1000: Losses 5.2673\n",
      "Epochs 31/1000: Losses 5.2261\n",
      "Epochs 32/1000: Losses 5.1853\n",
      "Epochs 33/1000: Losses 5.1448\n",
      "Epochs 34/1000: Losses 5.1047\n",
      "Epochs 35/1000: Losses 5.0648\n",
      "Epochs 36/1000: Losses 5.0253\n",
      "Epochs 37/1000: Losses 4.9860\n",
      "Epochs 38/1000: Losses 4.9471\n",
      "Epochs 39/1000: Losses 4.9085\n",
      "Epochs 40/1000: Losses 4.8701\n",
      "Epochs 41/1000: Losses 4.8321\n",
      "Epochs 42/1000: Losses 4.7944\n",
      "Epochs 43/1000: Losses 4.7569\n",
      "Epochs 44/1000: Losses 4.7198\n",
      "Epochs 45/1000: Losses 4.6829\n",
      "Epochs 46/1000: Losses 4.6464\n",
      "Epochs 47/1000: Losses 4.6101\n",
      "Epochs 48/1000: Losses 4.5741\n",
      "Epochs 49/1000: Losses 4.5384\n",
      "Epochs 50/1000: Losses 4.5029\n",
      "Epochs 51/1000: Losses 4.4678\n",
      "Epochs 52/1000: Losses 4.4329\n",
      "Epochs 53/1000: Losses 4.3983\n",
      "Epochs 54/1000: Losses 4.3639\n",
      "Epochs 55/1000: Losses 4.3299\n",
      "Epochs 56/1000: Losses 4.2961\n",
      "Epochs 57/1000: Losses 4.2625\n",
      "Epochs 58/1000: Losses 4.2292\n",
      "Epochs 59/1000: Losses 4.1962\n",
      "Epochs 60/1000: Losses 4.1634\n",
      "Epochs 61/1000: Losses 4.1309\n",
      "Epochs 62/1000: Losses 4.0987\n",
      "Epochs 63/1000: Losses 4.0667\n",
      "Epochs 64/1000: Losses 4.0349\n",
      "Epochs 65/1000: Losses 4.0034\n",
      "Epochs 66/1000: Losses 3.9722\n",
      "Epochs 67/1000: Losses 3.9411\n",
      "Epochs 68/1000: Losses 3.9104\n",
      "Epochs 69/1000: Losses 3.8798\n",
      "Epochs 70/1000: Losses 3.8495\n",
      "Epochs 71/1000: Losses 3.8195\n",
      "Epochs 72/1000: Losses 3.7897\n",
      "Epochs 73/1000: Losses 3.7601\n",
      "Epochs 74/1000: Losses 3.7307\n",
      "Epochs 75/1000: Losses 3.7016\n",
      "Epochs 76/1000: Losses 3.6727\n",
      "Epochs 77/1000: Losses 3.6440\n",
      "Epochs 78/1000: Losses 3.6155\n",
      "Epochs 79/1000: Losses 3.5873\n",
      "Epochs 80/1000: Losses 3.5593\n",
      "Epochs 81/1000: Losses 3.5315\n",
      "Epochs 82/1000: Losses 3.5039\n",
      "Epochs 83/1000: Losses 3.4766\n",
      "Epochs 84/1000: Losses 3.4494\n",
      "Epochs 85/1000: Losses 3.4225\n",
      "Epochs 86/1000: Losses 3.3958\n",
      "Epochs 87/1000: Losses 3.3693\n",
      "Epochs 88/1000: Losses 3.3430\n",
      "Epochs 89/1000: Losses 3.3169\n",
      "Epochs 90/1000: Losses 3.2910\n",
      "Epochs 91/1000: Losses 3.2653\n",
      "Epochs 92/1000: Losses 3.2398\n",
      "Epochs 93/1000: Losses 3.2145\n",
      "Epochs 94/1000: Losses 3.1894\n",
      "Epochs 95/1000: Losses 3.1645\n",
      "Epochs 96/1000: Losses 3.1398\n",
      "Epochs 97/1000: Losses 3.1152\n",
      "Epochs 98/1000: Losses 3.0909\n",
      "Epochs 99/1000: Losses 3.0668\n",
      "Epochs 100/1000: Losses 3.0428\n",
      "Epochs 101/1000: Losses 3.0191\n",
      "Epochs 102/1000: Losses 2.9955\n",
      "Epochs 103/1000: Losses 2.9721\n",
      "Epochs 104/1000: Losses 2.9489\n",
      "Epochs 105/1000: Losses 2.9259\n",
      "Epochs 106/1000: Losses 2.9030\n",
      "Epochs 107/1000: Losses 2.8804\n",
      "Epochs 108/1000: Losses 2.8579\n",
      "Epochs 109/1000: Losses 2.8356\n",
      "Epochs 110/1000: Losses 2.8134\n",
      "Epochs 111/1000: Losses 2.7914\n",
      "Epochs 112/1000: Losses 2.7697\n",
      "Epochs 113/1000: Losses 2.7480\n",
      "Epochs 114/1000: Losses 2.7266\n",
      "Epochs 115/1000: Losses 2.7053\n",
      "Epochs 116/1000: Losses 2.6842\n",
      "Epochs 117/1000: Losses 2.6632\n",
      "Epochs 118/1000: Losses 2.6424\n",
      "Epochs 119/1000: Losses 2.6218\n",
      "Epochs 120/1000: Losses 2.6013\n",
      "Epochs 121/1000: Losses 2.5810\n",
      "Epochs 122/1000: Losses 2.5608\n",
      "Epochs 123/1000: Losses 2.5408\n",
      "Epochs 124/1000: Losses 2.5210\n",
      "Epochs 125/1000: Losses 2.5013\n",
      "Epochs 126/1000: Losses 2.4818\n",
      "Epochs 127/1000: Losses 2.4624\n",
      "Epochs 128/1000: Losses 2.4432\n",
      "Epochs 129/1000: Losses 2.4241\n",
      "Epochs 130/1000: Losses 2.4052\n",
      "Epochs 131/1000: Losses 2.3864\n",
      "Epochs 132/1000: Losses 2.3678\n",
      "Epochs 133/1000: Losses 2.3493\n",
      "Epochs 134/1000: Losses 2.3309\n",
      "Epochs 135/1000: Losses 2.3127\n",
      "Epochs 136/1000: Losses 2.2947\n",
      "Epochs 137/1000: Losses 2.2768\n",
      "Epochs 138/1000: Losses 2.2590\n",
      "Epochs 139/1000: Losses 2.2413\n",
      "Epochs 140/1000: Losses 2.2238\n",
      "Epochs 141/1000: Losses 2.2065\n",
      "Epochs 142/1000: Losses 2.1892\n",
      "Epochs 143/1000: Losses 2.1721\n",
      "Epochs 144/1000: Losses 2.1552\n",
      "Epochs 145/1000: Losses 2.1384\n",
      "Epochs 146/1000: Losses 2.1217\n",
      "Epochs 147/1000: Losses 2.1051\n",
      "Epochs 148/1000: Losses 2.0887\n",
      "Epochs 149/1000: Losses 2.0723\n",
      "Epochs 150/1000: Losses 2.0562\n",
      "Epochs 151/1000: Losses 2.0401\n",
      "Epochs 152/1000: Losses 2.0242\n",
      "Epochs 153/1000: Losses 2.0084\n",
      "Epochs 154/1000: Losses 1.9927\n",
      "Epochs 155/1000: Losses 1.9771\n",
      "Epochs 156/1000: Losses 1.9617\n",
      "Epochs 157/1000: Losses 1.9464\n",
      "Epochs 158/1000: Losses 1.9312\n",
      "Epochs 159/1000: Losses 1.9161\n",
      "Epochs 160/1000: Losses 1.9011\n",
      "Epochs 161/1000: Losses 1.8863\n",
      "Epochs 162/1000: Losses 1.8716\n",
      "Epochs 163/1000: Losses 1.8570\n",
      "Epochs 164/1000: Losses 1.8425\n",
      "Epochs 165/1000: Losses 1.8281\n",
      "Epochs 166/1000: Losses 1.8138\n",
      "Epochs 167/1000: Losses 1.7996\n",
      "Epochs 168/1000: Losses 1.7856\n",
      "Epochs 169/1000: Losses 1.7716\n",
      "Epochs 170/1000: Losses 1.7578\n",
      "Epochs 171/1000: Losses 1.7441\n",
      "Epochs 172/1000: Losses 1.7305\n",
      "Epochs 173/1000: Losses 1.7170\n",
      "Epochs 174/1000: Losses 1.7035\n",
      "Epochs 175/1000: Losses 1.6902\n",
      "Epochs 176/1000: Losses 1.6770\n",
      "Epochs 177/1000: Losses 1.6640\n",
      "Epochs 178/1000: Losses 1.6510\n",
      "Epochs 179/1000: Losses 1.6381\n",
      "Epochs 180/1000: Losses 1.6253\n",
      "Epochs 181/1000: Losses 1.6126\n",
      "Epochs 182/1000: Losses 1.6000\n",
      "Epochs 183/1000: Losses 1.5875\n",
      "Epochs 184/1000: Losses 1.5751\n",
      "Epochs 185/1000: Losses 1.5628\n",
      "Epochs 186/1000: Losses 1.5506\n",
      "Epochs 187/1000: Losses 1.5385\n",
      "Epochs 188/1000: Losses 1.5265\n",
      "Epochs 189/1000: Losses 1.5146\n",
      "Epochs 190/1000: Losses 1.5027\n",
      "Epochs 191/1000: Losses 1.4910\n",
      "Epochs 192/1000: Losses 1.4794\n",
      "Epochs 193/1000: Losses 1.4678\n",
      "Epochs 194/1000: Losses 1.4564\n",
      "Epochs 195/1000: Losses 1.4450\n",
      "Epochs 196/1000: Losses 1.4337\n",
      "Epochs 197/1000: Losses 1.4225\n",
      "Epochs 198/1000: Losses 1.4114\n",
      "Epochs 199/1000: Losses 1.4004\n",
      "Epochs 200/1000: Losses 1.3894\n",
      "Epochs 201/1000: Losses 1.3786\n",
      "Epochs 202/1000: Losses 1.3678\n",
      "Epochs 203/1000: Losses 1.3571\n",
      "Epochs 204/1000: Losses 1.3465\n",
      "Epochs 205/1000: Losses 1.3360\n",
      "Epochs 206/1000: Losses 1.3256\n",
      "Epochs 207/1000: Losses 1.3153\n",
      "Epochs 208/1000: Losses 1.3050\n",
      "Epochs 209/1000: Losses 1.2948\n",
      "Epochs 210/1000: Losses 1.2847\n",
      "Epochs 211/1000: Losses 1.2747\n",
      "Epochs 212/1000: Losses 1.2647\n",
      "Epochs 213/1000: Losses 1.2548\n",
      "Epochs 214/1000: Losses 1.2450\n",
      "Epochs 215/1000: Losses 1.2353\n",
      "Epochs 216/1000: Losses 1.2257\n",
      "Epochs 217/1000: Losses 1.2161\n",
      "Epochs 218/1000: Losses 1.2066\n",
      "Epochs 219/1000: Losses 1.1972\n",
      "Epochs 220/1000: Losses 1.1878\n",
      "Epochs 221/1000: Losses 1.1785\n",
      "Epochs 222/1000: Losses 1.1693\n",
      "Epochs 223/1000: Losses 1.1602\n",
      "Epochs 224/1000: Losses 1.1512\n",
      "Epochs 225/1000: Losses 1.1422\n",
      "Epochs 226/1000: Losses 1.1333\n",
      "Epochs 227/1000: Losses 1.1244\n",
      "Epochs 228/1000: Losses 1.1156\n",
      "Epochs 229/1000: Losses 1.1069\n",
      "Epochs 230/1000: Losses 1.0983\n",
      "Epochs 231/1000: Losses 1.0897\n",
      "Epochs 232/1000: Losses 1.0812\n",
      "Epochs 233/1000: Losses 1.0727\n",
      "Epochs 234/1000: Losses 1.0644\n",
      "Epochs 235/1000: Losses 1.0561\n",
      "Epochs 236/1000: Losses 1.0478\n",
      "Epochs 237/1000: Losses 1.0396\n",
      "Epochs 238/1000: Losses 1.0315\n",
      "Epochs 239/1000: Losses 1.0235\n",
      "Epochs 240/1000: Losses 1.0155\n",
      "Epochs 241/1000: Losses 1.0075\n",
      "Epochs 242/1000: Losses 0.9997\n",
      "Epochs 243/1000: Losses 0.9919\n",
      "Epochs 244/1000: Losses 0.9841\n",
      "Epochs 245/1000: Losses 0.9764\n",
      "Epochs 246/1000: Losses 0.9688\n",
      "Epochs 247/1000: Losses 0.9612\n",
      "Epochs 248/1000: Losses 0.9537\n",
      "Epochs 249/1000: Losses 0.9463\n",
      "Epochs 250/1000: Losses 0.9389\n",
      "Epochs 251/1000: Losses 0.9316\n",
      "Epochs 252/1000: Losses 0.9243\n",
      "Epochs 253/1000: Losses 0.9171\n",
      "Epochs 254/1000: Losses 0.9099\n",
      "Epochs 255/1000: Losses 0.9028\n",
      "Epochs 256/1000: Losses 0.8958\n",
      "Epochs 257/1000: Losses 0.8888\n",
      "Epochs 258/1000: Losses 0.8818\n",
      "Epochs 259/1000: Losses 0.8749\n",
      "Epochs 260/1000: Losses 0.8681\n",
      "Epochs 261/1000: Losses 0.8613\n",
      "Epochs 262/1000: Losses 0.8546\n",
      "Epochs 263/1000: Losses 0.8479\n",
      "Epochs 264/1000: Losses 0.8413\n",
      "Epochs 265/1000: Losses 0.8347\n",
      "Epochs 266/1000: Losses 0.8282\n",
      "Epochs 267/1000: Losses 0.8218\n",
      "Epochs 268/1000: Losses 0.8153\n",
      "Epochs 269/1000: Losses 0.8090\n",
      "Epochs 270/1000: Losses 0.8027\n",
      "Epochs 271/1000: Losses 0.7964\n",
      "Epochs 272/1000: Losses 0.7902\n",
      "Epochs 273/1000: Losses 0.7840\n",
      "Epochs 274/1000: Losses 0.7779\n",
      "Epochs 275/1000: Losses 0.7718\n",
      "Epochs 276/1000: Losses 0.7658\n",
      "Epochs 277/1000: Losses 0.7598\n",
      "Epochs 278/1000: Losses 0.7539\n",
      "Epochs 279/1000: Losses 0.7480\n",
      "Epochs 280/1000: Losses 0.7421\n",
      "Epochs 281/1000: Losses 0.7364\n",
      "Epochs 282/1000: Losses 0.7306\n",
      "Epochs 283/1000: Losses 0.7249\n",
      "Epochs 284/1000: Losses 0.7192\n",
      "Epochs 285/1000: Losses 0.7136\n",
      "Epochs 286/1000: Losses 0.7080\n",
      "Epochs 287/1000: Losses 0.7025\n",
      "Epochs 288/1000: Losses 0.6970\n",
      "Epochs 289/1000: Losses 0.6916\n",
      "Epochs 290/1000: Losses 0.6862\n",
      "Epochs 291/1000: Losses 0.6808\n",
      "Epochs 292/1000: Losses 0.6755\n",
      "Epochs 293/1000: Losses 0.6702\n",
      "Epochs 294/1000: Losses 0.6650\n",
      "Epochs 295/1000: Losses 0.6598\n",
      "Epochs 296/1000: Losses 0.6547\n",
      "Epochs 297/1000: Losses 0.6496\n",
      "Epochs 298/1000: Losses 0.6445\n",
      "Epochs 299/1000: Losses 0.6394\n",
      "Epochs 300/1000: Losses 0.6345\n",
      "Epochs 301/1000: Losses 0.6295\n",
      "Epochs 302/1000: Losses 0.6246\n",
      "Epochs 303/1000: Losses 0.6197\n",
      "Epochs 304/1000: Losses 0.6149\n",
      "Epochs 305/1000: Losses 0.6101\n",
      "Epochs 306/1000: Losses 0.6053\n",
      "Epochs 307/1000: Losses 0.6006\n",
      "Epochs 308/1000: Losses 0.5959\n",
      "Epochs 309/1000: Losses 0.5912\n",
      "Epochs 310/1000: Losses 0.5866\n",
      "Epochs 311/1000: Losses 0.5820\n",
      "Epochs 312/1000: Losses 0.5775\n",
      "Epochs 313/1000: Losses 0.5730\n",
      "Epochs 314/1000: Losses 0.5685\n",
      "Epochs 315/1000: Losses 0.5641\n",
      "Epochs 316/1000: Losses 0.5597\n",
      "Epochs 317/1000: Losses 0.5553\n",
      "Epochs 318/1000: Losses 0.5510\n",
      "Epochs 319/1000: Losses 0.5467\n",
      "Epochs 320/1000: Losses 0.5424\n",
      "Epochs 321/1000: Losses 0.5382\n",
      "Epochs 322/1000: Losses 0.5340\n",
      "Epochs 323/1000: Losses 0.5298\n",
      "Epochs 324/1000: Losses 0.5256\n",
      "Epochs 325/1000: Losses 0.5215\n",
      "Epochs 326/1000: Losses 0.5175\n",
      "Epochs 327/1000: Losses 0.5134\n",
      "Epochs 328/1000: Losses 0.5094\n",
      "Epochs 329/1000: Losses 0.5054\n",
      "Epochs 330/1000: Losses 0.5015\n",
      "Epochs 331/1000: Losses 0.4976\n",
      "Epochs 332/1000: Losses 0.4937\n",
      "Epochs 333/1000: Losses 0.4898\n",
      "Epochs 334/1000: Losses 0.4860\n",
      "Epochs 335/1000: Losses 0.4822\n",
      "Epochs 336/1000: Losses 0.4785\n",
      "Epochs 337/1000: Losses 0.4747\n",
      "Epochs 338/1000: Losses 0.4710\n",
      "Epochs 339/1000: Losses 0.4673\n",
      "Epochs 340/1000: Losses 0.4637\n",
      "Epochs 341/1000: Losses 0.4601\n",
      "Epochs 342/1000: Losses 0.4565\n",
      "Epochs 343/1000: Losses 0.4529\n",
      "Epochs 344/1000: Losses 0.4494\n",
      "Epochs 345/1000: Losses 0.4459\n",
      "Epochs 346/1000: Losses 0.4424\n",
      "Epochs 347/1000: Losses 0.4389\n",
      "Epochs 348/1000: Losses 0.4355\n",
      "Epochs 349/1000: Losses 0.4321\n",
      "Epochs 350/1000: Losses 0.4287\n",
      "Epochs 351/1000: Losses 0.4254\n",
      "Epochs 352/1000: Losses 0.4221\n",
      "Epochs 353/1000: Losses 0.4188\n",
      "Epochs 354/1000: Losses 0.4155\n",
      "Epochs 355/1000: Losses 0.4122\n",
      "Epochs 356/1000: Losses 0.4090\n",
      "Epochs 357/1000: Losses 0.4058\n",
      "Epochs 358/1000: Losses 0.4027\n",
      "Epochs 359/1000: Losses 0.3995\n",
      "Epochs 360/1000: Losses 0.3964\n",
      "Epochs 361/1000: Losses 0.3933\n",
      "Epochs 362/1000: Losses 0.3902\n",
      "Epochs 363/1000: Losses 0.3872\n",
      "Epochs 364/1000: Losses 0.3842\n",
      "Epochs 365/1000: Losses 0.3812\n",
      "Epochs 366/1000: Losses 0.3782\n",
      "Epochs 367/1000: Losses 0.3752\n",
      "Epochs 368/1000: Losses 0.3723\n",
      "Epochs 369/1000: Losses 0.3694\n",
      "Epochs 370/1000: Losses 0.3665\n",
      "Epochs 371/1000: Losses 0.3637\n",
      "Epochs 372/1000: Losses 0.3608\n",
      "Epochs 373/1000: Losses 0.3580\n",
      "Epochs 374/1000: Losses 0.3552\n",
      "Epochs 375/1000: Losses 0.3524\n",
      "Epochs 376/1000: Losses 0.3497\n",
      "Epochs 377/1000: Losses 0.3469\n",
      "Epochs 378/1000: Losses 0.3442\n",
      "Epochs 379/1000: Losses 0.3416\n",
      "Epochs 380/1000: Losses 0.3389\n",
      "Epochs 381/1000: Losses 0.3362\n",
      "Epochs 382/1000: Losses 0.3336\n",
      "Epochs 383/1000: Losses 0.3310\n",
      "Epochs 384/1000: Losses 0.3284\n",
      "Epochs 385/1000: Losses 0.3259\n",
      "Epochs 386/1000: Losses 0.3233\n",
      "Epochs 387/1000: Losses 0.3208\n",
      "Epochs 388/1000: Losses 0.3183\n",
      "Epochs 389/1000: Losses 0.3158\n",
      "Epochs 390/1000: Losses 0.3133\n",
      "Epochs 391/1000: Losses 0.3109\n",
      "Epochs 392/1000: Losses 0.3085\n",
      "Epochs 393/1000: Losses 0.3061\n",
      "Epochs 394/1000: Losses 0.3037\n",
      "Epochs 395/1000: Losses 0.3013\n",
      "Epochs 396/1000: Losses 0.2989\n",
      "Epochs 397/1000: Losses 0.2966\n",
      "Epochs 398/1000: Losses 0.2943\n",
      "Epochs 399/1000: Losses 0.2920\n",
      "Epochs 400/1000: Losses 0.2897\n",
      "Epochs 401/1000: Losses 0.2874\n",
      "Epochs 402/1000: Losses 0.2852\n",
      "Epochs 403/1000: Losses 0.2830\n",
      "Epochs 404/1000: Losses 0.2808\n",
      "Epochs 405/1000: Losses 0.2786\n",
      "Epochs 406/1000: Losses 0.2764\n",
      "Epochs 407/1000: Losses 0.2742\n",
      "Epochs 408/1000: Losses 0.2721\n",
      "Epochs 409/1000: Losses 0.2700\n",
      "Epochs 410/1000: Losses 0.2679\n",
      "Epochs 411/1000: Losses 0.2658\n",
      "Epochs 412/1000: Losses 0.2637\n",
      "Epochs 413/1000: Losses 0.2616\n",
      "Epochs 414/1000: Losses 0.2596\n",
      "Epochs 415/1000: Losses 0.2576\n",
      "Epochs 416/1000: Losses 0.2556\n",
      "Epochs 417/1000: Losses 0.2536\n",
      "Epochs 418/1000: Losses 0.2516\n",
      "Epochs 419/1000: Losses 0.2496\n",
      "Epochs 420/1000: Losses 0.2477\n",
      "Epochs 421/1000: Losses 0.2457\n",
      "Epochs 422/1000: Losses 0.2438\n",
      "Epochs 423/1000: Losses 0.2419\n",
      "Epochs 424/1000: Losses 0.2400\n",
      "Epochs 425/1000: Losses 0.2382\n",
      "Epochs 426/1000: Losses 0.2363\n",
      "Epochs 427/1000: Losses 0.2344\n",
      "Epochs 428/1000: Losses 0.2326\n",
      "Epochs 429/1000: Losses 0.2308\n",
      "Epochs 430/1000: Losses 0.2290\n",
      "Epochs 431/1000: Losses 0.2272\n",
      "Epochs 432/1000: Losses 0.2254\n",
      "Epochs 433/1000: Losses 0.2237\n",
      "Epochs 434/1000: Losses 0.2219\n",
      "Epochs 435/1000: Losses 0.2202\n",
      "Epochs 436/1000: Losses 0.2185\n",
      "Epochs 437/1000: Losses 0.2168\n",
      "Epochs 438/1000: Losses 0.2151\n",
      "Epochs 439/1000: Losses 0.2134\n",
      "Epochs 440/1000: Losses 0.2117\n",
      "Epochs 441/1000: Losses 0.2101\n",
      "Epochs 442/1000: Losses 0.2084\n",
      "Epochs 443/1000: Losses 0.2068\n",
      "Epochs 444/1000: Losses 0.2052\n",
      "Epochs 445/1000: Losses 0.2036\n",
      "Epochs 446/1000: Losses 0.2020\n",
      "Epochs 447/1000: Losses 0.2004\n",
      "Epochs 448/1000: Losses 0.1989\n",
      "Epochs 449/1000: Losses 0.1973\n",
      "Epochs 450/1000: Losses 0.1958\n",
      "Epochs 451/1000: Losses 0.1942\n",
      "Epochs 452/1000: Losses 0.1927\n",
      "Epochs 453/1000: Losses 0.1912\n",
      "Epochs 454/1000: Losses 0.1897\n",
      "Epochs 455/1000: Losses 0.1882\n",
      "Epochs 456/1000: Losses 0.1868\n",
      "Epochs 457/1000: Losses 0.1853\n",
      "Epochs 458/1000: Losses 0.1839\n",
      "Epochs 459/1000: Losses 0.1824\n",
      "Epochs 460/1000: Losses 0.1810\n",
      "Epochs 461/1000: Losses 0.1796\n",
      "Epochs 462/1000: Losses 0.1782\n",
      "Epochs 463/1000: Losses 0.1768\n",
      "Epochs 464/1000: Losses 0.1754\n",
      "Epochs 465/1000: Losses 0.1741\n",
      "Epochs 466/1000: Losses 0.1727\n",
      "Epochs 467/1000: Losses 0.1713\n",
      "Epochs 468/1000: Losses 0.1700\n",
      "Epochs 469/1000: Losses 0.1687\n",
      "Epochs 470/1000: Losses 0.1674\n",
      "Epochs 471/1000: Losses 0.1661\n",
      "Epochs 472/1000: Losses 0.1648\n",
      "Epochs 473/1000: Losses 0.1635\n",
      "Epochs 474/1000: Losses 0.1622\n",
      "Epochs 475/1000: Losses 0.1609\n",
      "Epochs 476/1000: Losses 0.1597\n",
      "Epochs 477/1000: Losses 0.1584\n",
      "Epochs 478/1000: Losses 0.1572\n",
      "Epochs 479/1000: Losses 0.1560\n",
      "Epochs 480/1000: Losses 0.1547\n",
      "Epochs 481/1000: Losses 0.1535\n",
      "Epochs 482/1000: Losses 0.1523\n",
      "Epochs 483/1000: Losses 0.1511\n",
      "Epochs 484/1000: Losses 0.1500\n",
      "Epochs 485/1000: Losses 0.1488\n",
      "Epochs 486/1000: Losses 0.1476\n",
      "Epochs 487/1000: Losses 0.1465\n",
      "Epochs 488/1000: Losses 0.1453\n",
      "Epochs 489/1000: Losses 0.1442\n",
      "Epochs 490/1000: Losses 0.1431\n",
      "Epochs 491/1000: Losses 0.1420\n",
      "Epochs 492/1000: Losses 0.1409\n",
      "Epochs 493/1000: Losses 0.1398\n",
      "Epochs 494/1000: Losses 0.1387\n",
      "Epochs 495/1000: Losses 0.1376\n",
      "Epochs 496/1000: Losses 0.1365\n",
      "Epochs 497/1000: Losses 0.1354\n",
      "Epochs 498/1000: Losses 0.1344\n",
      "Epochs 499/1000: Losses 0.1333\n",
      "Epochs 500/1000: Losses 0.1323\n",
      "Epochs 501/1000: Losses 0.1313\n",
      "Epochs 502/1000: Losses 0.1302\n",
      "Epochs 503/1000: Losses 0.1292\n",
      "Epochs 504/1000: Losses 0.1282\n",
      "Epochs 505/1000: Losses 0.1272\n",
      "Epochs 506/1000: Losses 0.1262\n",
      "Epochs 507/1000: Losses 0.1252\n",
      "Epochs 508/1000: Losses 0.1242\n",
      "Epochs 509/1000: Losses 0.1233\n",
      "Epochs 510/1000: Losses 0.1223\n",
      "Epochs 511/1000: Losses 0.1214\n",
      "Epochs 512/1000: Losses 0.1204\n",
      "Epochs 513/1000: Losses 0.1195\n",
      "Epochs 514/1000: Losses 0.1185\n",
      "Epochs 515/1000: Losses 0.1176\n",
      "Epochs 516/1000: Losses 0.1167\n",
      "Epochs 517/1000: Losses 0.1158\n",
      "Epochs 518/1000: Losses 0.1149\n",
      "Epochs 519/1000: Losses 0.1140\n",
      "Epochs 520/1000: Losses 0.1131\n",
      "Epochs 521/1000: Losses 0.1122\n",
      "Epochs 522/1000: Losses 0.1113\n",
      "Epochs 523/1000: Losses 0.1105\n",
      "Epochs 524/1000: Losses 0.1096\n",
      "Epochs 525/1000: Losses 0.1087\n",
      "Epochs 526/1000: Losses 0.1079\n",
      "Epochs 527/1000: Losses 0.1071\n",
      "Epochs 528/1000: Losses 0.1062\n",
      "Epochs 529/1000: Losses 0.1054\n",
      "Epochs 530/1000: Losses 0.1046\n",
      "Epochs 531/1000: Losses 0.1037\n",
      "Epochs 532/1000: Losses 0.1029\n",
      "Epochs 533/1000: Losses 0.1021\n",
      "Epochs 534/1000: Losses 0.1013\n",
      "Epochs 535/1000: Losses 0.1005\n",
      "Epochs 536/1000: Losses 0.0998\n",
      "Epochs 537/1000: Losses 0.0990\n",
      "Epochs 538/1000: Losses 0.0982\n",
      "Epochs 539/1000: Losses 0.0974\n",
      "Epochs 540/1000: Losses 0.0967\n",
      "Epochs 541/1000: Losses 0.0959\n",
      "Epochs 542/1000: Losses 0.0952\n",
      "Epochs 543/1000: Losses 0.0944\n",
      "Epochs 544/1000: Losses 0.0937\n",
      "Epochs 545/1000: Losses 0.0930\n",
      "Epochs 546/1000: Losses 0.0922\n",
      "Epochs 547/1000: Losses 0.0915\n",
      "Epochs 548/1000: Losses 0.0908\n",
      "Epochs 549/1000: Losses 0.0901\n",
      "Epochs 550/1000: Losses 0.0894\n",
      "Epochs 551/1000: Losses 0.0887\n",
      "Epochs 552/1000: Losses 0.0880\n",
      "Epochs 553/1000: Losses 0.0873\n",
      "Epochs 554/1000: Losses 0.0866\n",
      "Epochs 555/1000: Losses 0.0860\n",
      "Epochs 556/1000: Losses 0.0853\n",
      "Epochs 557/1000: Losses 0.0846\n",
      "Epochs 558/1000: Losses 0.0840\n",
      "Epochs 559/1000: Losses 0.0833\n",
      "Epochs 560/1000: Losses 0.0827\n",
      "Epochs 561/1000: Losses 0.0820\n",
      "Epochs 562/1000: Losses 0.0814\n",
      "Epochs 563/1000: Losses 0.0807\n",
      "Epochs 564/1000: Losses 0.0801\n",
      "Epochs 565/1000: Losses 0.0795\n",
      "Epochs 566/1000: Losses 0.0789\n",
      "Epochs 567/1000: Losses 0.0782\n",
      "Epochs 568/1000: Losses 0.0776\n",
      "Epochs 569/1000: Losses 0.0770\n",
      "Epochs 570/1000: Losses 0.0764\n",
      "Epochs 571/1000: Losses 0.0758\n",
      "Epochs 572/1000: Losses 0.0752\n",
      "Epochs 573/1000: Losses 0.0746\n",
      "Epochs 574/1000: Losses 0.0741\n",
      "Epochs 575/1000: Losses 0.0735\n",
      "Epochs 576/1000: Losses 0.0729\n",
      "Epochs 577/1000: Losses 0.0723\n",
      "Epochs 578/1000: Losses 0.0718\n",
      "Epochs 579/1000: Losses 0.0712\n",
      "Epochs 580/1000: Losses 0.0707\n",
      "Epochs 581/1000: Losses 0.0701\n",
      "Epochs 582/1000: Losses 0.0696\n",
      "Epochs 583/1000: Losses 0.0690\n",
      "Epochs 584/1000: Losses 0.0685\n",
      "Epochs 585/1000: Losses 0.0679\n",
      "Epochs 586/1000: Losses 0.0674\n",
      "Epochs 587/1000: Losses 0.0669\n",
      "Epochs 588/1000: Losses 0.0664\n",
      "Epochs 589/1000: Losses 0.0658\n",
      "Epochs 590/1000: Losses 0.0653\n",
      "Epochs 591/1000: Losses 0.0648\n",
      "Epochs 592/1000: Losses 0.0643\n",
      "Epochs 593/1000: Losses 0.0638\n",
      "Epochs 594/1000: Losses 0.0633\n",
      "Epochs 595/1000: Losses 0.0628\n",
      "Epochs 596/1000: Losses 0.0623\n",
      "Epochs 597/1000: Losses 0.0618\n",
      "Epochs 598/1000: Losses 0.0614\n",
      "Epochs 599/1000: Losses 0.0609\n",
      "Epochs 600/1000: Losses 0.0604\n",
      "Epochs 601/1000: Losses 0.0599\n",
      "Epochs 602/1000: Losses 0.0595\n",
      "Epochs 603/1000: Losses 0.0590\n",
      "Epochs 604/1000: Losses 0.0585\n",
      "Epochs 605/1000: Losses 0.0581\n",
      "Epochs 606/1000: Losses 0.0576\n",
      "Epochs 607/1000: Losses 0.0572\n",
      "Epochs 608/1000: Losses 0.0567\n",
      "Epochs 609/1000: Losses 0.0563\n",
      "Epochs 610/1000: Losses 0.0559\n",
      "Epochs 611/1000: Losses 0.0554\n",
      "Epochs 612/1000: Losses 0.0550\n",
      "Epochs 613/1000: Losses 0.0546\n",
      "Epochs 614/1000: Losses 0.0541\n",
      "Epochs 615/1000: Losses 0.0537\n",
      "Epochs 616/1000: Losses 0.0533\n",
      "Epochs 617/1000: Losses 0.0529\n",
      "Epochs 618/1000: Losses 0.0525\n",
      "Epochs 619/1000: Losses 0.0520\n",
      "Epochs 620/1000: Losses 0.0516\n",
      "Epochs 621/1000: Losses 0.0512\n",
      "Epochs 622/1000: Losses 0.0508\n",
      "Epochs 623/1000: Losses 0.0504\n",
      "Epochs 624/1000: Losses 0.0500\n",
      "Epochs 625/1000: Losses 0.0497\n",
      "Epochs 626/1000: Losses 0.0493\n",
      "Epochs 627/1000: Losses 0.0489\n",
      "Epochs 628/1000: Losses 0.0485\n",
      "Epochs 629/1000: Losses 0.0481\n",
      "Epochs 630/1000: Losses 0.0477\n",
      "Epochs 631/1000: Losses 0.0474\n",
      "Epochs 632/1000: Losses 0.0470\n",
      "Epochs 633/1000: Losses 0.0466\n",
      "Epochs 634/1000: Losses 0.0463\n",
      "Epochs 635/1000: Losses 0.0459\n",
      "Epochs 636/1000: Losses 0.0456\n",
      "Epochs 637/1000: Losses 0.0452\n",
      "Epochs 638/1000: Losses 0.0448\n",
      "Epochs 639/1000: Losses 0.0445\n",
      "Epochs 640/1000: Losses 0.0441\n",
      "Epochs 641/1000: Losses 0.0438\n",
      "Epochs 642/1000: Losses 0.0435\n",
      "Epochs 643/1000: Losses 0.0431\n",
      "Epochs 644/1000: Losses 0.0428\n",
      "Epochs 645/1000: Losses 0.0425\n",
      "Epochs 646/1000: Losses 0.0421\n",
      "Epochs 647/1000: Losses 0.0418\n",
      "Epochs 648/1000: Losses 0.0415\n",
      "Epochs 649/1000: Losses 0.0411\n",
      "Epochs 650/1000: Losses 0.0408\n",
      "Epochs 651/1000: Losses 0.0405\n",
      "Epochs 652/1000: Losses 0.0402\n",
      "Epochs 653/1000: Losses 0.0399\n",
      "Epochs 654/1000: Losses 0.0396\n",
      "Epochs 655/1000: Losses 0.0393\n",
      "Epochs 656/1000: Losses 0.0389\n",
      "Epochs 657/1000: Losses 0.0386\n",
      "Epochs 658/1000: Losses 0.0383\n",
      "Epochs 659/1000: Losses 0.0380\n",
      "Epochs 660/1000: Losses 0.0377\n",
      "Epochs 661/1000: Losses 0.0374\n",
      "Epochs 662/1000: Losses 0.0372\n",
      "Epochs 663/1000: Losses 0.0369\n",
      "Epochs 664/1000: Losses 0.0366\n",
      "Epochs 665/1000: Losses 0.0363\n",
      "Epochs 666/1000: Losses 0.0360\n",
      "Epochs 667/1000: Losses 0.0357\n",
      "Epochs 668/1000: Losses 0.0354\n",
      "Epochs 669/1000: Losses 0.0352\n",
      "Epochs 670/1000: Losses 0.0349\n",
      "Epochs 671/1000: Losses 0.0346\n",
      "Epochs 672/1000: Losses 0.0344\n",
      "Epochs 673/1000: Losses 0.0341\n",
      "Epochs 674/1000: Losses 0.0338\n",
      "Epochs 675/1000: Losses 0.0336\n",
      "Epochs 676/1000: Losses 0.0333\n",
      "Epochs 677/1000: Losses 0.0330\n",
      "Epochs 678/1000: Losses 0.0328\n",
      "Epochs 679/1000: Losses 0.0325\n",
      "Epochs 680/1000: Losses 0.0323\n",
      "Epochs 681/1000: Losses 0.0320\n",
      "Epochs 682/1000: Losses 0.0318\n",
      "Epochs 683/1000: Losses 0.0315\n",
      "Epochs 684/1000: Losses 0.0313\n",
      "Epochs 685/1000: Losses 0.0310\n",
      "Epochs 686/1000: Losses 0.0308\n",
      "Epochs 687/1000: Losses 0.0305\n",
      "Epochs 688/1000: Losses 0.0303\n",
      "Epochs 689/1000: Losses 0.0301\n",
      "Epochs 690/1000: Losses 0.0298\n",
      "Epochs 691/1000: Losses 0.0296\n",
      "Epochs 692/1000: Losses 0.0294\n",
      "Epochs 693/1000: Losses 0.0291\n",
      "Epochs 694/1000: Losses 0.0289\n",
      "Epochs 695/1000: Losses 0.0287\n",
      "Epochs 696/1000: Losses 0.0285\n",
      "Epochs 697/1000: Losses 0.0282\n",
      "Epochs 698/1000: Losses 0.0280\n",
      "Epochs 699/1000: Losses 0.0278\n",
      "Epochs 700/1000: Losses 0.0276\n",
      "Epochs 701/1000: Losses 0.0274\n",
      "Epochs 702/1000: Losses 0.0272\n",
      "Epochs 703/1000: Losses 0.0269\n",
      "Epochs 704/1000: Losses 0.0267\n",
      "Epochs 705/1000: Losses 0.0265\n",
      "Epochs 706/1000: Losses 0.0263\n",
      "Epochs 707/1000: Losses 0.0261\n",
      "Epochs 708/1000: Losses 0.0259\n",
      "Epochs 709/1000: Losses 0.0257\n",
      "Epochs 710/1000: Losses 0.0255\n",
      "Epochs 711/1000: Losses 0.0253\n",
      "Epochs 712/1000: Losses 0.0251\n",
      "Epochs 713/1000: Losses 0.0249\n",
      "Epochs 714/1000: Losses 0.0247\n",
      "Epochs 715/1000: Losses 0.0245\n",
      "Epochs 716/1000: Losses 0.0243\n",
      "Epochs 717/1000: Losses 0.0241\n",
      "Epochs 718/1000: Losses 0.0240\n",
      "Epochs 719/1000: Losses 0.0238\n",
      "Epochs 720/1000: Losses 0.0236\n",
      "Epochs 721/1000: Losses 0.0234\n",
      "Epochs 722/1000: Losses 0.0232\n",
      "Epochs 723/1000: Losses 0.0230\n",
      "Epochs 724/1000: Losses 0.0229\n",
      "Epochs 725/1000: Losses 0.0227\n",
      "Epochs 726/1000: Losses 0.0225\n",
      "Epochs 727/1000: Losses 0.0223\n",
      "Epochs 728/1000: Losses 0.0221\n",
      "Epochs 729/1000: Losses 0.0220\n",
      "Epochs 730/1000: Losses 0.0218\n",
      "Epochs 731/1000: Losses 0.0216\n",
      "Epochs 732/1000: Losses 0.0215\n",
      "Epochs 733/1000: Losses 0.0213\n",
      "Epochs 734/1000: Losses 0.0211\n",
      "Epochs 735/1000: Losses 0.0210\n",
      "Epochs 736/1000: Losses 0.0208\n",
      "Epochs 737/1000: Losses 0.0206\n",
      "Epochs 738/1000: Losses 0.0205\n",
      "Epochs 739/1000: Losses 0.0203\n",
      "Epochs 740/1000: Losses 0.0202\n",
      "Epochs 741/1000: Losses 0.0200\n",
      "Epochs 742/1000: Losses 0.0198\n",
      "Epochs 743/1000: Losses 0.0197\n",
      "Epochs 744/1000: Losses 0.0195\n",
      "Epochs 745/1000: Losses 0.0194\n",
      "Epochs 746/1000: Losses 0.0192\n",
      "Epochs 747/1000: Losses 0.0191\n",
      "Epochs 748/1000: Losses 0.0189\n",
      "Epochs 749/1000: Losses 0.0188\n",
      "Epochs 750/1000: Losses 0.0186\n",
      "Epochs 751/1000: Losses 0.0185\n",
      "Epochs 752/1000: Losses 0.0183\n",
      "Epochs 753/1000: Losses 0.0182\n",
      "Epochs 754/1000: Losses 0.0181\n",
      "Epochs 755/1000: Losses 0.0179\n",
      "Epochs 756/1000: Losses 0.0178\n",
      "Epochs 757/1000: Losses 0.0176\n",
      "Epochs 758/1000: Losses 0.0175\n",
      "Epochs 759/1000: Losses 0.0174\n",
      "Epochs 760/1000: Losses 0.0172\n",
      "Epochs 761/1000: Losses 0.0171\n",
      "Epochs 762/1000: Losses 0.0170\n",
      "Epochs 763/1000: Losses 0.0168\n",
      "Epochs 764/1000: Losses 0.0167\n",
      "Epochs 765/1000: Losses 0.0166\n",
      "Epochs 766/1000: Losses 0.0164\n",
      "Epochs 767/1000: Losses 0.0163\n",
      "Epochs 768/1000: Losses 0.0162\n",
      "Epochs 769/1000: Losses 0.0161\n",
      "Epochs 770/1000: Losses 0.0159\n",
      "Epochs 771/1000: Losses 0.0158\n",
      "Epochs 772/1000: Losses 0.0157\n",
      "Epochs 773/1000: Losses 0.0156\n",
      "Epochs 774/1000: Losses 0.0154\n",
      "Epochs 775/1000: Losses 0.0153\n",
      "Epochs 776/1000: Losses 0.0152\n",
      "Epochs 777/1000: Losses 0.0151\n",
      "Epochs 778/1000: Losses 0.0150\n",
      "Epochs 779/1000: Losses 0.0148\n",
      "Epochs 780/1000: Losses 0.0147\n",
      "Epochs 781/1000: Losses 0.0146\n",
      "Epochs 782/1000: Losses 0.0145\n",
      "Epochs 783/1000: Losses 0.0144\n",
      "Epochs 784/1000: Losses 0.0143\n",
      "Epochs 785/1000: Losses 0.0142\n",
      "Epochs 786/1000: Losses 0.0141\n",
      "Epochs 787/1000: Losses 0.0139\n",
      "Epochs 788/1000: Losses 0.0138\n",
      "Epochs 789/1000: Losses 0.0137\n",
      "Epochs 790/1000: Losses 0.0136\n",
      "Epochs 791/1000: Losses 0.0135\n",
      "Epochs 792/1000: Losses 0.0134\n",
      "Epochs 793/1000: Losses 0.0133\n",
      "Epochs 794/1000: Losses 0.0132\n",
      "Epochs 795/1000: Losses 0.0131\n",
      "Epochs 796/1000: Losses 0.0130\n",
      "Epochs 797/1000: Losses 0.0129\n",
      "Epochs 798/1000: Losses 0.0128\n",
      "Epochs 799/1000: Losses 0.0127\n",
      "Epochs 800/1000: Losses 0.0126\n",
      "Epochs 801/1000: Losses 0.0125\n",
      "Epochs 802/1000: Losses 0.0124\n",
      "Epochs 803/1000: Losses 0.0123\n",
      "Epochs 804/1000: Losses 0.0122\n",
      "Epochs 805/1000: Losses 0.0121\n",
      "Epochs 806/1000: Losses 0.0120\n",
      "Epochs 807/1000: Losses 0.0119\n",
      "Epochs 808/1000: Losses 0.0118\n",
      "Epochs 809/1000: Losses 0.0117\n",
      "Epochs 810/1000: Losses 0.0116\n",
      "Epochs 811/1000: Losses 0.0116\n",
      "Epochs 812/1000: Losses 0.0115\n",
      "Epochs 813/1000: Losses 0.0114\n",
      "Epochs 814/1000: Losses 0.0113\n",
      "Epochs 815/1000: Losses 0.0112\n",
      "Epochs 816/1000: Losses 0.0111\n",
      "Epochs 817/1000: Losses 0.0110\n",
      "Epochs 818/1000: Losses 0.0109\n",
      "Epochs 819/1000: Losses 0.0109\n",
      "Epochs 820/1000: Losses 0.0108\n",
      "Epochs 821/1000: Losses 0.0107\n",
      "Epochs 822/1000: Losses 0.0106\n",
      "Epochs 823/1000: Losses 0.0105\n",
      "Epochs 824/1000: Losses 0.0104\n",
      "Epochs 825/1000: Losses 0.0104\n",
      "Epochs 826/1000: Losses 0.0103\n",
      "Epochs 827/1000: Losses 0.0102\n",
      "Epochs 828/1000: Losses 0.0101\n",
      "Epochs 829/1000: Losses 0.0100\n",
      "Epochs 830/1000: Losses 0.0100\n",
      "Epochs 831/1000: Losses 0.0099\n",
      "Epochs 832/1000: Losses 0.0098\n",
      "Epochs 833/1000: Losses 0.0097\n",
      "Epochs 834/1000: Losses 0.0096\n",
      "Epochs 835/1000: Losses 0.0096\n",
      "Epochs 836/1000: Losses 0.0095\n",
      "Epochs 837/1000: Losses 0.0094\n",
      "Epochs 838/1000: Losses 0.0094\n",
      "Epochs 839/1000: Losses 0.0093\n",
      "Epochs 840/1000: Losses 0.0092\n",
      "Epochs 841/1000: Losses 0.0091\n",
      "Epochs 842/1000: Losses 0.0091\n",
      "Epochs 843/1000: Losses 0.0090\n",
      "Epochs 844/1000: Losses 0.0089\n",
      "Epochs 845/1000: Losses 0.0089\n",
      "Epochs 846/1000: Losses 0.0088\n",
      "Epochs 847/1000: Losses 0.0087\n",
      "Epochs 848/1000: Losses 0.0086\n",
      "Epochs 849/1000: Losses 0.0086\n",
      "Epochs 850/1000: Losses 0.0085\n",
      "Epochs 851/1000: Losses 0.0084\n",
      "Epochs 852/1000: Losses 0.0084\n",
      "Epochs 853/1000: Losses 0.0083\n",
      "Epochs 854/1000: Losses 0.0082\n",
      "Epochs 855/1000: Losses 0.0082\n",
      "Epochs 856/1000: Losses 0.0081\n",
      "Epochs 857/1000: Losses 0.0081\n",
      "Epochs 858/1000: Losses 0.0080\n",
      "Epochs 859/1000: Losses 0.0079\n",
      "Epochs 860/1000: Losses 0.0079\n",
      "Epochs 861/1000: Losses 0.0078\n",
      "Epochs 862/1000: Losses 0.0077\n",
      "Epochs 863/1000: Losses 0.0077\n",
      "Epochs 864/1000: Losses 0.0076\n",
      "Epochs 865/1000: Losses 0.0076\n",
      "Epochs 866/1000: Losses 0.0075\n",
      "Epochs 867/1000: Losses 0.0074\n",
      "Epochs 868/1000: Losses 0.0074\n",
      "Epochs 869/1000: Losses 0.0073\n",
      "Epochs 870/1000: Losses 0.0073\n",
      "Epochs 871/1000: Losses 0.0072\n",
      "Epochs 872/1000: Losses 0.0072\n",
      "Epochs 873/1000: Losses 0.0071\n",
      "Epochs 874/1000: Losses 0.0071\n",
      "Epochs 875/1000: Losses 0.0070\n",
      "Epochs 876/1000: Losses 0.0069\n",
      "Epochs 877/1000: Losses 0.0069\n",
      "Epochs 878/1000: Losses 0.0068\n",
      "Epochs 879/1000: Losses 0.0068\n",
      "Epochs 880/1000: Losses 0.0067\n",
      "Epochs 881/1000: Losses 0.0067\n",
      "Epochs 882/1000: Losses 0.0066\n",
      "Epochs 883/1000: Losses 0.0066\n",
      "Epochs 884/1000: Losses 0.0065\n",
      "Epochs 885/1000: Losses 0.0065\n",
      "Epochs 886/1000: Losses 0.0064\n",
      "Epochs 887/1000: Losses 0.0064\n",
      "Epochs 888/1000: Losses 0.0063\n",
      "Epochs 889/1000: Losses 0.0063\n",
      "Epochs 890/1000: Losses 0.0062\n",
      "Epochs 891/1000: Losses 0.0062\n",
      "Epochs 892/1000: Losses 0.0061\n",
      "Epochs 893/1000: Losses 0.0061\n",
      "Epochs 894/1000: Losses 0.0060\n",
      "Epochs 895/1000: Losses 0.0060\n",
      "Epochs 896/1000: Losses 0.0059\n",
      "Epochs 897/1000: Losses 0.0059\n",
      "Epochs 898/1000: Losses 0.0058\n",
      "Epochs 899/1000: Losses 0.0058\n",
      "Epochs 900/1000: Losses 0.0058\n",
      "Epochs 901/1000: Losses 0.0057\n",
      "Epochs 902/1000: Losses 0.0057\n",
      "Epochs 903/1000: Losses 0.0056\n",
      "Epochs 904/1000: Losses 0.0056\n",
      "Epochs 905/1000: Losses 0.0055\n",
      "Epochs 906/1000: Losses 0.0055\n",
      "Epochs 907/1000: Losses 0.0054\n",
      "Epochs 908/1000: Losses 0.0054\n",
      "Epochs 909/1000: Losses 0.0054\n",
      "Epochs 910/1000: Losses 0.0053\n",
      "Epochs 911/1000: Losses 0.0053\n",
      "Epochs 912/1000: Losses 0.0052\n",
      "Epochs 913/1000: Losses 0.0052\n",
      "Epochs 914/1000: Losses 0.0052\n",
      "Epochs 915/1000: Losses 0.0051\n",
      "Epochs 916/1000: Losses 0.0051\n",
      "Epochs 917/1000: Losses 0.0050\n",
      "Epochs 918/1000: Losses 0.0050\n",
      "Epochs 919/1000: Losses 0.0050\n",
      "Epochs 920/1000: Losses 0.0049\n",
      "Epochs 921/1000: Losses 0.0049\n",
      "Epochs 922/1000: Losses 0.0048\n",
      "Epochs 923/1000: Losses 0.0048\n",
      "Epochs 924/1000: Losses 0.0048\n",
      "Epochs 925/1000: Losses 0.0047\n",
      "Epochs 926/1000: Losses 0.0047\n",
      "Epochs 927/1000: Losses 0.0047\n",
      "Epochs 928/1000: Losses 0.0046\n",
      "Epochs 929/1000: Losses 0.0046\n",
      "Epochs 930/1000: Losses 0.0045\n",
      "Epochs 931/1000: Losses 0.0045\n",
      "Epochs 932/1000: Losses 0.0045\n",
      "Epochs 933/1000: Losses 0.0044\n",
      "Epochs 934/1000: Losses 0.0044\n",
      "Epochs 935/1000: Losses 0.0044\n",
      "Epochs 936/1000: Losses 0.0043\n",
      "Epochs 937/1000: Losses 0.0043\n",
      "Epochs 938/1000: Losses 0.0043\n",
      "Epochs 939/1000: Losses 0.0042\n",
      "Epochs 940/1000: Losses 0.0042\n",
      "Epochs 941/1000: Losses 0.0042\n",
      "Epochs 942/1000: Losses 0.0041\n",
      "Epochs 943/1000: Losses 0.0041\n",
      "Epochs 944/1000: Losses 0.0041\n",
      "Epochs 945/1000: Losses 0.0040\n",
      "Epochs 946/1000: Losses 0.0040\n",
      "Epochs 947/1000: Losses 0.0040\n",
      "Epochs 948/1000: Losses 0.0039\n",
      "Epochs 949/1000: Losses 0.0039\n",
      "Epochs 950/1000: Losses 0.0039\n",
      "Epochs 951/1000: Losses 0.0039\n",
      "Epochs 952/1000: Losses 0.0038\n",
      "Epochs 953/1000: Losses 0.0038\n",
      "Epochs 954/1000: Losses 0.0038\n",
      "Epochs 955/1000: Losses 0.0037\n",
      "Epochs 956/1000: Losses 0.0037\n",
      "Epochs 957/1000: Losses 0.0037\n",
      "Epochs 958/1000: Losses 0.0037\n",
      "Epochs 959/1000: Losses 0.0036\n",
      "Epochs 960/1000: Losses 0.0036\n",
      "Epochs 961/1000: Losses 0.0036\n",
      "Epochs 962/1000: Losses 0.0035\n",
      "Epochs 963/1000: Losses 0.0035\n",
      "Epochs 964/1000: Losses 0.0035\n",
      "Epochs 965/1000: Losses 0.0035\n",
      "Epochs 966/1000: Losses 0.0034\n",
      "Epochs 967/1000: Losses 0.0034\n",
      "Epochs 968/1000: Losses 0.0034\n",
      "Epochs 969/1000: Losses 0.0033\n",
      "Epochs 970/1000: Losses 0.0033\n",
      "Epochs 971/1000: Losses 0.0033\n",
      "Epochs 972/1000: Losses 0.0033\n",
      "Epochs 973/1000: Losses 0.0032\n",
      "Epochs 974/1000: Losses 0.0032\n",
      "Epochs 975/1000: Losses 0.0032\n",
      "Epochs 976/1000: Losses 0.0032\n",
      "Epochs 977/1000: Losses 0.0031\n",
      "Epochs 978/1000: Losses 0.0031\n",
      "Epochs 979/1000: Losses 0.0031\n",
      "Epochs 980/1000: Losses 0.0031\n",
      "Epochs 981/1000: Losses 0.0030\n",
      "Epochs 982/1000: Losses 0.0030\n",
      "Epochs 983/1000: Losses 0.0030\n",
      "Epochs 984/1000: Losses 0.0030\n",
      "Epochs 985/1000: Losses 0.0030\n",
      "Epochs 986/1000: Losses 0.0029\n",
      "Epochs 987/1000: Losses 0.0029\n",
      "Epochs 988/1000: Losses 0.0029\n",
      "Epochs 989/1000: Losses 0.0029\n",
      "Epochs 990/1000: Losses 0.0028\n",
      "Epochs 991/1000: Losses 0.0028\n",
      "Epochs 992/1000: Losses 0.0028\n",
      "Epochs 993/1000: Losses 0.0028\n",
      "Epochs 994/1000: Losses 0.0028\n",
      "Epochs 995/1000: Losses 0.0027\n",
      "Epochs 996/1000: Losses 0.0027\n",
      "Epochs 997/1000: Losses 0.0027\n",
      "Epochs 998/1000: Losses 0.0027\n",
      "Epochs 999/1000: Losses 0.0026\n",
      "Epochs 1000/1000: Losses 0.0026\n"
     ]
    },
    {
     "data": {
      "image/png": "[encoded data removed]",
      "text/plain": [
       "<Figure size 640x480 with 1 Axes>"
      ]
     },
     "metadata": {},
     "output_type": "display_data"
    }
   ],
   "source": [
    "losses = []\n",
    "epochs = 1001 \n",
    "for i in range(epochs):\n",
    "    optimizer.zero_grad()\n",
    "    predictions = model(car_price_tensor)\n",
    "    Loss = loss(predictions, number_of_car_sell_tensor)\n",
    "    \n",
    "    Loss.backward() \n",
    "    optimizer.step()\n",
    "\n",
    "    losses.append(Loss.item()) \n",
    "\n",
    "    print(f\"Epochs {i}/{epochs-1}: Losses {Loss.item():.4f}\")\n",
    "\n",
    "\n",
    "plt.plot(range(epochs), losses)\n",
    "plt.xlabel(\"Epochs\") \n",
    "plt.ylabel(\"Loss\") \n",
    "plt.show()"
   ]
  },
  {
   "cell_type": "code",
   "execution_count": 32,
   "metadata": {},
   "outputs": [],
   "source": [
    "predicted = model(car_price_tensor).data.numpy() "
   ]
  },
  {
   "cell_type": "code",
   "execution_count": 33,
   "metadata": {},
   "outputs": [
    {
     "name": "stdout",
     "output_type": "stream",
     "text": [
      "[[7.411399 ]\n",
      " [6.935671 ]\n",
      " [6.459943 ]\n",
      " [5.984215 ]\n",
      " [5.5084867]\n",
      " [5.0327587]\n",
      " [4.5570307]]\n"
     ]
    }
   ],
   "source": [
    "print(predicted) "
   ]
  },
  {
   "cell_type": "code",
   "execution_count": 34,
   "metadata": {},
   "outputs": [
    {
     "data": {
      "image/png": "[encoded data removed]",
      "text/plain": [
       "<Figure size 640x480 with 1 Axes>"
      ]
     },
     "metadata": {},
     "output_type": "display_data"
    }
   ],
   "source": [
    "plt.scatter(car_price_array, number_of_car_sell_array, label=\"Original Data\")\n",
    "plt.scatter(car_price_array, predicted, label=\"Predicted Data\", color=\"red\")\n",
    "plt.legend()\n",
    "plt.show() "
   ]
  },
  {
   "attachments": {},
   "cell_type": "markdown",
   "metadata": {},
   "source": [
    "<h4> Digit Classifier Dataset </h4>"
   ]
  },
  {
   "cell_type": "code",
   "execution_count": 35,
   "metadata": {},
   "outputs": [],
   "source": [
    "import pandas as pd \n",
    "df = pd.read_csv(\"train.csv\")\n"
   ]
  },
  {
   "cell_type": "code",
   "execution_count": 36,
   "metadata": {},
   "outputs": [
    {
     "data": {
      "text/html": [
       "<div>\n",
       "<style scoped>\n",
       "    .dataframe tbody tr th:only-of-type {\n",
       "        vertical-align: middle;\n",
       "    }\n",
       "\n",
       "    .dataframe tbody tr th {\n",
       "        vertical-align: top;\n",
       "    }\n",
       "\n",
       "    .dataframe thead th {\n",
       "        text-align: right;\n",
       "    }\n",
       "</style>\n",
       "<table border=\"1\" class=\"dataframe\">\n",
       "  <thead>\n",
       "    <tr style=\"text-align: right;\">\n",
       "      <th></th>\n",
       "      <th>pixel0</th>\n",
       "      <th>pixel1</th>\n",
       "      <th>pixel2</th>\n",
       "      <th>pixel3</th>\n",
       "      <th>pixel4</th>\n",
       "      <th>pixel5</th>\n",
       "      <th>pixel6</th>\n",
       "      <th>pixel7</th>\n",
       "      <th>pixel8</th>\n",
       "      <th>pixel9</th>\n",
       "      <th>...</th>\n",
       "      <th>pixel774</th>\n",
       "      <th>pixel775</th>\n",
       "      <th>pixel776</th>\n",
       "      <th>pixel777</th>\n",
       "      <th>pixel778</th>\n",
       "      <th>pixel779</th>\n",
       "      <th>pixel780</th>\n",
       "      <th>pixel781</th>\n",
       "      <th>pixel782</th>\n",
       "      <th>pixel783</th>\n",
       "    </tr>\n",
       "  </thead>\n",
       "  <tbody>\n",
       "    <tr>\n",
       "      <th>0</th>\n",
       "      <td>0</td>\n",
       "      <td>0</td>\n",
       "      <td>0</td>\n",
       "      <td>0</td>\n",
       "      <td>0</td>\n",
       "      <td>0</td>\n",
       "      <td>0</td>\n",
       "      <td>0</td>\n",
       "      <td>0</td>\n",
       "      <td>0</td>\n",
       "      <td>...</td>\n",
       "      <td>0</td>\n",
       "      <td>0</td>\n",
       "      <td>0</td>\n",
       "      <td>0</td>\n",
       "      <td>0</td>\n",
       "      <td>0</td>\n",
       "      <td>0</td>\n",
       "      <td>0</td>\n",
       "      <td>0</td>\n",
       "      <td>0</td>\n",
       "    </tr>\n",
       "    <tr>\n",
       "      <th>1</th>\n",
       "      <td>0</td>\n",
       "      <td>0</td>\n",
       "      <td>0</td>\n",
       "      <td>0</td>\n",
       "      <td>0</td>\n",
       "      <td>0</td>\n",
       "      <td>0</td>\n",
       "      <td>0</td>\n",
       "      <td>0</td>\n",
       "      <td>0</td>\n",
       "      <td>...</td>\n",
       "      <td>0</td>\n",
       "      <td>0</td>\n",
       "      <td>0</td>\n",
       "      <td>0</td>\n",
       "      <td>0</td>\n",
       "      <td>0</td>\n",
       "      <td>0</td>\n",
       "      <td>0</td>\n",
       "      <td>0</td>\n",
       "      <td>0</td>\n",
       "    </tr>\n",
       "    <tr>\n",
       "      <th>2</th>\n",
       "      <td>0</td>\n",
       "      <td>0</td>\n",
       "      <td>0</td>\n",
       "      <td>0</td>\n",
       "      <td>0</td>\n",
       "      <td>0</td>\n",
       "      <td>0</td>\n",
       "      <td>0</td>\n",
       "      <td>0</td>\n",
       "      <td>0</td>\n",
       "      <td>...</td>\n",
       "      <td>0</td>\n",
       "      <td>0</td>\n",
       "      <td>0</td>\n",
       "      <td>0</td>\n",
       "      <td>0</td>\n",
       "      <td>0</td>\n",
       "      <td>0</td>\n",
       "      <td>0</td>\n",
       "      <td>0</td>\n",
       "      <td>0</td>\n",
       "    </tr>\n",
       "    <tr>\n",
       "      <th>3</th>\n",
       "      <td>0</td>\n",
       "      <td>0</td>\n",
       "      <td>0</td>\n",
       "      <td>0</td>\n",
       "      <td>0</td>\n",
       "      <td>0</td>\n",
       "      <td>0</td>\n",
       "      <td>0</td>\n",
       "      <td>0</td>\n",
       "      <td>0</td>\n",
       "      <td>...</td>\n",
       "      <td>0</td>\n",
       "      <td>0</td>\n",
       "      <td>0</td>\n",
       "      <td>0</td>\n",
       "      <td>0</td>\n",
       "      <td>0</td>\n",
       "      <td>0</td>\n",
       "      <td>0</td>\n",
       "      <td>0</td>\n",
       "      <td>0</td>\n",
       "    </tr>\n",
       "    <tr>\n",
       "      <th>4</th>\n",
       "      <td>0</td>\n",
       "      <td>0</td>\n",
       "      <td>0</td>\n",
       "      <td>0</td>\n",
       "      <td>0</td>\n",
       "      <td>0</td>\n",
       "      <td>0</td>\n",
       "      <td>0</td>\n",
       "      <td>0</td>\n",
       "      <td>0</td>\n",
       "      <td>...</td>\n",
       "      <td>0</td>\n",
       "      <td>0</td>\n",
       "      <td>0</td>\n",
       "      <td>0</td>\n",
       "      <td>0</td>\n",
       "      <td>0</td>\n",
       "      <td>0</td>\n",
       "      <td>0</td>\n",
       "      <td>0</td>\n",
       "      <td>0</td>\n",
       "    </tr>\n",
       "    <tr>\n",
       "      <th>...</th>\n",
       "      <td>...</td>\n",
       "      <td>...</td>\n",
       "      <td>...</td>\n",
       "      <td>...</td>\n",
       "      <td>...</td>\n",
       "      <td>...</td>\n",
       "      <td>...</td>\n",
       "      <td>...</td>\n",
       "      <td>...</td>\n",
       "      <td>...</td>\n",
       "      <td>...</td>\n",
       "      <td>...</td>\n",
       "      <td>...</td>\n",
       "      <td>...</td>\n",
       "      <td>...</td>\n",
       "      <td>...</td>\n",
       "      <td>...</td>\n",
       "      <td>...</td>\n",
       "      <td>...</td>\n",
       "      <td>...</td>\n",
       "      <td>...</td>\n",
       "    </tr>\n",
       "    <tr>\n",
       "      <th>41995</th>\n",
       "      <td>0</td>\n",
       "      <td>0</td>\n",
       "      <td>0</td>\n",
       "      <td>0</td>\n",
       "      <td>0</td>\n",
       "      <td>0</td>\n",
       "      <td>0</td>\n",
       "      <td>0</td>\n",
       "      <td>0</td>\n",
       "      <td>0</td>\n",
       "      <td>...</td>\n",
       "      <td>0</td>\n",
       "      <td>0</td>\n",
       "      <td>0</td>\n",
       "      <td>0</td>\n",
       "      <td>0</td>\n",
       "      <td>0</td>\n",
       "      <td>0</td>\n",
       "      <td>0</td>\n",
       "      <td>0</td>\n",
       "      <td>0</td>\n",
       "    </tr>\n",
       "    <tr>\n",
       "      <th>41996</th>\n",
       "      <td>0</td>\n",
       "      <td>0</td>\n",
       "      <td>0</td>\n",
       "      <td>0</td>\n",
       "      <td>0</td>\n",
       "      <td>0</td>\n",
       "      <td>0</td>\n",
       "      <td>0</td>\n",
       "      <td>0</td>\n",
       "      <td>0</td>\n",
       "      <td>...</td>\n",
       "      <td>0</td>\n",
       "      <td>0</td>\n",
       "      <td>0</td>\n",
       "      <td>0</td>\n",
       "      <td>0</td>\n",
       "      <td>0</td>\n",
       "      <td>0</td>\n",
       "      <td>0</td>\n",
       "      <td>0</td>\n",
       "      <td>0</td>\n",
       "    </tr>\n",
       "    <tr>\n",
       "      <th>41997</th>\n",
       "      <td>0</td>\n",
       "      <td>0</td>\n",
       "      <td>0</td>\n",
       "      <td>0</td>\n",
       "      <td>0</td>\n",
       "      <td>0</td>\n",
       "      <td>0</td>\n",
       "      <td>0</td>\n",
       "      <td>0</td>\n",
       "      <td>0</td>\n",
       "      <td>...</td>\n",
       "      <td>0</td>\n",
       "      <td>0</td>\n",
       "      <td>0</td>\n",
       "      <td>0</td>\n",
       "      <td>0</td>\n",
       "      <td>0</td>\n",
       "      <td>0</td>\n",
       "      <td>0</td>\n",
       "      <td>0</td>\n",
       "      <td>0</td>\n",
       "    </tr>\n",
       "    <tr>\n",
       "      <th>41998</th>\n",
       "      <td>0</td>\n",
       "      <td>0</td>\n",
       "      <td>0</td>\n",
       "      <td>0</td>\n",
       "      <td>0</td>\n",
       "      <td>0</td>\n",
       "      <td>0</td>\n",
       "      <td>0</td>\n",
       "      <td>0</td>\n",
       "      <td>0</td>\n",
       "      <td>...</td>\n",
       "      <td>0</td>\n",
       "      <td>0</td>\n",
       "      <td>0</td>\n",
       "      <td>0</td>\n",
       "      <td>0</td>\n",
       "      <td>0</td>\n",
       "      <td>0</td>\n",
       "      <td>0</td>\n",
       "      <td>0</td>\n",
       "      <td>0</td>\n",
       "    </tr>\n",
       "    <tr>\n",
       "      <th>41999</th>\n",
       "      <td>0</td>\n",
       "      <td>0</td>\n",
       "      <td>0</td>\n",
       "      <td>0</td>\n",
       "      <td>0</td>\n",
       "      <td>0</td>\n",
       "      <td>0</td>\n",
       "      <td>0</td>\n",
       "      <td>0</td>\n",
       "      <td>0</td>\n",
       "      <td>...</td>\n",
       "      <td>0</td>\n",
       "      <td>0</td>\n",
       "      <td>0</td>\n",
       "      <td>0</td>\n",
       "      <td>0</td>\n",
       "      <td>0</td>\n",
       "      <td>0</td>\n",
       "      <td>0</td>\n",
       "      <td>0</td>\n",
       "      <td>0</td>\n",
       "    </tr>\n",
       "  </tbody>\n",
       "</table>\n",
       "<p>42000 rows × 784 columns</p>\n",
       "</div>"
      ],
      "text/plain": [
       "       pixel0  pixel1  pixel2  pixel3  pixel4  pixel5  pixel6  pixel7  pixel8  \\\n",
       "0           0       0       0       0       0       0       0       0       0   \n",
       "1           0       0       0       0       0       0       0       0       0   \n",
       "2           0       0       0       0       0       0       0       0       0   \n",
       "3           0       0       0       0       0       0       0       0       0   \n",
       "4           0       0       0       0       0       0       0       0       0   \n",
       "...       ...     ...     ...     ...     ...     ...     ...     ...     ...   \n",
       "41995       0       0       0       0       0       0       0       0       0   \n",
       "41996       0       0       0       0       0       0       0       0       0   \n",
       "41997       0       0       0       0       0       0       0       0       0   \n",
       "41998       0       0       0       0       0       0       0       0       0   \n",
       "41999       0       0       0       0       0       0       0       0       0   \n",
       "\n",
       "       pixel9  ...  pixel774  pixel775  pixel776  pixel777  pixel778  \\\n",
       "0           0  ...         0         0         0         0         0   \n",
       "1           0  ...         0         0         0         0         0   \n",
       "2           0  ...         0         0         0         0         0   \n",
       "3           0  ...         0         0         0         0         0   \n",
       "4           0  ...         0         0         0         0         0   \n",
       "...       ...  ...       ...       ...       ...       ...       ...   \n",
       "41995       0  ...         0         0         0         0         0   \n",
       "41996       0  ...         0         0         0         0         0   \n",
       "41997       0  ...         0         0         0         0         0   \n",
       "41998       0  ...         0         0         0         0         0   \n",
       "41999       0  ...         0         0         0         0         0   \n",
       "\n",
       "       pixel779  pixel780  pixel781  pixel782  pixel783  \n",
       "0             0         0         0         0         0  \n",
       "1             0         0         0         0         0  \n",
       "2             0         0         0         0         0  \n",
       "3             0         0         0         0         0  \n",
       "4             0         0         0         0         0  \n",
       "...         ...       ...       ...       ...       ...  \n",
       "41995         0         0         0         0         0  \n",
       "41996         0         0         0         0         0  \n",
       "41997         0         0         0         0         0  \n",
       "41998         0         0         0         0         0  \n",
       "41999         0         0         0         0         0  \n",
       "\n",
       "[42000 rows x 784 columns]"
      ]
     },
     "execution_count": 36,
     "metadata": {},
     "output_type": "execute_result"
    }
   ],
   "source": [
    "image = df.iloc[:, 1:]\n",
    "image"
   ]
  },
  {
   "cell_type": "code",
   "execution_count": 37,
   "metadata": {},
   "outputs": [
    {
     "data": {
      "text/plain": [
       "array([[0, 0, 0, ..., 0, 0, 0],\n",
       "       [0, 0, 0, ..., 0, 0, 0],\n",
       "       [0, 0, 0, ..., 0, 0, 0],\n",
       "       ...,\n",
       "       [0, 0, 0, ..., 0, 0, 0],\n",
       "       [0, 0, 0, ..., 0, 0, 0],\n",
       "       [0, 0, 0, ..., 0, 0, 0]], dtype=int64)"
      ]
     },
     "execution_count": 37,
     "metadata": {},
     "output_type": "execute_result"
    }
   ],
   "source": [
    "image = image.values \n",
    "image"
   ]
  },
  {
   "cell_type": "code",
   "execution_count": 38,
   "metadata": {},
   "outputs": [
    {
     "data": {
      "text/plain": [
       "<matplotlib.image.AxesImage at 0x1caee4109a0>"
      ]
     },
     "execution_count": 38,
     "metadata": {},
     "output_type": "execute_result"
    },
    {
     "data": {
      "image/png": "[encoded data removed]",
      "text/plain": [
       "<Figure size 640x480 with 1 Axes>"
      ]
     },
     "metadata": {},
     "output_type": "display_data"
    }
   ],
   "source": [
    "random_image = image[10].reshape(28, 28)\n",
    "random_image.shape\n",
    "plt.imshow(random_image)"
   ]
  },
  {
   "cell_type": "code",
   "execution_count": 39,
   "metadata": {},
   "outputs": [
    {
     "data": {
      "text/html": [
       "<div>\n",
       "<style scoped>\n",
       "    .dataframe tbody tr th:only-of-type {\n",
       "        vertical-align: middle;\n",
       "    }\n",
       "\n",
       "    .dataframe tbody tr th {\n",
       "        vertical-align: top;\n",
       "    }\n",
       "\n",
       "    .dataframe thead th {\n",
       "        text-align: right;\n",
       "    }\n",
       "</style>\n",
       "<table border=\"1\" class=\"dataframe\">\n",
       "  <thead>\n",
       "    <tr style=\"text-align: right;\">\n",
       "      <th></th>\n",
       "      <th>label</th>\n",
       "      <th>pixel0</th>\n",
       "      <th>pixel1</th>\n",
       "      <th>pixel2</th>\n",
       "      <th>pixel3</th>\n",
       "      <th>pixel4</th>\n",
       "      <th>pixel5</th>\n",
       "      <th>pixel6</th>\n",
       "      <th>pixel7</th>\n",
       "      <th>pixel8</th>\n",
       "      <th>...</th>\n",
       "      <th>pixel774</th>\n",
       "      <th>pixel775</th>\n",
       "      <th>pixel776</th>\n",
       "      <th>pixel777</th>\n",
       "      <th>pixel778</th>\n",
       "      <th>pixel779</th>\n",
       "      <th>pixel780</th>\n",
       "      <th>pixel781</th>\n",
       "      <th>pixel782</th>\n",
       "      <th>pixel783</th>\n",
       "    </tr>\n",
       "  </thead>\n",
       "  <tbody>\n",
       "    <tr>\n",
       "      <th>0</th>\n",
       "      <td>1</td>\n",
       "      <td>0</td>\n",
       "      <td>0</td>\n",
       "      <td>0</td>\n",
       "      <td>0</td>\n",
       "      <td>0</td>\n",
       "      <td>0</td>\n",
       "      <td>0</td>\n",
       "      <td>0</td>\n",
       "      <td>0</td>\n",
       "      <td>...</td>\n",
       "      <td>0</td>\n",
       "      <td>0</td>\n",
       "      <td>0</td>\n",
       "      <td>0</td>\n",
       "      <td>0</td>\n",
       "      <td>0</td>\n",
       "      <td>0</td>\n",
       "      <td>0</td>\n",
       "      <td>0</td>\n",
       "      <td>0</td>\n",
       "    </tr>\n",
       "    <tr>\n",
       "      <th>1</th>\n",
       "      <td>0</td>\n",
       "      <td>0</td>\n",
       "      <td>0</td>\n",
       "      <td>0</td>\n",
       "      <td>0</td>\n",
       "      <td>0</td>\n",
       "      <td>0</td>\n",
       "      <td>0</td>\n",
       "      <td>0</td>\n",
       "      <td>0</td>\n",
       "      <td>...</td>\n",
       "      <td>0</td>\n",
       "      <td>0</td>\n",
       "      <td>0</td>\n",
       "      <td>0</td>\n",
       "      <td>0</td>\n",
       "      <td>0</td>\n",
       "      <td>0</td>\n",
       "      <td>0</td>\n",
       "      <td>0</td>\n",
       "      <td>0</td>\n",
       "    </tr>\n",
       "    <tr>\n",
       "      <th>2</th>\n",
       "      <td>1</td>\n",
       "      <td>0</td>\n",
       "      <td>0</td>\n",
       "      <td>0</td>\n",
       "      <td>0</td>\n",
       "      <td>0</td>\n",
       "      <td>0</td>\n",
       "      <td>0</td>\n",
       "      <td>0</td>\n",
       "      <td>0</td>\n",
       "      <td>...</td>\n",
       "      <td>0</td>\n",
       "      <td>0</td>\n",
       "      <td>0</td>\n",
       "      <td>0</td>\n",
       "      <td>0</td>\n",
       "      <td>0</td>\n",
       "      <td>0</td>\n",
       "      <td>0</td>\n",
       "      <td>0</td>\n",
       "      <td>0</td>\n",
       "    </tr>\n",
       "    <tr>\n",
       "      <th>3</th>\n",
       "      <td>4</td>\n",
       "      <td>0</td>\n",
       "      <td>0</td>\n",
       "      <td>0</td>\n",
       "      <td>0</td>\n",
       "      <td>0</td>\n",
       "      <td>0</td>\n",
       "      <td>0</td>\n",
       "      <td>0</td>\n",
       "      <td>0</td>\n",
       "      <td>...</td>\n",
       "      <td>0</td>\n",
       "      <td>0</td>\n",
       "      <td>0</td>\n",
       "      <td>0</td>\n",
       "      <td>0</td>\n",
       "      <td>0</td>\n",
       "      <td>0</td>\n",
       "      <td>0</td>\n",
       "      <td>0</td>\n",
       "      <td>0</td>\n",
       "    </tr>\n",
       "    <tr>\n",
       "      <th>4</th>\n",
       "      <td>0</td>\n",
       "      <td>0</td>\n",
       "      <td>0</td>\n",
       "      <td>0</td>\n",
       "      <td>0</td>\n",
       "      <td>0</td>\n",
       "      <td>0</td>\n",
       "      <td>0</td>\n",
       "      <td>0</td>\n",
       "      <td>0</td>\n",
       "      <td>...</td>\n",
       "      <td>0</td>\n",
       "      <td>0</td>\n",
       "      <td>0</td>\n",
       "      <td>0</td>\n",
       "      <td>0</td>\n",
       "      <td>0</td>\n",
       "      <td>0</td>\n",
       "      <td>0</td>\n",
       "      <td>0</td>\n",
       "      <td>0</td>\n",
       "    </tr>\n",
       "  </tbody>\n",
       "</table>\n",
       "<p>5 rows × 785 columns</p>\n",
       "</div>"
      ],
      "text/plain": [
       "   label  pixel0  pixel1  pixel2  pixel3  pixel4  pixel5  pixel6  pixel7  \\\n",
       "0      1       0       0       0       0       0       0       0       0   \n",
       "1      0       0       0       0       0       0       0       0       0   \n",
       "2      1       0       0       0       0       0       0       0       0   \n",
       "3      4       0       0       0       0       0       0       0       0   \n",
       "4      0       0       0       0       0       0       0       0       0   \n",
       "\n",
       "   pixel8  ...  pixel774  pixel775  pixel776  pixel777  pixel778  pixel779  \\\n",
       "0       0  ...         0         0         0         0         0         0   \n",
       "1       0  ...         0         0         0         0         0         0   \n",
       "2       0  ...         0         0         0         0         0         0   \n",
       "3       0  ...         0         0         0         0         0         0   \n",
       "4       0  ...         0         0         0         0         0         0   \n",
       "\n",
       "   pixel780  pixel781  pixel782  pixel783  \n",
       "0         0         0         0         0  \n",
       "1         0         0         0         0  \n",
       "2         0         0         0         0  \n",
       "3         0         0         0         0  \n",
       "4         0         0         0         0  \n",
       "\n",
       "[5 rows x 785 columns]"
      ]
     },
     "execution_count": 39,
     "metadata": {},
     "output_type": "execute_result"
    }
   ],
   "source": [
    "df.head()"
   ]
  },
  {
   "cell_type": "code",
   "execution_count": 40,
   "metadata": {},
   "outputs": [],
   "source": [
    "features = df.iloc[:, 1:]\n",
    "targets = df[\"label\"]\n"
   ]
  },
  {
   "cell_type": "code",
   "execution_count": 41,
   "metadata": {},
   "outputs": [],
   "source": [
    "features = features.values "
   ]
  },
  {
   "cell_type": "code",
   "execution_count": 42,
   "metadata": {},
   "outputs": [
    {
     "name": "stdout",
     "output_type": "stream",
     "text": [
      "(42000, 784)\n",
      "(42000,)\n"
     ]
    }
   ],
   "source": [
    "print(features.shape) \n",
    "print(targets.shape)"
   ]
  },
  {
   "cell_type": "code",
   "execution_count": 43,
   "metadata": {},
   "outputs": [],
   "source": [
    "targets = targets.values "
   ]
  },
  {
   "cell_type": "code",
   "execution_count": 44,
   "metadata": {},
   "outputs": [
    {
     "name": "stdout",
     "output_type": "stream",
     "text": [
      "[[0. 0. 0. ... 0. 0. 0.]\n",
      " [0. 0. 0. ... 0. 0. 0.]\n",
      " [0. 0. 0. ... 0. 0. 0.]\n",
      " ...\n",
      " [0. 0. 0. ... 0. 0. 0.]\n",
      " [0. 0. 0. ... 0. 0. 0.]\n",
      " [0. 0. 0. ... 0. 0. 0.]]\n"
     ]
    }
   ],
   "source": [
    "#Normalizations \n",
    "features = features/255\n",
    "print(features)"
   ]
  },
  {
   "cell_type": "code",
   "execution_count": 45,
   "metadata": {},
   "outputs": [],
   "source": [
    "features = features.astype(np.float32)\n",
    "targets = targets.astype(np.float32)"
   ]
  },
  {
   "cell_type": "code",
   "execution_count": 46,
   "metadata": {},
   "outputs": [
    {
     "data": {
      "text/plain": [
       "dtype('float32')"
      ]
     },
     "execution_count": 46,
     "metadata": {},
     "output_type": "execute_result"
    }
   ],
   "source": [
    "features.dtype"
   ]
  },
  {
   "cell_type": "code",
   "execution_count": 47,
   "metadata": {},
   "outputs": [],
   "source": [
    "from sklearn.model_selection import train_test_split "
   ]
  },
  {
   "cell_type": "code",
   "execution_count": 48,
   "metadata": {},
   "outputs": [],
   "source": [
    "\n",
    "\n",
    "X_train, X_test, y_train, y_test=train_test_split(features, targets, test_size=0.2, random_state=42) "
   ]
  },
  {
   "cell_type": "code",
   "execution_count": 49,
   "metadata": {},
   "outputs": [],
   "source": [
    "X_train = torch.from_numpy(X_train)\n",
    "y_train = torch.from_numpy(y_train).type(torch.LongTensor)\n",
    "\n",
    "X_test = torch.from_numpy(X_test)\n",
    "y_test = torch.from_numpy(y_test).type(torch.LongTensor)"
   ]
  },
  {
   "cell_type": "code",
   "execution_count": 51,
   "metadata": {},
   "outputs": [],
   "source": [
    "from torch.utils.data import Dataset\n",
    "class TrainDataset(Dataset):\n",
    "    def __init__(self, X, y):\n",
    "\n",
    "        self.X = X \n",
    "        self.y = y \n",
    "\n",
    "    def __len__(self):\n",
    "        return len(self.X)\n",
    "\n",
    "    def __getitem__(self, index):\n",
    "        features = self.X[index]\n",
    "        targets = self.y[index] \n",
    "        return features, targets       "
   ]
  },
  {
   "cell_type": "code",
   "execution_count": 52,
   "metadata": {},
   "outputs": [],
   "source": [
    "train = TrainDataset(X_train, y_train) \n",
    "test = TrainDataset(X_test, y_test)"
   ]
  },
  {
   "cell_type": "code",
   "execution_count": 53,
   "metadata": {},
   "outputs": [],
   "source": [
    "from torch.utils.data import DataLoader \n",
    "\n",
    "batch_size=100\n",
    "\n",
    "train_loader = DataLoader(train, batch_size=batch_size, shuffle=False) \n",
    "test_loader = DataLoader(test, batch_size=batch_size, shuffle=False) "
   ]
  },
  {
   "cell_type": "code",
   "execution_count": 58,
   "metadata": {},
   "outputs": [
    {
     "name": "stdout",
     "output_type": "stream",
     "text": [
      "29\n"
     ]
    }
   ],
   "source": [
    "batch_size = 100 \n",
    "n_iter = 10000 \n",
    "\n",
    "n_epochs = n_iter / (len(X_train) / batch_size)\n",
    "n_epochs = int(n_epochs)\n",
    "print(n_epochs)"
   ]
  },
  {
   "cell_type": "code",
   "execution_count": 57,
   "metadata": {},
   "outputs": [
    {
     "data": {
      "text/plain": [
       "Text(0.5, 1.0, '8')"
      ]
     },
     "execution_count": 57,
     "metadata": {},
     "output_type": "execute_result"
    },
    {
     "data": {
      "image/png": "[encoded data removed]",
      "text/plain": [
       "<Figure size 640x480 with 1 Axes>"
      ]
     },
     "metadata": {},
     "output_type": "display_data"
    }
   ],
   "source": [
    "plt.imshow(train[5][0].reshape(28, 28))\n",
    "plt.title(train[5][1].data.numpy())"
   ]
  },
  {
   "cell_type": "code",
   "execution_count": 96,
   "metadata": {},
   "outputs": [],
   "source": [
    "#Logistic Regression \n",
    "\n",
    "class LogisticRegression(nn.Module):\n",
    "\n",
    "    def __init__(self, input_dims, output_dims):\n",
    "        super(LogisticRegression, self).__init__()\n",
    "\n",
    "\n",
    "        self.linear = nn.Linear(input_dims, output_dims)\n",
    "    \n",
    "\n",
    "    def forward(self, X):\n",
    "        return self.linear(X)"
   ]
  },
  {
   "cell_type": "code",
   "execution_count": 97,
   "metadata": {},
   "outputs": [
    {
     "name": "stdout",
     "output_type": "stream",
     "text": [
      "LogisticRegression(\n",
      "  (linear): Linear(in_features=784, out_features=10, bias=True)\n",
      ")\n"
     ]
    }
   ],
   "source": [
    "input_dims = 28*28\n",
    "output_dims = int(len(df[\"label\"].unique()))\n",
    "model = LogisticRegression(input_dims, output_dims)\n",
    "print(model)"
   ]
  },
  {
   "cell_type": "code",
   "execution_count": 98,
   "metadata": {},
   "outputs": [
    {
     "name": "stdout",
     "output_type": "stream",
     "text": [
      "cuda:0\n"
     ]
    }
   ],
   "source": [
    "device = torch.device(\"cuda:0\" if torch.cuda.is_available() else \"cpu\")\n",
    "print(device)"
   ]
  },
  {
   "cell_type": "code",
   "execution_count": 99,
   "metadata": {},
   "outputs": [
    {
     "data": {
      "text/plain": [
       "LogisticRegression(\n",
       "  (linear): Linear(in_features=784, out_features=10, bias=True)\n",
       ")"
      ]
     },
     "execution_count": 99,
     "metadata": {},
     "output_type": "execute_result"
    }
   ],
   "source": [
    "model.to(device)"
   ]
  },
  {
   "cell_type": "code",
   "execution_count": 100,
   "metadata": {},
   "outputs": [],
   "source": [
    "loss = nn.CrossEntropyLoss()\n",
    "optimizer = torch.optim.SGD(model.parameters(), lr=0.001)"
   ]
  },
  {
   "cell_type": "code",
   "execution_count": 103,
   "metadata": {},
   "outputs": [
    {
     "name": "stdout",
     "output_type": "stream",
     "text": [
      "Iteration: 500 Loss: 0.5720274448394775 Accuracy: 86.04761505126953\n",
      "Iteration: 1000 Loss: 0.6591214537620544 Accuracy: 86.17857360839844\n",
      "Iteration: 1500 Loss: 0.4829268157482147 Accuracy: 86.23809051513672\n",
      "Iteration: 2000 Loss: 0.5816858410835266 Accuracy: 86.41666412353516\n",
      "Iteration: 2500 Loss: 0.5297888517379761 Accuracy: 86.5\n",
      "Iteration: 3000 Loss: 0.4105437099933624 Accuracy: 86.63095092773438\n",
      "Iteration: 3500 Loss: 0.5345861315727234 Accuracy: 86.72618865966797\n",
      "Iteration: 4000 Loss: 0.389784038066864 Accuracy: 86.8452377319336\n",
      "Iteration: 4500 Loss: 0.7052978277206421 Accuracy: 86.88095092773438\n",
      "Iteration: 5000 Loss: 0.5200796723365784 Accuracy: 86.94047546386719\n",
      "Iteration: 5500 Loss: 0.508129894733429 Accuracy: 87.03571319580078\n",
      "Iteration: 6000 Loss: 0.6516424417495728 Accuracy: 87.13095092773438\n",
      "Iteration: 6500 Loss: 0.4490284323692322 Accuracy: 87.19047546386719\n",
      "Iteration: 7000 Loss: 0.5242313146591187 Accuracy: 87.27381134033203\n",
      "Iteration: 7500 Loss: 0.45905303955078125 Accuracy: 87.30952453613281\n",
      "Iteration: 8000 Loss: 0.5769523978233337 Accuracy: 87.38095092773438\n",
      "Iteration: 8500 Loss: 0.4154345393180847 Accuracy: 87.3452377319336\n",
      "Iteration: 9000 Loss: 0.4997531473636627 Accuracy: 87.47618865966797\n",
      "Iteration: 9500 Loss: 0.4129341244697571 Accuracy: 87.46428680419922\n"
     ]
    }
   ],
   "source": [
    "count = 0\n",
    "loss_list = []\n",
    "iteration_list = []\n",
    "for epochs in range(n_epochs):\n",
    "    for i, (images, labels) in enumerate(train_loader):\n",
    "        optimizer.zero_grad()\n",
    "        train = Variable(images.view(-1, 28*28)).to(device)\n",
    "        labels = Variable(labels).to(device) \n",
    "\n",
    "\n",
    "        predictions = model(train)\n",
    "        Loss = loss(predictions, labels) \n",
    "        Loss.backward() \n",
    "\n",
    "        optimizer.step() \n",
    "\n",
    "        count += 1 \n",
    "\n",
    "        if count % 50 == 0:\n",
    "            correct = 0 \n",
    "            total = 0 \n",
    "\n",
    "            for images, labels in test_loader:\n",
    "                test = Variable(images.view(-1, 28*28)).to(device)\n",
    "                labels = Variable(labels).to(device)  \n",
    "\n",
    "                output = model(test) \n",
    "                max_value, predicted_value = torch.max(output, 1)\n",
    "\n",
    "                total += len(labels)\n",
    "\n",
    "                correct += (predicted_value==labels).sum()\n",
    "\n",
    "            accuracy = 100 * correct / float(total)\n",
    "            loss_list.append(Loss.item()) \n",
    "            iteration_list.append(count) \n",
    "\n",
    "        if count % 500 == 0:\n",
    "            print(f\"Iteration: {count} Loss: {Loss.item()} Accuracy: {accuracy}\")\n",
    "\n",
    "\n",
    "\n"
   ]
  },
  {
   "cell_type": "code",
   "execution_count": 104,
   "metadata": {},
   "outputs": [
    {
     "name": "stdout",
     "output_type": "stream",
     "text": [
      "tensor([[ 2.0434, -1.8182],\n",
      "        [ 0.1710,  0.8707]])\n",
      "tensor([2.0434, 0.8707])\n",
      "tensor([0, 1])\n"
     ]
    }
   ],
   "source": [
    "a = torch.randn(2, 2)\n",
    "max_value, max_index = torch.max(a, 1)\n",
    "print(a)\n",
    "print(max_value)\n",
    "print(max_index)"
   ]
  },
  {
   "cell_type": "code",
   "execution_count": 106,
   "metadata": {},
   "outputs": [
    {
     "data": {
      "image/png": "[encoded data removed]",
      "text/plain": [
       "<Figure size 640x480 with 1 Axes>"
      ]
     },
     "metadata": {},
     "output_type": "display_data"
    }
   ],
   "source": [
    "plt.plot(iteration_list, loss_list) \n",
    "plt.xlabel(\"Number of Iteration\") \n",
    "plt.ylabel(\"Loss\") \n",
    "plt.title(\"Logistic Regression: Loss VS Number of Iteration\") \n",
    "plt.show()"
   ]
  },
  {
   "attachments": {},
   "cell_type": "markdown",
   "metadata": {},
   "source": [
    "<h4> Artificial Neural Network </h4>"
   ]
  },
  {
   "cell_type": "code",
   "execution_count": 119,
   "metadata": {},
   "outputs": [
    {
     "name": "stdout",
     "output_type": "stream",
     "text": [
      "ANNModel(\n",
      "  (fc1): Linear(in_features=784, out_features=150, bias=True)\n",
      "  (relu1): ReLU()\n",
      "  (fc2): Linear(in_features=150, out_features=150, bias=True)\n",
      "  (tanh2): Tanh()\n",
      "  (fc3): Linear(in_features=150, out_features=150, bias=True)\n",
      "  (elu3): ELU(alpha=1.0)\n",
      "  (fc4): Linear(in_features=150, out_features=100, bias=True)\n",
      "  (sigmoid): Sigmoid()\n",
      "  (fc5): Linear(in_features=100, out_features=10, bias=True)\n",
      ")\n"
     ]
    }
   ],
   "source": [
    "class ANNModel(nn.Module):\n",
    "    def __init__(self, input_dims, hidden_dims, hidden_dims_2, output_dims):\n",
    "        super(ANNModel, self).__init__()\n",
    "\n",
    "       \n",
    "        self.fc1 = nn.Linear(input_dims, hidden_dims)\n",
    "        self.relu1 = nn.ReLU()\n",
    "        self.fc2 = nn.Linear(hidden_dims, hidden_dims)\n",
    "        self.tanh2 = nn.Tanh()\n",
    "        self.fc3 = nn.Linear(hidden_dims, hidden_dims)\n",
    "        self.elu3 = nn.ELU()\n",
    "        self.fc4 = nn.Linear(hidden_dims, hidden_dims_2)\n",
    "        self.sigmoid = nn.Sigmoid()\n",
    "        self.fc5 = nn.Linear(hidden_dims_2, output_dims)\n",
    "        \n",
    "    def forward(self, X):\n",
    "        out = self.fc1(X) \n",
    "\n",
    "        out = self.relu1(out)\n",
    "        out = self.fc2(out)\n",
    "        out = self.tanh2(out) \n",
    "        out = self.fc3(out) \n",
    "        out = self.elu3(out)\n",
    "        out = self.fc4(out)\n",
    "        out = self.sigmoid(out)\n",
    "        out = self.fc5(out)\n",
    "\n",
    "        return out \n",
    "\n",
    "input_dims = 28*28 \n",
    "hidden_dims = 150 \n",
    "hidden_dims_2 = 100\n",
    "output_dims = 10 \n",
    "\n",
    "model = ANNModel(input_dims, hidden_dims, hidden_dims_2, output_dims)\n",
    "print(model)"
   ]
  },
  {
   "cell_type": "code",
   "execution_count": 120,
   "metadata": {},
   "outputs": [
    {
     "name": "stdout",
     "output_type": "stream",
     "text": [
      "cuda:0\n"
     ]
    }
   ],
   "source": [
    "device = torch.device(\"cuda:0\" if torch.cuda.is_available() else \"cpu\")\n",
    "print(device)\n",
    "model.to(device)\n",
    "\n",
    "loss = nn.CrossEntropyLoss()\n",
    "optimizer = torch.optim.SGD(model.parameters(), lr=0.02)\n"
   ]
  },
  {
   "cell_type": "code",
   "execution_count": 121,
   "metadata": {},
   "outputs": [
    {
     "name": "stdout",
     "output_type": "stream",
     "text": [
      "Iteration: 500 Loss: 2.2952213287353516 Accuracy: 11.273809432983398\n",
      "Iteration: 1000 Loss: 2.288464307785034 Accuracy: 15.857142448425293\n",
      "Iteration: 1500 Loss: 2.095696449279785 Accuracy: 31.30952262878418\n",
      "Iteration: 2000 Loss: 1.4029932022094727 Accuracy: 54.238094329833984\n",
      "Iteration: 2500 Loss: 1.0016101598739624 Accuracy: 71.17857360839844\n",
      "Iteration: 3000 Loss: 0.60942542552948 Accuracy: 80.19047546386719\n",
      "Iteration: 3500 Loss: 0.5257610082626343 Accuracy: 84.3452377319336\n",
      "Iteration: 4000 Loss: 0.27608612179756165 Accuracy: 86.58333587646484\n",
      "Iteration: 4500 Loss: 0.5984113216400146 Accuracy: 87.9047622680664\n",
      "Iteration: 5000 Loss: 0.3209036588668823 Accuracy: 88.9047622680664\n",
      "Iteration: 5500 Loss: 0.3900502920150757 Accuracy: 89.98809051513672\n",
      "Iteration: 6000 Loss: 0.4056837856769562 Accuracy: 90.64285278320312\n",
      "Iteration: 6500 Loss: 0.18510238826274872 Accuracy: 91.92857360839844\n",
      "Iteration: 7000 Loss: 0.3233816623687744 Accuracy: 92.6547622680664\n",
      "Iteration: 7500 Loss: 0.1984945833683014 Accuracy: 93.17857360839844\n",
      "Iteration: 8000 Loss: 0.22487320005893707 Accuracy: 93.42857360839844\n",
      "Iteration: 8500 Loss: 0.12424033135175705 Accuracy: 94.05952453613281\n",
      "Iteration: 9000 Loss: 0.10753598064184189 Accuracy: 94.4047622680664\n",
      "Iteration: 9500 Loss: 0.07927846163511276 Accuracy: 94.60713958740234\n"
     ]
    }
   ],
   "source": [
    "count = 0\n",
    "loss_list = []\n",
    "iteration_list = []\n",
    "accuracy_list = []\n",
    "for epochs in range(n_epochs):\n",
    "    for i, (images, labels) in enumerate(train_loader):\n",
    "        optimizer.zero_grad()\n",
    "        train = Variable(images.view(-1, 28*28)).to(device)\n",
    "        labels = Variable(labels).to(device) \n",
    "\n",
    "\n",
    "        predictions = model(train)\n",
    "        Loss = loss(predictions, labels) \n",
    "        Loss.backward() \n",
    "\n",
    "        optimizer.step() \n",
    "\n",
    "        count += 1 \n",
    "\n",
    "        if count % 50 == 0:\n",
    "            correct = 0 \n",
    "            total = 0 \n",
    "\n",
    "            for images, labels in test_loader:\n",
    "                test = Variable(images.view(-1, 28*28)).to(device)\n",
    "                labels = Variable(labels).to(device)  \n",
    "\n",
    "                output = model(test) \n",
    "                max_value, predicted_value = torch.max(output, 1)\n",
    "\n",
    "                total += len(labels)\n",
    "\n",
    "                correct += (predicted_value==labels).sum()\n",
    "\n",
    "            accuracy = 100 * correct / float(total)\n",
    "            loss_list.append(Loss.item()) \n",
    "            iteration_list.append(count) \n",
    "            accuracy_list.append(accuracy)\n",
    "\n",
    "        if count % 500 == 0:\n",
    "            print(f\"Iteration: {count} Loss: {Loss.item()} Accuracy: {accuracy}\")\n",
    "\n",
    "\n",
    "\n"
   ]
  },
  {
   "cell_type": "code",
   "execution_count": 134,
   "metadata": {},
   "outputs": [
    {
     "name": "stdout",
     "output_type": "stream",
     "text": [
      "[9.345237731933594, 10.821428298950195, 10.821428298950195, 10.821428298950195, 10.821428298950195, 10.630951881408691, 10.630951881408691, 18.702381134033203, 10.821428298950195, 11.273809432983398, 11.083333015441895, 11.273809432983398, 10.821428298950195, 18.440475463867188, 10.821428298950195, 10.833333015441895, 27.880952835083008, 12.535714149475098, 37.488094329833984, 15.857142448425293, 18.059524536132812, 15.416666030883789, 18.369047164916992, 20.89285659790039, 27.464284896850586, 28.5238094329834, 30.60714340209961, 27.08333396911621, 31.80952262878418, 31.30952262878418, 29.5, 34.023807525634766, 35.60714340209961, 39.91666793823242, 40.988094329833984, 41.773807525634766, 46.91666793823242, 47.33333206176758, 51.46428680419922, 54.238094329833984, 57.53571319580078, 58.83333206176758, 60.07142639160156, 61.69047546386719, 62.0, 65.22618865966797, 66.14285278320312, 68.01190185546875, 70.3452377319336, 71.17857360839844, 72.98809814453125, 74.33333587646484, 75.25, 75.70237731933594, 77.13095092773438, 77.89285278320312, 78.44047546386719, 78.9047622680664, 80.08333587646484, 80.19047546386719, 80.69047546386719, 81.94047546386719, 82.16666412353516, 82.16666412353516, 83.08333587646484, 83.63095092773438, 83.64285278320312, 83.97618865966797, 84.35713958740234, 84.3452377319336, 84.85713958740234, 84.95237731933594, 85.1547622680664, 85.0952377319336, 85.67857360839844, 85.78571319580078, 86.05952453613281, 85.97618865966797, 86.36904907226562, 86.58333587646484, 86.66666412353516, 86.92857360839844, 87.05952453613281, 87.03571319580078, 87.20237731933594, 87.45237731933594, 87.51190185546875, 87.73809051513672, 87.78571319580078, 87.9047622680664, 87.80952453613281, 88.10713958740234, 88.29761505126953, 88.35713958740234, 88.27381134033203, 88.77381134033203, 88.78571319580078, 89.0, 88.9047622680664, 88.9047622680664, 89.28571319580078, 89.38095092773438, 89.20237731933594, 89.42857360839844, 89.78571319580078, 89.72618865966797, 89.91666412353516, 90.0, 90.07142639160156, 89.98809051513672, 90.1547622680664, 90.3452377319336, 90.48809051513672, 90.57142639160156, 90.29761505126953, 90.53571319580078, 90.4047622680664, 90.85713958740234, 90.83333587646484, 90.64285278320312, 91.08333587646484, 91.30952453613281, 91.45237731933594, 91.26190185546875, 91.60713958740234, 91.6547622680664, 91.79761505126953, 91.63095092773438, 91.70237731933594, 91.92857360839844, 92.01190185546875, 91.97618865966797, 91.82142639160156, 92.04761505126953, 92.05952453613281, 92.36904907226562, 92.21428680419922, 92.3452377319336, 92.36904907226562, 92.6547622680664, 92.55952453613281, 92.70237731933594, 92.71428680419922, 92.58333587646484, 92.75, 92.95237731933594, 92.73809051513672, 92.96428680419922, 93.05952453613281, 93.17857360839844, 93.04761505126953, 93.19047546386719, 92.98809051513672, 93.33333587646484, 93.04761505126953, 93.36904907226562, 93.03571319580078, 93.38095092773438, 93.5952377319336, 93.42857360839844, 93.45237731933594, 93.38095092773438, 93.76190185546875, 93.72618865966797, 93.82142639160156, 93.94047546386719, 93.9047622680664, 93.72618865966797, 94.03571319580078, 94.05952453613281, 93.92857360839844, 94.02381134033203, 94.14285278320312, 94.0, 94.16666412353516, 94.1547622680664, 94.22618865966797, 94.38095092773438, 94.33333587646484, 94.4047622680664, 94.32142639160156, 94.25, 94.5, 94.48809051513672, 94.48809051513672, 94.54761505126953, 94.61904907226562, 94.5, 94.55952453613281, 94.60713958740234, 94.66666412353516, 94.75, 94.71428680419922, 94.79761505126953]\n"
     ]
    }
   ],
   "source": [
    "accuracy_lists = []\n",
    "for i in accuracy_list:\n",
    "    accuracy_lists.append(i.item()) \n",
    "\n",
    "print(accuracy_lists)"
   ]
  },
  {
   "cell_type": "code",
   "execution_count": 135,
   "metadata": {},
   "outputs": [
    {
     "data": {
      "image/png": "[encoded data removed]",
      "text/plain": [
       "<Figure size 640x480 with 1 Axes>"
      ]
     },
     "metadata": {},
     "output_type": "display_data"
    },
    {
     "data": {
      "image/png": "[encoded data removed]",
      "text/plain": [
       "<Figure size 640x480 with 1 Axes>"
      ]
     },
     "metadata": {},
     "output_type": "display_data"
    }
   ],
   "source": [
    "plt.plot(iteration_list, loss_list) \n",
    "plt.xlabel(\"Number of Iteration\") \n",
    "plt.ylabel(\"Loss\") \n",
    "plt.title(\"Logistic Regression: Loss VS Number of Iteration\") \n",
    "plt.show()\n",
    "\n",
    "plt.plot(iteration_list, accuracy_lists) \n",
    "plt.xlabel(\"Number of Iteration\") \n",
    "plt.ylabel(\"Accuracy\") \n",
    "plt.title(\"Logistic Regression: Accuracy VS Number of Iteration\") \n",
    "plt.show()\n"
   ]
  },
  {
   "attachments": {},
   "cell_type": "markdown",
   "metadata": {},
   "source": [
    "<h4> Convolutional Neural Network </h4>"
   ]
  },
  {
   "attachments": {},
   "cell_type": "markdown",
   "metadata": {},
   "source": [
    "http://layer-calc.com/"
   ]
  },
  {
   "cell_type": "code",
   "execution_count": 234,
   "metadata": {},
   "outputs": [
    {
     "name": "stdout",
     "output_type": "stream",
     "text": [
      "ConvolutionalModel(\n",
      "  (conv1): Conv2d(1, 16, kernel_size=(5, 5), stride=(1, 1))\n",
      "  (relu1): ReLU()\n",
      "  (pool1): MaxPool2d(kernel_size=2, stride=2, padding=0, dilation=1, ceil_mode=False)\n",
      "  (conv2): Conv2d(16, 32, kernel_size=(5, 5), stride=(1, 1))\n",
      "  (relu2): ReLU()\n",
      "  (pool2): MaxPool2d(kernel_size=2, stride=2, padding=0, dilation=1, ceil_mode=False)\n",
      "  (fc1): Linear(in_features=512, out_features=128, bias=True)\n",
      "  (relu3): ReLU()\n",
      "  (fc2): Linear(in_features=128, out_features=10, bias=True)\n",
      ")\n"
     ]
    }
   ],
   "source": [
    "class ConvolutionalModel(nn.Module):\n",
    "    def __init__(self):\n",
    "        super(ConvolutionalModel, self).__init__()\n",
    "        self.conv1 = nn.Conv2d(1, 16, kernel_size=5, stride=1, padding=0)\n",
    "        self.relu1 = nn.ReLU() \n",
    "        self.pool1 = nn.MaxPool2d(kernel_size=2)\n",
    "\n",
    "        self.conv2 = nn.Conv2d(in_channels=16, out_channels=32, kernel_size=5, stride=1, padding=0)\n",
    "        self.relu2 = nn.ReLU() \n",
    "        self.pool2 = nn.MaxPool2d(kernel_size=2)\n",
    "\n",
    "        self.fc1 = nn.Linear(32*4*4, 128)\n",
    "        self.relu3 = nn.ReLU()\n",
    "        self.fc2 = nn.Linear(128, 10)\n",
    "        \n",
    "\n",
    "    def forward(self, X):\n",
    "        out = self.conv1(X) \n",
    "        out = self.relu1(out) \n",
    "        out = self.pool1(out) \n",
    "        out = self.conv2(out) \n",
    "        out = self.relu2(out) \n",
    "        out = self.pool2(out) \n",
    "        #Flatten\n",
    "        out = self.fc1(out.view(out.size(0), -1))\n",
    "\n",
    "        out = self.relu3(out) \n",
    "\n",
    "        out = self.fc2(out)\n",
    "      \n",
    "    \n",
    "\n",
    "\n",
    "        return out \n",
    "    \n",
    "model = ConvolutionalModel()\n",
    "print(model)\n",
    "\n"
   ]
  },
  {
   "cell_type": "code",
   "execution_count": 235,
   "metadata": {},
   "outputs": [
    {
     "name": "stdout",
     "output_type": "stream",
     "text": [
      "ConvolutionalModel(\n",
      "  (conv1): Conv2d(1, 16, kernel_size=(5, 5), stride=(1, 1))\n",
      "  (relu1): ReLU()\n",
      "  (pool1): MaxPool2d(kernel_size=2, stride=2, padding=0, dilation=1, ceil_mode=False)\n",
      "  (conv2): Conv2d(16, 32, kernel_size=(5, 5), stride=(1, 1))\n",
      "  (relu2): ReLU()\n",
      "  (pool2): MaxPool2d(kernel_size=2, stride=2, padding=0, dilation=1, ceil_mode=False)\n",
      "  (fc1): Linear(in_features=512, out_features=128, bias=True)\n",
      "  (relu3): ReLU()\n",
      "  (fc2): Linear(in_features=128, out_features=10, bias=True)\n",
      ")\n"
     ]
    }
   ],
   "source": [
    "model = ConvolutionalModel()\n",
    "print(model)"
   ]
  },
  {
   "cell_type": "code",
   "execution_count": 236,
   "metadata": {},
   "outputs": [],
   "source": [
    "# batch_size, epoch and iteration\n",
    "batch_size = 100\n",
    "n_iters = 2500\n",
    "num_epochs = n_iters / (len(X_train) / batch_size)\n",
    "num_epochs = int(num_epochs)\n",
    "\n",
    "# Pytorch train and test sets\n",
    "train = TrainDataset(X_train, y_train)\n",
    "test = TrainDataset(X_test, y_test)\n",
    "\n",
    "# data loader\n",
    "train_loader = torch.utils.data.DataLoader(train, batch_size = batch_size, shuffle = False)\n",
    "test_loader = torch.utils.data.DataLoader(test, batch_size = batch_size, shuffle = False)\n",
    "    \n",
    "# Create CNN\n",
    "\n",
    "\n",
    "# Cross Entropy Loss \n",
    "loss = nn.CrossEntropyLoss()\n",
    "\n",
    "# SGD Optimizer\n",
    "learning_rate = 0.1\n",
    "optimizer = torch.optim.SGD(model.parameters(), lr=learning_rate)"
   ]
  },
  {
   "cell_type": "code",
   "execution_count": 237,
   "metadata": {},
   "outputs": [
    {
     "data": {
      "text/plain": [
       "ConvolutionalModel(\n",
       "  (conv1): Conv2d(1, 16, kernel_size=(5, 5), stride=(1, 1))\n",
       "  (relu1): ReLU()\n",
       "  (pool1): MaxPool2d(kernel_size=2, stride=2, padding=0, dilation=1, ceil_mode=False)\n",
       "  (conv2): Conv2d(16, 32, kernel_size=(5, 5), stride=(1, 1))\n",
       "  (relu2): ReLU()\n",
       "  (pool2): MaxPool2d(kernel_size=2, stride=2, padding=0, dilation=1, ceil_mode=False)\n",
       "  (fc1): Linear(in_features=512, out_features=128, bias=True)\n",
       "  (relu3): ReLU()\n",
       "  (fc2): Linear(in_features=128, out_features=10, bias=True)\n",
       ")"
      ]
     },
     "execution_count": 237,
     "metadata": {},
     "output_type": "execute_result"
    }
   ],
   "source": [
    "model.to(device)"
   ]
  },
  {
   "cell_type": "code",
   "execution_count": 238,
   "metadata": {},
   "outputs": [
    {
     "name": "stdout",
     "output_type": "stream",
     "text": [
      "Iteration: 500 Loss: 0.151422381401062 Accuracy: 96.14285278320312\n",
      "Iteration: 1000 Loss: 0.03631475195288658 Accuracy: 97.5952377319336\n",
      "Iteration: 1500 Loss: 0.03092718869447708 Accuracy: 97.28571319580078\n",
      "Iteration: 2000 Loss: 0.01616906188428402 Accuracy: 98.32142639160156\n",
      "Iteration: 2500 Loss: 0.037190552800893784 Accuracy: 98.0952377319336\n",
      "Iteration: 3000 Loss: 0.009132599458098412 Accuracy: 98.3452377319336\n",
      "Iteration: 3500 Loss: 0.013487964868545532 Accuracy: 98.26190185546875\n",
      "Iteration: 4000 Loss: 0.0020321570336818695 Accuracy: 98.60713958740234\n",
      "Iteration: 4500 Loss: 0.006468994542956352 Accuracy: 98.54761505126953\n",
      "Iteration: 5000 Loss: 0.002636711113154888 Accuracy: 98.58333587646484\n",
      "Iteration: 5500 Loss: 0.0026881026569753885 Accuracy: 98.5\n",
      "Iteration: 6000 Loss: 0.0065762801095843315 Accuracy: 98.60713958740234\n",
      "Iteration: 6500 Loss: 0.01567644067108631 Accuracy: 98.67857360839844\n",
      "Iteration: 7000 Loss: 0.002684620674699545 Accuracy: 98.75\n",
      "Iteration: 7500 Loss: 0.012970498763024807 Accuracy: 98.20237731933594\n",
      "Iteration: 8000 Loss: 0.02249302715063095 Accuracy: 97.39285278320312\n",
      "Iteration: 8500 Loss: 0.0004955775220878422 Accuracy: 98.69047546386719\n",
      "Iteration: 9000 Loss: 0.0014087180607020855 Accuracy: 98.86904907226562\n",
      "Iteration: 9500 Loss: 6.928654329385608e-05 Accuracy: 98.66666412353516\n"
     ]
    }
   ],
   "source": [
    "count = 0\n",
    "loss_list = []\n",
    "iteration_list = []\n",
    "accuracy_list = []\n",
    "\n",
    "for epochs in range(n_epochs):\n",
    "    for i, (images, labels) in enumerate(train_loader):\n",
    "        optimizer.zero_grad()\n",
    "        train = Variable(images.view(100, 1, 28, 28)).to(device)\n",
    "        labels = Variable(labels).to(device) \n",
    "\n",
    "\n",
    "        predictions = model(train)\n",
    "        Loss = loss(predictions, labels) \n",
    "        Loss.backward() \n",
    "\n",
    "        optimizer.step() \n",
    "\n",
    "        count += 1 \n",
    "\n",
    "        if count % 50 == 0:\n",
    "            correct = 0 \n",
    "            total = 0 \n",
    "\n",
    "            for images, labels in test_loader:\n",
    "                test = Variable(images.view(100, 1, 28, 28)).to(device)\n",
    "                labels = Variable(labels).to(device)  \n",
    "\n",
    "                output = model(test) \n",
    "                max_value, predicted_value = torch.max(output, 1)\n",
    "\n",
    "                total += len(labels)\n",
    "\n",
    "                correct += (predicted_value==labels).sum()\n",
    "\n",
    "            accuracy = 100 * correct / float(total)\n",
    "            loss_list.append(Loss.item()) \n",
    "            iteration_list.append(count) \n",
    "            accuracy_list.append(accuracy)\n",
    "\n",
    "        if count % 500 == 0:\n",
    "            print(f\"Iteration: {count} Loss: {Loss.item()} Accuracy: {accuracy}\")\n",
    "\n",
    "\n",
    "\n"
   ]
  },
  {
   "cell_type": "code",
   "execution_count": 239,
   "metadata": {},
   "outputs": [
    {
     "name": "stdout",
     "output_type": "stream",
     "text": [
      "[45.380950927734375, 81.79761505126953, 89.85713958740234, 91.92857360839844, 93.89285278320312, 94.10713958740234, 94.78571319580078, 95.38095092773438, 96.10713958740234, 96.14285278320312, 96.19047546386719, 96.78571319580078, 96.5952377319336, 96.66666412353516, 97.07142639160156, 97.08333587646484, 96.58333587646484, 97.17857360839844, 97.54761505126953, 97.5952377319336, 97.22618865966797, 97.91666412353516, 97.36904907226562, 97.80952453613281, 97.88095092773438, 98.03571319580078, 97.98809051513672, 97.58333587646484, 97.64285278320312, 97.28571319580078, 97.96428680419922, 98.03571319580078, 97.97618865966797, 97.9047622680664, 98.03571319580078, 98.3452377319336, 98.03571319580078, 98.35713958740234, 98.01190185546875, 98.32142639160156, 98.08333587646484, 98.16666412353516, 98.30952453613281, 98.17857360839844, 98.16666412353516, 98.52381134033203, 97.96428680419922, 98.29761505126953, 98.33333587646484, 98.0952377319336, 98.22618865966797, 98.30952453613281, 97.9047622680664, 98.44047546386719, 98.29761505126953, 98.41666412353516, 98.27381134033203, 98.54761505126953, 97.86904907226562, 98.3452377319336, 98.08333587646484, 98.39285278320312, 97.8452377319336, 98.41666412353516, 98.29761505126953, 98.52381134033203, 98.58333587646484, 97.80952453613281, 98.46428680419922, 98.26190185546875, 98.41666412353516, 98.27381134033203, 98.5952377319336, 98.23809051513672, 97.96428680419922, 98.03571319580078, 98.64285278320312, 98.33333587646484, 98.5, 98.60713958740234, 98.61904907226562, 98.25, 97.66666412353516, 98.17857360839844, 98.60713958740234, 98.58333587646484, 98.60713958740234, 97.95237731933594, 98.51190185546875, 98.54761505126953, 98.23809051513672, 98.70237731933594, 98.66666412353516, 98.82142639160156, 98.45237731933594, 98.46428680419922, 98.36904907226562, 98.58333587646484, 98.66666412353516, 98.58333587646484, 98.64285278320312, 98.29761505126953, 98.30952453613281, 98.42857360839844, 98.63095092773438, 98.53571319580078, 98.5952377319336, 98.48809051513672, 98.70237731933594, 98.5, 98.44047546386719, 97.94047546386719, 98.57142639160156, 98.72618865966797, 98.36904907226562, 98.51190185546875, 98.30952453613281, 98.36904907226562, 98.67857360839844, 98.60713958740234, 98.67857360839844, 98.57142639160156, 98.30952453613281, 98.6547622680664, 98.75, 98.64285278320312, 98.44047546386719, 98.57142639160156, 98.64285278320312, 98.67857360839844, 98.61904907226562, 98.82142639160156, 98.75, 98.78571319580078, 97.8452377319336, 98.66666412353516, 98.70237731933594, 98.51190185546875, 98.46428680419922, 98.75, 98.67857360839844, 98.53571319580078, 98.5952377319336, 98.70237731933594, 98.51190185546875, 98.82142639160156, 98.86904907226562, 98.39285278320312, 98.30952453613281, 98.20237731933594, 98.75, 98.78571319580078, 98.83333587646484, 98.64285278320312, 98.64285278320312, 98.66666412353516, 98.67857360839844, 98.64285278320312, 98.76190185546875, 97.39285278320312, 98.89285278320312, 98.25, 98.47618865966797, 98.64285278320312, 98.73809051513672, 98.83333587646484, 98.86904907226562, 98.80952453613281, 98.67857360839844, 98.69047546386719, 98.72618865966797, 98.76190185546875, 98.73809051513672, 98.82142639160156, 98.58333587646484, 98.64285278320312, 98.72618865966797, 98.77381134033203, 98.72618865966797, 98.86904907226562, 98.83333587646484, 98.79761505126953, 98.70237731933594, 98.75, 98.69047546386719, 98.79761505126953, 98.77381134033203, 98.89285278320312, 98.6547622680664, 98.66666412353516, 98.4047622680664, 98.71428680419922, 98.89285278320312, 98.82142639160156]\n"
     ]
    }
   ],
   "source": [
    "accuracy_lists = []\n",
    "for i in accuracy_list:\n",
    "    accuracy_lists.append(i.item()) \n",
    "\n",
    "print(accuracy_lists)"
   ]
  },
  {
   "cell_type": "code",
   "execution_count": 240,
   "metadata": {},
   "outputs": [
    {
     "data": {
      "image/png": "[encoded data removed]",
      "text/plain": [
       "<Figure size 640x480 with 1 Axes>"
      ]
     },
     "metadata": {},
     "output_type": "display_data"
    },
    {
     "data": {
      "image/png": "[encoded data removed]",
      "text/plain": [
       "<Figure size 640x480 with 1 Axes>"
      ]
     },
     "metadata": {},
     "output_type": "display_data"
    }
   ],
   "source": [
    "plt.plot(iteration_list, loss_list) \n",
    "plt.xlabel(\"Number of Iteration\") \n",
    "plt.ylabel(\"Loss\") \n",
    "plt.title(\"CNN: Loss VS Number of Iteration\") \n",
    "plt.show()\n",
    "\n",
    "plt.plot(iteration_list, accuracy_lists) \n",
    "plt.xlabel(\"Number of Iteration\") \n",
    "plt.ylabel(\"Accuracy\") \n",
    "plt.title(\"CNN: Accuracy VS Number of Iteration\") \n",
    "plt.show()\n"
   ]
  }
 ],
 "metadata": {
  "kernelspec": {
   "display_name": "PYTORCH GPU",
   "language": "python",
   "name": "pytorch"
  },
  "language_info": {
   "codemirror_mode": {
    "name": "ipython",
    "version": 3
   },
   "file_extension": ".py",
   "mimetype": "text/x-python",
   "name": "python",
   "nbconvert_exporter": "python",
   "pygments_lexer": "ipython3",
   "version": "3.9.13"
  },
  "orig_nbformat": 4
 },
 "nbformat": 4,
 "nbformat_minor": 2
}
