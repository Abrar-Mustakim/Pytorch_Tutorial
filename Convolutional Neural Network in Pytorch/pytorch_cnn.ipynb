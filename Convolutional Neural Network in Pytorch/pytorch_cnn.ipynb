{
 "cells": [
  {
   "cell_type": "code",
   "execution_count": 1,
   "metadata": {},
   "outputs": [],
   "source": [
    "import torch \n",
    "from torch import nn  \n",
    "import numpy as np \n",
    "import pandas as pd \n",
    "import matplotlib.pyplot as plt "
   ]
  },
  {
   "cell_type": "code",
   "execution_count": 2,
   "metadata": {},
   "outputs": [
    {
     "name": "stdout",
     "output_type": "stream",
     "text": [
      "Deep\n",
      "-------------------------------------\n",
      "Lizard\n"
     ]
    }
   ],
   "source": [
    "class Lizard:\n",
    "    def __init__(self, name):\n",
    "        self.name = name   \n",
    "\n",
    "    def set_name(self, name):\n",
    "        self.name = name  \n",
    "\n",
    "lizard = Lizard(\"Deep\") \n",
    "print(lizard.name)\n",
    "print(\"-------------------------------------\") \n",
    "lizard.set_name(\"Lizard\")\n",
    "print(lizard.name)"
   ]
  },
  {
   "attachments": {},
   "cell_type": "markdown",
   "metadata": {},
   "source": [
    "<h3> Build a Neural Network in Pytorch </h3>\n",
    "<p> Extend the nn.Module based class </p><br>\n",
    "<p> Define Layer as Class Attribute </p> <br>\n",
    "<p> Implement the forward() methods </p>"
   ]
  },
  {
   "cell_type": "code",
   "execution_count": 3,
   "metadata": {},
   "outputs": [],
   "source": [
    "class Network(nn.Module):\n",
    "    def __init__(self):\n",
    "        super(Network, self).__init__()\n",
    "\n",
    "        self.conv1 = nn.Conv2d(in_channels=1, out_channels=6, kernel_size=5) \n",
    "        self.conv2 = nn.Conv2d(in_channels=6, out_channels=12, kernel_size=5) \n",
    "        self.fc1 = nn.Linear(12*4*4, 120)\n",
    "        self.fc2 = nn.Linear(120, 60)\n",
    "        self.out = nn.Linear(60, 10)\n",
    "\n",
    "\n",
    "    def forward(self, L):\n",
    "        return L "
   ]
  },
  {
   "cell_type": "code",
   "execution_count": 5,
   "metadata": {},
   "outputs": [
    {
     "data": {
      "text/plain": [
       "Network(\n",
       "  (conv1): Conv2d(1, 6, kernel_size=(5, 5), stride=(1, 1))\n",
       "  (conv2): Conv2d(6, 12, kernel_size=(5, 5), stride=(1, 1))\n",
       "  (fc1): Linear(in_features=192, out_features=120, bias=True)\n",
       "  (fc2): Linear(in_features=120, out_features=60, bias=True)\n",
       "  (out): Linear(in_features=60, out_features=10, bias=True)\n",
       ")"
      ]
     },
     "execution_count": 5,
     "metadata": {},
     "output_type": "execute_result"
    }
   ],
   "source": [
    "network = Network()\n",
    "network "
   ]
  },
  {
   "cell_type": "code",
   "execution_count": 6,
   "metadata": {},
   "outputs": [
    {
     "data": {
      "text/plain": [
       "Conv2d(1, 6, kernel_size=(5, 5), stride=(1, 1))"
      ]
     },
     "execution_count": 6,
     "metadata": {},
     "output_type": "execute_result"
    }
   ],
   "source": [
    "network.conv1 "
   ]
  },
  {
   "cell_type": "code",
   "execution_count": 7,
   "metadata": {},
   "outputs": [
    {
     "data": {
      "text/plain": [
       "Parameter containing:\n",
       "tensor([[[[ 0.1194,  0.1899,  0.1720,  0.0109,  0.1669],\n",
       "          [-0.0862,  0.0985, -0.0233,  0.0191, -0.1847],\n",
       "          [-0.1793,  0.0662,  0.0458,  0.0893, -0.0311],\n",
       "          [ 0.1546,  0.1016,  0.1553,  0.1439,  0.1291],\n",
       "          [ 0.1412, -0.0460,  0.0068, -0.1888, -0.0641]]],\n",
       "\n",
       "\n",
       "        [[[ 0.0267,  0.0198, -0.0570,  0.0555, -0.0980],\n",
       "          [-0.1666, -0.1127, -0.1393, -0.1081,  0.1121],\n",
       "          [ 0.1969,  0.1235, -0.0228,  0.1864, -0.1245],\n",
       "          [-0.0901, -0.0899,  0.0838, -0.1596,  0.1615],\n",
       "          [-0.1391,  0.0888,  0.0263, -0.0701, -0.0493]]],\n",
       "\n",
       "\n",
       "        [[[ 0.0662, -0.0684, -0.0717, -0.0080,  0.1481],\n",
       "          [ 0.1206,  0.0942,  0.0890, -0.1989,  0.0487],\n",
       "          [ 0.1684, -0.0088, -0.0914,  0.1051, -0.0917],\n",
       "          [ 0.0412,  0.0518, -0.0757,  0.0714, -0.0173],\n",
       "          [-0.0456, -0.1296, -0.0110,  0.1111, -0.1298]]],\n",
       "\n",
       "\n",
       "        [[[-0.1776,  0.0798, -0.0118,  0.0609, -0.0502],\n",
       "          [-0.1272,  0.1685, -0.0487,  0.0914, -0.1464],\n",
       "          [ 0.0560,  0.0522, -0.1801,  0.0004, -0.0224],\n",
       "          [-0.1075, -0.0941, -0.0154, -0.0932, -0.1059],\n",
       "          [ 0.0958, -0.0724, -0.0616, -0.0692, -0.1114]]],\n",
       "\n",
       "\n",
       "        [[[ 0.0843,  0.1927,  0.1390, -0.1885,  0.1027],\n",
       "          [-0.1985, -0.1417,  0.0838,  0.0780, -0.0568],\n",
       "          [ 0.0988, -0.0217, -0.1368,  0.1173, -0.1258],\n",
       "          [ 0.1914,  0.0543,  0.0522, -0.1628, -0.1492],\n",
       "          [-0.0702,  0.0663, -0.1905, -0.0883,  0.0694]]],\n",
       "\n",
       "\n",
       "        [[[ 0.1675,  0.1563,  0.0524, -0.1200, -0.1295],\n",
       "          [ 0.0326,  0.0010, -0.0638,  0.1344,  0.0543],\n",
       "          [-0.0123, -0.0972, -0.0963, -0.1255, -0.1505],\n",
       "          [-0.1370,  0.1896, -0.0933, -0.0198, -0.1836],\n",
       "          [ 0.1755, -0.0146,  0.1274,  0.0476, -0.0439]]]], requires_grad=True)"
      ]
     },
     "execution_count": 7,
     "metadata": {},
     "output_type": "execute_result"
    }
   ],
   "source": [
    "network.conv1.weight"
   ]
  },
  {
   "cell_type": "code",
   "execution_count": 8,
   "metadata": {},
   "outputs": [
    {
     "data": {
      "text/plain": [
       "Parameter containing:\n",
       "tensor([ 0.0084, -0.0791, -0.1162,  0.0518, -0.0557, -0.0806],\n",
       "       requires_grad=True)"
      ]
     },
     "execution_count": 8,
     "metadata": {},
     "output_type": "execute_result"
    }
   ],
   "source": [
    "network.conv1.bias"
   ]
  },
  {
   "cell_type": "code",
   "execution_count": 9,
   "metadata": {},
   "outputs": [
    {
     "data": {
      "text/plain": [
       "torch.Size([6, 1, 5, 5])"
      ]
     },
     "execution_count": 9,
     "metadata": {},
     "output_type": "execute_result"
    }
   ],
   "source": [
    "network.conv1.weight.shape\n"
   ]
  },
  {
   "cell_type": "code",
   "execution_count": 14,
   "metadata": {},
   "outputs": [
    {
     "data": {
      "text/plain": [
       "True"
      ]
     },
     "execution_count": 14,
     "metadata": {},
     "output_type": "execute_result"
    }
   ],
   "source": [
    "torch.cuda.is_available()"
   ]
  },
  {
   "cell_type": "code",
   "execution_count": 15,
   "metadata": {},
   "outputs": [
    {
     "data": {
      "text/plain": [
       "<generator object Module.parameters at 0x000002E207806890>"
      ]
     },
     "execution_count": 15,
     "metadata": {},
     "output_type": "execute_result"
    }
   ],
   "source": [
    "network.parameters()"
   ]
  },
  {
   "cell_type": "code",
   "execution_count": 16,
   "metadata": {},
   "outputs": [
    {
     "name": "stdout",
     "output_type": "stream",
     "text": [
      "torch.Size([6, 1, 5, 5])\n",
      "torch.Size([6])\n",
      "torch.Size([12, 6, 5, 5])\n",
      "torch.Size([12])\n",
      "torch.Size([120, 192])\n",
      "torch.Size([120])\n",
      "torch.Size([60, 120])\n",
      "torch.Size([60])\n",
      "torch.Size([10, 60])\n",
      "torch.Size([10])\n"
     ]
    }
   ],
   "source": [
    "for param in network.parameters():\n",
    "    print(param.shape)"
   ]
  },
  {
   "cell_type": "code",
   "execution_count": 18,
   "metadata": {},
   "outputs": [
    {
     "name": "stdout",
     "output_type": "stream",
     "text": [
      "conv1.weight \t\t torch.Size([6, 1, 5, 5])\n",
      "conv1.bias \t\t torch.Size([6])\n",
      "conv2.weight \t\t torch.Size([12, 6, 5, 5])\n",
      "conv2.bias \t\t torch.Size([12])\n",
      "fc1.weight \t\t torch.Size([120, 192])\n",
      "fc1.bias \t\t torch.Size([120])\n",
      "fc2.weight \t\t torch.Size([60, 120])\n",
      "fc2.bias \t\t torch.Size([60])\n",
      "out.weight \t\t torch.Size([10, 60])\n",
      "out.bias \t\t torch.Size([10])\n"
     ]
    }
   ],
   "source": [
    "for name, param in network.named_parameters():\n",
    "    print(name,  '\\t\\t', param.shape)"
   ]
  },
  {
   "cell_type": "code",
   "execution_count": 27,
   "metadata": {},
   "outputs": [],
   "source": [
    "in_features = torch.Tensor([1, 2, 3, 4])\n"
   ]
  },
  {
   "cell_type": "code",
   "execution_count": 28,
   "metadata": {},
   "outputs": [
    {
     "data": {
      "text/plain": [
       "tensor([1., 2., 3., 4.], dtype=torch.float64)"
      ]
     },
     "execution_count": 28,
     "metadata": {},
     "output_type": "execute_result"
    }
   ],
   "source": [
    "in_features.type(torch.float64) "
   ]
  },
  {
   "cell_type": "code",
   "execution_count": 29,
   "metadata": {},
   "outputs": [
    {
     "data": {
      "text/plain": [
       "tensor([1., 2., 3., 4.])"
      ]
     },
     "execution_count": 29,
     "metadata": {},
     "output_type": "execute_result"
    }
   ],
   "source": [
    "in_features.type(torch.float32) "
   ]
  },
  {
   "cell_type": "code",
   "execution_count": 30,
   "metadata": {},
   "outputs": [],
   "source": [
    "weight_matrix = torch.Tensor([\n",
    "    [1, 2, 3, 4],\n",
    "    [5, 6, 7, 8],\n",
    "    [9, 10, 11, 12]\n",
    "])"
   ]
  },
  {
   "cell_type": "code",
   "execution_count": 31,
   "metadata": {},
   "outputs": [
    {
     "data": {
      "text/plain": [
       "torch.float32"
      ]
     },
     "execution_count": 31,
     "metadata": {},
     "output_type": "execute_result"
    }
   ],
   "source": [
    "weight_matrix.dtype "
   ]
  },
  {
   "cell_type": "code",
   "execution_count": 32,
   "metadata": {},
   "outputs": [
    {
     "data": {
      "text/plain": [
       "tensor([ 30.,  70., 110.])"
      ]
     },
     "execution_count": 32,
     "metadata": {},
     "output_type": "execute_result"
    }
   ],
   "source": [
    "weight_matrix.matmul(in_features)"
   ]
  }
 ],
 "metadata": {
  "kernelspec": {
   "display_name": "pytorch",
   "language": "python",
   "name": "python3"
  },
  "language_info": {
   "codemirror_mode": {
    "name": "ipython",
    "version": 3
   },
   "file_extension": ".py",
   "mimetype": "text/x-python",
   "name": "python",
   "nbconvert_exporter": "python",
   "pygments_lexer": "ipython3",
   "version": "3.9.13"
  },
  "orig_nbformat": 4
 },
 "nbformat": 4,
 "nbformat_minor": 2
}
