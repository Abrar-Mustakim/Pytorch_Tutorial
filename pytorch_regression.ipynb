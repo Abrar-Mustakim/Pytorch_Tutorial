{
  "nbformat": 4,
  "nbformat_minor": 0,
  "metadata": {
    "colab": {
      "provenance": [],
      "collapsed_sections": []
    },
    "kernelspec": {
      "name": "python3",
      "display_name": "Python 3"
    },
    "language_info": {
      "name": "python"
    },
    "accelerator": "GPU"
  },
  "cells": [
    {
      "cell_type": "code",
      "execution_count": 17,
      "metadata": {
        "id": "Su-m8DwT--ia"
      },
      "outputs": [],
      "source": [
        "import torch\n",
        "from torch import nn\n",
        "import numpy as np\n",
        "import matplotlib.pyplot as plt"
      ]
    },
    {
      "cell_type": "code",
      "source": [
        "N = 20 \n",
        "\n",
        "X = np.random.random(N) * 10-5\n",
        "\n",
        "Y = 0.5 * X - 1 + np.random.randn(N)\n",
        "\n",
        "plt.scatter(X, Y)"
      ],
      "metadata": {
        "colab": {
          "base_uri": "https://localhost:8080/",
          "height": 282
        },
        "id": "YaIA9QRoGync",
        "outputId": "7a095154-f220-43bb-f247-dd53fcfdee98"
      },
      "execution_count": 18,
      "outputs": [
        {
          "output_type": "execute_result",
          "data": {
            "text/plain": [
              "<matplotlib.collections.PathCollection at 0x7fc86ccc7ad0>"
            ]
          },
          "metadata": {},
          "execution_count": 18
        },
        {
          "output_type": "display_data",
          "data": {
            "text/plain": [
              "<Figure size 432x288 with 1 Axes>"
            ],
            "image/png": "[encoded data removed]"
          },
          "metadata": {
            "needs_background": "light"
          }
        }
      ]
    },
    {
      "cell_type": "code",
      "source": [
        "print(X)\n",
        "print(Y)"
      ],
      "metadata": {
        "colab": {
          "base_uri": "https://localhost:8080/"
        },
        "id": "aqM6lBmbHtTD",
        "outputId": "11109bd9-49a0-4227-d10f-87084f7b0b8e"
      },
      "execution_count": 19,
      "outputs": [
        {
          "output_type": "stream",
          "name": "stdout",
          "text": [
            "[ 2.05553851 -3.22225516  3.37813169 -3.67136686 -2.33286303 -1.64275951\n",
            "  0.69578544 -1.45870977  1.07881863 -2.64106911 -2.54893041 -0.55410682\n",
            "  2.01249472  2.42437306  0.85090809 -0.98762829  2.66903741  3.72674881\n",
            "  1.74253444 -3.24254335]\n",
            "[ 0.48453482 -3.77017484 -0.24110663 -2.52521364 -1.25844704 -0.81817746\n",
            " -0.82851634 -2.48173996 -1.44289619 -1.62624751 -1.99308685  0.21196346\n",
            " -0.31195759 -0.48606691  0.94845875 -0.27330854 -0.32489648  0.74199277\n",
            "  0.80150297 -2.24238622]\n"
          ]
        }
      ]
    },
    {
      "cell_type": "code",
      "source": [
        "X = X.reshape(N, 1)\n",
        "Y = Y.reshape(N, 1)"
      ],
      "metadata": {
        "id": "elTjdPvfH937"
      },
      "execution_count": 20,
      "outputs": []
    },
    {
      "cell_type": "code",
      "source": [
        "inputs = torch.from_numpy(X.astype(np.float32))"
      ],
      "metadata": {
        "id": "p-VdhUUaIHzD"
      },
      "execution_count": 21,
      "outputs": []
    },
    {
      "cell_type": "code",
      "source": [
        "targets = torch.from_numpy(Y.astype(np.float32))"
      ],
      "metadata": {
        "id": "u9OIS6ufIH6j"
      },
      "execution_count": 22,
      "outputs": []
    },
    {
      "cell_type": "code",
      "source": [
        "model = nn.Linear(1, 1)"
      ],
      "metadata": {
        "id": "C6z7EQJKEsUl"
      },
      "execution_count": 23,
      "outputs": []
    },
    {
      "cell_type": "code",
      "source": [
        "criterion = nn.MSELoss()\n",
        "optimizer = torch.optim.SGD(model.parameters(), lr=0.01)"
      ],
      "metadata": {
        "id": "O3RT-zHUE4WU"
      },
      "execution_count": 24,
      "outputs": []
    },
    {
      "cell_type": "code",
      "source": [
        "#Training Loop\n",
        "n_epochs = 30\n",
        "losses = []\n",
        "for i in range(n_epochs):\n",
        "  \n",
        "  optimizer.zero_grad()\n",
        "\n",
        "  outputs = model(inputs)\n",
        "  loss = criterion(outputs, targets)\n",
        "  losses.append(loss.item())\n",
        "\n",
        "  #Backward\n",
        "  loss.backward()\n",
        "  optimizer.step()\n",
        "\n",
        "  print(f\"Epochs {i+1}/{n_epochs}, Loss: {loss.item():.4f}\")\n"
      ],
      "metadata": {
        "colab": {
          "base_uri": "https://localhost:8080/"
        },
        "id": "WzHzbIDNE56s",
        "outputId": "2442a727-beb6-43c2-9696-6665b4882853"
      },
      "execution_count": 25,
      "outputs": [
        {
          "output_type": "stream",
          "name": "stdout",
          "text": [
            "Epochs 1/30, Loss: 3.0024\n",
            "Epochs 2/30, Loss: 2.6592\n",
            "Epochs 3/30, Loss: 2.3821\n",
            "Epochs 4/30, Loss: 2.1576\n",
            "Epochs 5/30, Loss: 1.9748\n",
            "Epochs 6/30, Loss: 1.8251\n",
            "Epochs 7/30, Loss: 1.7018\n",
            "Epochs 8/30, Loss: 1.5995\n",
            "Epochs 9/30, Loss: 1.5140\n",
            "Epochs 10/30, Loss: 1.4419\n",
            "Epochs 11/30, Loss: 1.3807\n",
            "Epochs 12/30, Loss: 1.3282\n",
            "Epochs 13/30, Loss: 1.2826\n",
            "Epochs 14/30, Loss: 1.2428\n",
            "Epochs 15/30, Loss: 1.2077\n",
            "Epochs 16/30, Loss: 1.1764\n",
            "Epochs 17/30, Loss: 1.1483\n",
            "Epochs 18/30, Loss: 1.1228\n",
            "Epochs 19/30, Loss: 1.0995\n",
            "Epochs 20/30, Loss: 1.0780\n",
            "Epochs 21/30, Loss: 1.0582\n",
            "Epochs 22/30, Loss: 1.0397\n",
            "Epochs 23/30, Loss: 1.0225\n",
            "Epochs 24/30, Loss: 1.0063\n",
            "Epochs 25/30, Loss: 0.9910\n",
            "Epochs 26/30, Loss: 0.9766\n",
            "Epochs 27/30, Loss: 0.9629\n",
            "Epochs 28/30, Loss: 0.9499\n",
            "Epochs 29/30, Loss: 0.9375\n",
            "Epochs 30/30, Loss: 0.9257\n"
          ]
        }
      ]
    },
    {
      "cell_type": "code",
      "source": [
        "losses"
      ],
      "metadata": {
        "colab": {
          "base_uri": "https://localhost:8080/"
        },
        "id": "zvOxD3U_Jgz8",
        "outputId": "2d448708-8302-4b49-b238-4a6dcb024958"
      },
      "execution_count": 26,
      "outputs": [
        {
          "output_type": "execute_result",
          "data": {
            "text/plain": [
              "[3.0023841857910156,\n",
              " 2.6591577529907227,\n",
              " 2.382131576538086,\n",
              " 2.1576132774353027,\n",
              " 1.9747841358184814,\n",
              " 1.8250906467437744,\n",
              " 1.7017717361450195,\n",
              " 1.5994802713394165,\n",
              " 1.5139868259429932,\n",
              " 1.4419426918029785,\n",
              " 1.3806979656219482,\n",
              " 1.3281526565551758,\n",
              " 1.2826417684555054,\n",
              " 1.2428443431854248,\n",
              " 1.2077105045318604,\n",
              " 1.1764060258865356,\n",
              " 1.1482659578323364,\n",
              " 1.122759461402893,\n",
              " 1.099462866783142,\n",
              " 1.078035831451416,\n",
              " 1.0582048892974854,\n",
              " 1.039749026298523,\n",
              " 1.0224900245666504,\n",
              " 1.006282091140747,\n",
              " 0.9910058975219727,\n",
              " 0.9765636324882507,\n",
              " 0.9628738164901733,\n",
              " 0.9498686790466309,\n",
              " 0.9374908208847046,\n",
              " 0.9256917238235474]"
            ]
          },
          "metadata": {},
          "execution_count": 26
        }
      ]
    },
    {
      "cell_type": "code",
      "source": [
        "outputs = model(inputs)"
      ],
      "metadata": {
        "id": "UNGongfsI9Li"
      },
      "execution_count": 27,
      "outputs": []
    },
    {
      "cell_type": "code",
      "source": [
        "print(outputs)"
      ],
      "metadata": {
        "colab": {
          "base_uri": "https://localhost:8080/"
        },
        "id": "Klh13wc0JB8x",
        "outputId": "d6125841-cbc3-4343-e2e2-8386eb427198"
      },
      "execution_count": 28,
      "outputs": [
        {
          "output_type": "stream",
          "name": "stdout",
          "text": [
            "tensor([[ 0.4985],\n",
            "        [-1.6083],\n",
            "        [ 1.0264],\n",
            "        [-1.7876],\n",
            "        [-1.2533],\n",
            "        [-0.9778],\n",
            "        [-0.0443],\n",
            "        [-0.9043],\n",
            "        [ 0.1086],\n",
            "        [-1.3763],\n",
            "        [-1.3395],\n",
            "        [-0.5433],\n",
            "        [ 0.4813],\n",
            "        [ 0.6457],\n",
            "        [ 0.0176],\n",
            "        [-0.7163],\n",
            "        [ 0.7434],\n",
            "        [ 1.1656],\n",
            "        [ 0.3735],\n",
            "        [-1.6164]], grad_fn=<AddmmBackward0>)\n"
          ]
        }
      ]
    },
    {
      "cell_type": "code",
      "source": [
        "plt.plot(losses)"
      ],
      "metadata": {
        "colab": {
          "base_uri": "https://localhost:8080/",
          "height": 282
        },
        "id": "hDUU_CQULFg7",
        "outputId": "8f3b07c5-9ca7-4e81-bf9a-6e5de0464e95"
      },
      "execution_count": 30,
      "outputs": [
        {
          "output_type": "execute_result",
          "data": {
            "text/plain": [
              "[<matplotlib.lines.Line2D at 0x7fc84d9843d0>]"
            ]
          },
          "metadata": {},
          "execution_count": 30
        },
        {
          "output_type": "display_data",
          "data": {
            "text/plain": [
              "<Figure size 432x288 with 1 Axes>"
            ],
            "image/png": "[encoded data removed]"
          },
          "metadata": {
            "needs_background": "light"
          }
        }
      ]
    },
    {
      "cell_type": "code",
      "source": [
        "predictions = model(inputs).detach().numpy()\n",
        "plt.scatter(X, Y, label=\"Original Data\")\n",
        "plt.plot(X, predictions, label=\"Predicted Data\")\n",
        "plt.legend()\n",
        "plt.show()"
      ],
      "metadata": {
        "colab": {
          "base_uri": "https://localhost:8080/",
          "height": 265
        },
        "id": "Y1U7HZQoJEaR",
        "outputId": "43edfd26-60c5-41f4-e332-eab792a15f62"
      },
      "execution_count": 31,
      "outputs": [
        {
          "output_type": "display_data",
          "data": {
            "text/plain": [
              "<Figure size 432x288 with 1 Axes>"
            ],
            "image/png": "[encoded data removed]"
          },
          "metadata": {
            "needs_background": "light"
          }
        }
      ]
    }
  ]
}