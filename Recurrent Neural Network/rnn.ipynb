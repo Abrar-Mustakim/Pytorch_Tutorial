{
  "nbformat": 4,
  "nbformat_minor": 0,
  "metadata": {
    "colab": {
      "provenance": []
    },
    "kernelspec": {
      "name": "python3",
      "display_name": "Python 3"
    },
    "language_info": {
      "name": "python"
    },
    "accelerator": "GPU",
    "gpuClass": "standard"
  },
  "cells": [
    {
      "cell_type": "code",
      "execution_count": 1,
      "metadata": {
        "colab": {
          "base_uri": "https://localhost:8080/"
        },
        "id": "d3x5cr0yMGlB",
        "outputId": "5e1b2dc8-4228-4316-9968-deb6e53f5f08"
      },
      "outputs": [
        {
          "output_type": "stream",
          "name": "stdout",
          "text": [
            "/content/drive/MyDrive/PYTORCH/Practices\n"
          ]
        }
      ],
      "source": [
        "cd /content/drive/MyDrive/PYTORCH/Practices"
      ]
    },
    {
      "cell_type": "code",
      "source": [
        "import torch\n",
        "from torch import nn \n",
        "import torchvision \n",
        "import torch.nn.functional as F\n",
        "import torchvision.transforms as transforms \n",
        "import numpy as np \n",
        "import matplotlib.pyplot as plt \n",
        "from datetime import datetime"
      ],
      "metadata": {
        "id": "GRNQpO63PIFq"
      },
      "execution_count": 2,
      "outputs": []
    },
    {
      "cell_type": "code",
      "source": [
        "train_dataset = torchvision.datasets.MNIST(root=\".\", \n",
        "                                  train=True, \n",
        "                                  transform=transforms.ToTensor(),                          \n",
        "                                  download=True)\n",
        "test_dataset = torchvision.datasets.MNIST(root=\".\", \n",
        "                                  train=False, \n",
        "                                  transform=transforms.ToTensor(),                          \n",
        "                                  download=True)"
      ],
      "metadata": {
        "id": "KXlm2iDNPPiN"
      },
      "execution_count": 3,
      "outputs": []
    },
    {
      "cell_type": "code",
      "source": [
        "batch_size = 100\n",
        "learning_rate = 0.001\n",
        "num_classes = 10\n",
        "input_size = 28\n",
        "sequence_length = 28 \n",
        "hidden_size = 128 \n",
        "num_layers = 2\n",
        "num_epochs = 2"
      ],
      "metadata": {
        "id": "QecJX_iSPuLF"
      },
      "execution_count": 19,
      "outputs": []
    },
    {
      "cell_type": "code",
      "source": [
        "device = torch.device(\"cuda:0\" if torch.cuda.is_available() else \"cpu\")\n"
      ],
      "metadata": {
        "id": "1TKrYlERqGza"
      },
      "execution_count": 6,
      "outputs": []
    },
    {
      "cell_type": "code",
      "source": [
        "train_loader = torch.utils.data.DataLoader(train_dataset, batch_size=batch_size, shuffle=True)\n",
        "test_loader = torch.utils.data.DataLoader(test_dataset, batch_size=batch_size, shuffle=True)"
      ],
      "metadata": {
        "id": "0WQU1yM1PS4k"
      },
      "execution_count": 7,
      "outputs": []
    },
    {
      "cell_type": "code",
      "source": [
        "class RNN(nn.Module):\n",
        "  def __init__(self, input_size, hidden_size, num_layers, num_classes):\n",
        "    super(RNN, self).__init__()\n",
        "\n",
        "    self.input_size = input_size\n",
        "\n",
        "    self.hidden_size = hidden_size\n",
        "\n",
        "    self.num_layers = num_layers\n",
        "\n",
        "    self.num_classes = num_classes\n",
        "    #shape of x->  batch_size, sequence,  input size\n",
        "    self.rnn = nn.RNN(input_size, hidden_size, num_layers, batch_first=True)\n",
        "    \n",
        "    self.fc = nn.Linear(hidden_size, num_classes)\n",
        "\n",
        "\n",
        "  def forward(self, x):\n",
        "    h0 = torch.zeros(self.num_layers, x.size(0), self.hidden_size).to(device)\n",
        "    out, h_n = self.rnn(x, h0)\n",
        "    #shape output--> batch_size, sequence length, hidden size \n",
        "    # out (N, 28, 128)\n",
        "    #(N, 128)\n",
        "    out = out[:, -1, :]\n",
        "\n",
        "    out = self.fc(out)\n",
        "\n",
        "    return out\n",
        "\n",
        "\n"
      ],
      "metadata": {
        "id": "XxVizJzBP1TR"
      },
      "execution_count": 15,
      "outputs": []
    },
    {
      "cell_type": "code",
      "source": [
        "model = RNN(input_size, hidden_size, num_layers, num_classes).to(device)"
      ],
      "metadata": {
        "id": "xoOniZV8QWkS"
      },
      "execution_count": 16,
      "outputs": []
    },
    {
      "cell_type": "code",
      "source": [
        "criterion = nn.CrossEntropyLoss()\n",
        "optimizer = torch.optim.Adam(model.parameters(), lr=learning_rate)"
      ],
      "metadata": {
        "id": "v7U_NzaSP8Mp"
      },
      "execution_count": 17,
      "outputs": []
    },
    {
      "cell_type": "code",
      "source": [
        "print(model) "
      ],
      "metadata": {
        "colab": {
          "base_uri": "https://localhost:8080/"
        },
        "id": "esQp1jFQuOua",
        "outputId": "1febb8e5-5ef7-4f97-bb6d-ad7407c44fb3"
      },
      "execution_count": 18,
      "outputs": [
        {
          "output_type": "stream",
          "name": "stdout",
          "text": [
            "RNN(\n",
            "  (rnn): RNN(28, 128, num_layers=2, batch_first=True)\n",
            "  (fc): Linear(in_features=128, out_features=10, bias=True)\n",
            ")\n"
          ]
        }
      ]
    },
    {
      "cell_type": "code",
      "source": [
        "n_total_steps = len(train_loader)\n",
        "for epoch in range(num_epochs):\n",
        "    for i, (images, labels) in enumerate(train_loader):  \n",
        "        # origin shape: [N, 1, 28, 28]\n",
        "        # resized: [N, 28, 28]\n",
        "        images = images.reshape(-1, sequence_length, input_size).to(device)\n",
        "        labels = labels.to(device)\n",
        "        \n",
        "        # Forward pass\n",
        "        outputs = model(images)\n",
        "        loss = criterion(outputs, labels)\n",
        "        \n",
        "        # Backward and optimize\n",
        "        optimizer.zero_grad()\n",
        "        loss.backward()\n",
        "        optimizer.step()\n",
        "        \n",
        "        if (i+1) % 100 == 0:\n",
        "            print (f'Epoch [{epoch+1}/{num_epochs}], Step [{i+1}/{n_total_steps}], Loss: {loss.item():.4f}')\n"
      ],
      "metadata": {
        "colab": {
          "base_uri": "https://localhost:8080/"
        },
        "id": "T7MYhZLgu4nK",
        "outputId": "d7c63638-9508-4e50-cb54-3e5b7aad3a0e"
      },
      "execution_count": 20,
      "outputs": [
        {
          "output_type": "stream",
          "name": "stdout",
          "text": [
            "Epoch [1/2], Step [100/600], Loss: 0.9340\n",
            "Epoch [1/2], Step [200/600], Loss: 0.6535\n",
            "Epoch [1/2], Step [300/600], Loss: 0.7261\n",
            "Epoch [1/2], Step [400/600], Loss: 0.3903\n",
            "Epoch [1/2], Step [500/600], Loss: 0.2809\n",
            "Epoch [1/2], Step [600/600], Loss: 0.4118\n",
            "Epoch [2/2], Step [100/600], Loss: 0.1574\n",
            "Epoch [2/2], Step [200/600], Loss: 0.1281\n",
            "Epoch [2/2], Step [300/600], Loss: 0.2667\n",
            "Epoch [2/2], Step [400/600], Loss: 0.1759\n",
            "Epoch [2/2], Step [500/600], Loss: 0.1247\n",
            "Epoch [2/2], Step [600/600], Loss: 0.1134\n"
          ]
        }
      ]
    },
    {
      "cell_type": "code",
      "source": [
        "# Test the model\n",
        "# In test phase, we don't need to compute gradients (for memory efficiency)\n",
        "with torch.no_grad():\n",
        "    n_correct = 0\n",
        "    n_samples = 0\n",
        "    for images, labels in test_loader:\n",
        "        images = images.reshape(-1, sequence_length, input_size).to(device)\n",
        "        labels = labels.to(device)\n",
        "        outputs = model(images)\n",
        "        # max returns (value ,index)\n",
        "        _, predicted = torch.max(outputs.data, 1)\n",
        "        n_samples += labels.size(0)\n",
        "        n_correct += (predicted == labels).sum().item()\n",
        "\n",
        "    acc = 100.0 * n_correct / n_samples\n",
        "    print(f'Accuracy of the network on the 10000 test images: {acc} %')"
      ],
      "metadata": {
        "colab": {
          "base_uri": "https://localhost:8080/"
        },
        "id": "sA-f1S3nuQCd",
        "outputId": "693bf468-a762-4825-d794-d781c0c58459"
      },
      "execution_count": 21,
      "outputs": [
        {
          "output_type": "stream",
          "name": "stdout",
          "text": [
            "Accuracy of the network on the 10000 test images: 94.48 %\n"
          ]
        }
      ]
    }
  ]
}